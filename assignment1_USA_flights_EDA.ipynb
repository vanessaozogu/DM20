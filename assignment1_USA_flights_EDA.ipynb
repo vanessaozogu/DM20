{
  "cells": [
    {
      "cell_type": "markdown",
      "metadata": {
        "id": "view-in-github",
        "colab_type": "text"
      },
      "source": [
        "<a href=\"https://colab.research.google.com/github/vanessaozogu/DM20/blob/master/assignment1_USA_flights_EDA.ipynb\" target=\"_parent\"><img src=\"https://colab.research.google.com/assets/colab-badge.svg\" alt=\"Open In Colab\"/></a>"
      ]
    },
    {
      "cell_type": "markdown",
      "metadata": {
        "id": "H122bmXJ3WQX"
      },
      "source": [
        "<a href='https://www.altschoolafrica.com/'> <h2> Python for Data Engineering </h2></a>\n",
        "\n",
        "\n",
        "# <center> CAPSTONE PROJECT 1 <br> \n",
        "\n",
        "## <center>Exploratory Data Analysis (EDA) of US flights <br> (using Pandas, Matplotlib & Seaborn)\n",
        "\n",
        "<img src='altschool.jpeg' width=50%>\n"
      ]
    },
    {
      "cell_type": "code",
      "execution_count": 1,
      "metadata": {
        "id": "JQkxe8993WQZ"
      },
      "outputs": [],
      "source": [
        "import numpy as np\n",
        "import pandas as pd\n",
        "# pip install seaborn \n",
        "import seaborn as sns\n",
        "import matplotlib.pyplot as plt"
      ]
    },
    {
      "cell_type": "markdown",
      "metadata": {
        "id": "P9hu5xwi3WQa"
      },
      "source": [
        "Consider the following terms we use:\n",
        "* unique flight - a record (row) in the dataset\n",
        "* completed flight = flight that is not cancelled (Cancelled==0 in the dataset)\n",
        "* flight code - a combination of ['UniqueCarrier','FlightNum'], i.e.  UA52\n",
        "* airport code - a three letter airport alias from 'Origin or 'Dest' columns"
      ]
    },
    {
      "cell_type": "markdown",
      "metadata": {
        "id": "_KAXzRgO3WQa"
      },
      "source": [
        "**Reading data into memory and creating a Pandas ``DataFrame`` object**\n",
        "\n",
        "(This may take a while, be patient)\n",
        "\n",
        "We are not going to read in the whole dataset. In order to reduce memory footprint, we instead load only needed columns and cast them to suitable data types.\n",
        "\n",
        "Use this [link](https://dataverse.harvard.edu/api/access/datafile/:persistentId?persistentId=doi:10.7910/DVN/HG7NV7/EIR0RA) to download the dataset and add the path to below to load to pandas. \n",
        "\n",
        "Run all the cell to confirm everything is running and then attempt the questions"
      ]
    },
    {
      "cell_type": "code",
      "execution_count": 2,
      "metadata": {
        "id": "39KfSa6j3WQa"
      },
      "outputs": [],
      "source": [
        "import numpy as np\n",
        "import pandas as pd\n",
        "import matplotlib.pyplot as plt\n",
        "import seaborn as sns\n",
        "import os\n",
        "%matplotlib inline"
      ]
    },
    {
      "cell_type": "code",
      "execution_count": 3,
      "metadata": {
        "id": "osh5d7b53WQa"
      },
      "outputs": [],
      "source": [
        "dtype = {'DayOfWeek': np.uint8, 'DayofMonth': np.uint8, 'Month': np.uint8 , \n",
        "         'Cancelled': np.uint8, 'Year': np.uint16, 'FlightNum': np.uint16 , \n",
        "         'Distance': np.uint16, 'UniqueCarrier': str, 'CancellationCode': str, \n",
        "         'Origin': str, 'Dest': str, 'ArrDelay': np.float16, \n",
        "         'DepDelay': np.float16, 'CarrierDelay': np.float16, \n",
        "         'WeatherDelay': np.float16, 'NASDelay': np.float16, \n",
        "         'SecurityDelay': np.float16, 'LateAircraftDelay': np.float16, \n",
        "         'DepTime': np.float16}"
      ]
    },
    {
      "cell_type": "code",
      "execution_count": 4,
      "metadata": {
        "colab": {
          "base_uri": "https://localhost:8080/"
        },
        "id": "cSXmZH0q3WQb",
        "outputId": "cf326fea-f36a-4347-e7ea-7ae18662776c"
      },
      "outputs": [
        {
          "output_type": "stream",
          "name": "stdout",
          "text": [
            "CPU times: user 15.1 s, sys: 534 ms, total: 15.6 s\n",
            "Wall time: 15.7 s\n"
          ]
        }
      ],
      "source": [
        "%%time\n",
        "# change the path if needed\n",
        "path = \"/content/2008.csv.bz2\"\n",
        "flights_df = pd.read_csv(path, usecols=dtype.keys(), dtype=dtype)"
      ]
    },
    {
      "cell_type": "markdown",
      "metadata": {
        "id": "_6J3UbqU3WQc"
      },
      "source": [
        "**Check the number of rows and columns and print column names.**"
      ]
    },
    {
      "cell_type": "code",
      "execution_count": 5,
      "metadata": {
        "colab": {
          "base_uri": "https://localhost:8080/"
        },
        "id": "8BRZR4FA3WQc",
        "outputId": "b0e25b4c-dd0a-4073-9130-e6e8cc6e5457"
      },
      "outputs": [
        {
          "output_type": "stream",
          "name": "stdout",
          "text": [
            "(2389217, 19)\n",
            "Index(['Year', 'Month', 'DayofMonth', 'DayOfWeek', 'DepTime', 'UniqueCarrier',\n",
            "       'FlightNum', 'ArrDelay', 'DepDelay', 'Origin', 'Dest', 'Distance',\n",
            "       'Cancelled', 'CancellationCode', 'CarrierDelay', 'WeatherDelay',\n",
            "       'NASDelay', 'SecurityDelay', 'LateAircraftDelay'],\n",
            "      dtype='object')\n"
          ]
        }
      ],
      "source": [
        "print(flights_df.shape)\n",
        "print(flights_df.columns)"
      ]
    },
    {
      "cell_type": "markdown",
      "metadata": {
        "id": "m12uMFO23WQc"
      },
      "source": [
        "**Print first 5 rows of the dataset.**"
      ]
    },
    {
      "cell_type": "code",
      "execution_count": 6,
      "metadata": {
        "colab": {
          "base_uri": "https://localhost:8080/",
          "height": 270
        },
        "id": "ihApb5Rt3WQc",
        "outputId": "0983e5b5-7855-421a-ea6f-897040901eb4"
      },
      "outputs": [
        {
          "output_type": "execute_result",
          "data": {
            "text/plain": [
              "   Year  Month  DayofMonth  DayOfWeek  DepTime UniqueCarrier  FlightNum  \\\n",
              "0  2008      1           3          4   1343.0            WN        588   \n",
              "1  2008      1           3          4   1125.0            WN       1343   \n",
              "2  2008      1           3          4   2009.0            WN       3841   \n",
              "3  2008      1           3          4    903.0            WN          3   \n",
              "4  2008      1           3          4   1423.0            WN         25   \n",
              "\n",
              "   ArrDelay  DepDelay Origin Dest  Distance  Cancelled CancellationCode  \\\n",
              "0      16.0      18.0    HOU  LIT       393          0              NaN   \n",
              "1       2.0       5.0    HOU  MAF       441          0              NaN   \n",
              "2      -4.0      -6.0    HOU  MAF       441          0              NaN   \n",
              "3      -2.0       8.0    HOU  MCO       848          0              NaN   \n",
              "4      16.0      23.0    HOU  MCO       848          0              NaN   \n",
              "\n",
              "   CarrierDelay  WeatherDelay  NASDelay  SecurityDelay  LateAircraftDelay  \n",
              "0          16.0           0.0       0.0            0.0                0.0  \n",
              "1           NaN           NaN       NaN            NaN                NaN  \n",
              "2           NaN           NaN       NaN            NaN                NaN  \n",
              "3           NaN           NaN       NaN            NaN                NaN  \n",
              "4          16.0           0.0       0.0            0.0                0.0  "
            ],
            "text/html": [
              "\n",
              "  <div id=\"df-9444c65e-3642-4dfa-b2a9-ab0fb6bb94fb\">\n",
              "    <div class=\"colab-df-container\">\n",
              "      <div>\n",
              "<style scoped>\n",
              "    .dataframe tbody tr th:only-of-type {\n",
              "        vertical-align: middle;\n",
              "    }\n",
              "\n",
              "    .dataframe tbody tr th {\n",
              "        vertical-align: top;\n",
              "    }\n",
              "\n",
              "    .dataframe thead th {\n",
              "        text-align: right;\n",
              "    }\n",
              "</style>\n",
              "<table border=\"1\" class=\"dataframe\">\n",
              "  <thead>\n",
              "    <tr style=\"text-align: right;\">\n",
              "      <th></th>\n",
              "      <th>Year</th>\n",
              "      <th>Month</th>\n",
              "      <th>DayofMonth</th>\n",
              "      <th>DayOfWeek</th>\n",
              "      <th>DepTime</th>\n",
              "      <th>UniqueCarrier</th>\n",
              "      <th>FlightNum</th>\n",
              "      <th>ArrDelay</th>\n",
              "      <th>DepDelay</th>\n",
              "      <th>Origin</th>\n",
              "      <th>Dest</th>\n",
              "      <th>Distance</th>\n",
              "      <th>Cancelled</th>\n",
              "      <th>CancellationCode</th>\n",
              "      <th>CarrierDelay</th>\n",
              "      <th>WeatherDelay</th>\n",
              "      <th>NASDelay</th>\n",
              "      <th>SecurityDelay</th>\n",
              "      <th>LateAircraftDelay</th>\n",
              "    </tr>\n",
              "  </thead>\n",
              "  <tbody>\n",
              "    <tr>\n",
              "      <th>0</th>\n",
              "      <td>2008</td>\n",
              "      <td>1</td>\n",
              "      <td>3</td>\n",
              "      <td>4</td>\n",
              "      <td>1343.0</td>\n",
              "      <td>WN</td>\n",
              "      <td>588</td>\n",
              "      <td>16.0</td>\n",
              "      <td>18.0</td>\n",
              "      <td>HOU</td>\n",
              "      <td>LIT</td>\n",
              "      <td>393</td>\n",
              "      <td>0</td>\n",
              "      <td>NaN</td>\n",
              "      <td>16.0</td>\n",
              "      <td>0.0</td>\n",
              "      <td>0.0</td>\n",
              "      <td>0.0</td>\n",
              "      <td>0.0</td>\n",
              "    </tr>\n",
              "    <tr>\n",
              "      <th>1</th>\n",
              "      <td>2008</td>\n",
              "      <td>1</td>\n",
              "      <td>3</td>\n",
              "      <td>4</td>\n",
              "      <td>1125.0</td>\n",
              "      <td>WN</td>\n",
              "      <td>1343</td>\n",
              "      <td>2.0</td>\n",
              "      <td>5.0</td>\n",
              "      <td>HOU</td>\n",
              "      <td>MAF</td>\n",
              "      <td>441</td>\n",
              "      <td>0</td>\n",
              "      <td>NaN</td>\n",
              "      <td>NaN</td>\n",
              "      <td>NaN</td>\n",
              "      <td>NaN</td>\n",
              "      <td>NaN</td>\n",
              "      <td>NaN</td>\n",
              "    </tr>\n",
              "    <tr>\n",
              "      <th>2</th>\n",
              "      <td>2008</td>\n",
              "      <td>1</td>\n",
              "      <td>3</td>\n",
              "      <td>4</td>\n",
              "      <td>2009.0</td>\n",
              "      <td>WN</td>\n",
              "      <td>3841</td>\n",
              "      <td>-4.0</td>\n",
              "      <td>-6.0</td>\n",
              "      <td>HOU</td>\n",
              "      <td>MAF</td>\n",
              "      <td>441</td>\n",
              "      <td>0</td>\n",
              "      <td>NaN</td>\n",
              "      <td>NaN</td>\n",
              "      <td>NaN</td>\n",
              "      <td>NaN</td>\n",
              "      <td>NaN</td>\n",
              "      <td>NaN</td>\n",
              "    </tr>\n",
              "    <tr>\n",
              "      <th>3</th>\n",
              "      <td>2008</td>\n",
              "      <td>1</td>\n",
              "      <td>3</td>\n",
              "      <td>4</td>\n",
              "      <td>903.0</td>\n",
              "      <td>WN</td>\n",
              "      <td>3</td>\n",
              "      <td>-2.0</td>\n",
              "      <td>8.0</td>\n",
              "      <td>HOU</td>\n",
              "      <td>MCO</td>\n",
              "      <td>848</td>\n",
              "      <td>0</td>\n",
              "      <td>NaN</td>\n",
              "      <td>NaN</td>\n",
              "      <td>NaN</td>\n",
              "      <td>NaN</td>\n",
              "      <td>NaN</td>\n",
              "      <td>NaN</td>\n",
              "    </tr>\n",
              "    <tr>\n",
              "      <th>4</th>\n",
              "      <td>2008</td>\n",
              "      <td>1</td>\n",
              "      <td>3</td>\n",
              "      <td>4</td>\n",
              "      <td>1423.0</td>\n",
              "      <td>WN</td>\n",
              "      <td>25</td>\n",
              "      <td>16.0</td>\n",
              "      <td>23.0</td>\n",
              "      <td>HOU</td>\n",
              "      <td>MCO</td>\n",
              "      <td>848</td>\n",
              "      <td>0</td>\n",
              "      <td>NaN</td>\n",
              "      <td>16.0</td>\n",
              "      <td>0.0</td>\n",
              "      <td>0.0</td>\n",
              "      <td>0.0</td>\n",
              "      <td>0.0</td>\n",
              "    </tr>\n",
              "  </tbody>\n",
              "</table>\n",
              "</div>\n",
              "      <button class=\"colab-df-convert\" onclick=\"convertToInteractive('df-9444c65e-3642-4dfa-b2a9-ab0fb6bb94fb')\"\n",
              "              title=\"Convert this dataframe to an interactive table.\"\n",
              "              style=\"display:none;\">\n",
              "        \n",
              "  <svg xmlns=\"http://www.w3.org/2000/svg\" height=\"24px\"viewBox=\"0 0 24 24\"\n",
              "       width=\"24px\">\n",
              "    <path d=\"M0 0h24v24H0V0z\" fill=\"none\"/>\n",
              "    <path d=\"M18.56 5.44l.94 2.06.94-2.06 2.06-.94-2.06-.94-.94-2.06-.94 2.06-2.06.94zm-11 1L8.5 8.5l.94-2.06 2.06-.94-2.06-.94L8.5 2.5l-.94 2.06-2.06.94zm10 10l.94 2.06.94-2.06 2.06-.94-2.06-.94-.94-2.06-.94 2.06-2.06.94z\"/><path d=\"M17.41 7.96l-1.37-1.37c-.4-.4-.92-.59-1.43-.59-.52 0-1.04.2-1.43.59L10.3 9.45l-7.72 7.72c-.78.78-.78 2.05 0 2.83L4 21.41c.39.39.9.59 1.41.59.51 0 1.02-.2 1.41-.59l7.78-7.78 2.81-2.81c.8-.78.8-2.07 0-2.86zM5.41 20L4 18.59l7.72-7.72 1.47 1.35L5.41 20z\"/>\n",
              "  </svg>\n",
              "      </button>\n",
              "      \n",
              "  <style>\n",
              "    .colab-df-container {\n",
              "      display:flex;\n",
              "      flex-wrap:wrap;\n",
              "      gap: 12px;\n",
              "    }\n",
              "\n",
              "    .colab-df-convert {\n",
              "      background-color: #E8F0FE;\n",
              "      border: none;\n",
              "      border-radius: 50%;\n",
              "      cursor: pointer;\n",
              "      display: none;\n",
              "      fill: #1967D2;\n",
              "      height: 32px;\n",
              "      padding: 0 0 0 0;\n",
              "      width: 32px;\n",
              "    }\n",
              "\n",
              "    .colab-df-convert:hover {\n",
              "      background-color: #E2EBFA;\n",
              "      box-shadow: 0px 1px 2px rgba(60, 64, 67, 0.3), 0px 1px 3px 1px rgba(60, 64, 67, 0.15);\n",
              "      fill: #174EA6;\n",
              "    }\n",
              "\n",
              "    [theme=dark] .colab-df-convert {\n",
              "      background-color: #3B4455;\n",
              "      fill: #D2E3FC;\n",
              "    }\n",
              "\n",
              "    [theme=dark] .colab-df-convert:hover {\n",
              "      background-color: #434B5C;\n",
              "      box-shadow: 0px 1px 3px 1px rgba(0, 0, 0, 0.15);\n",
              "      filter: drop-shadow(0px 1px 2px rgba(0, 0, 0, 0.3));\n",
              "      fill: #FFFFFF;\n",
              "    }\n",
              "  </style>\n",
              "\n",
              "      <script>\n",
              "        const buttonEl =\n",
              "          document.querySelector('#df-9444c65e-3642-4dfa-b2a9-ab0fb6bb94fb button.colab-df-convert');\n",
              "        buttonEl.style.display =\n",
              "          google.colab.kernel.accessAllowed ? 'block' : 'none';\n",
              "\n",
              "        async function convertToInteractive(key) {\n",
              "          const element = document.querySelector('#df-9444c65e-3642-4dfa-b2a9-ab0fb6bb94fb');\n",
              "          const dataTable =\n",
              "            await google.colab.kernel.invokeFunction('convertToInteractive',\n",
              "                                                     [key], {});\n",
              "          if (!dataTable) return;\n",
              "\n",
              "          const docLinkHtml = 'Like what you see? Visit the ' +\n",
              "            '<a target=\"_blank\" href=https://colab.research.google.com/notebooks/data_table.ipynb>data table notebook</a>'\n",
              "            + ' to learn more about interactive tables.';\n",
              "          element.innerHTML = '';\n",
              "          dataTable['output_type'] = 'display_data';\n",
              "          await google.colab.output.renderOutput(dataTable, element);\n",
              "          const docLink = document.createElement('div');\n",
              "          docLink.innerHTML = docLinkHtml;\n",
              "          element.appendChild(docLink);\n",
              "        }\n",
              "      </script>\n",
              "    </div>\n",
              "  </div>\n",
              "  "
            ]
          },
          "metadata": {},
          "execution_count": 6
        }
      ],
      "source": [
        "flights_df.head()"
      ]
    },
    {
      "cell_type": "markdown",
      "metadata": {
        "id": "6thEHlzy3WQc"
      },
      "source": [
        "**Transpose the frame to see all features at once.**"
      ]
    },
    {
      "cell_type": "code",
      "execution_count": 7,
      "metadata": {
        "colab": {
          "base_uri": "https://localhost:8080/",
          "height": 645
        },
        "id": "Ctv_Uysw3WQc",
        "outputId": "1858d760-364f-4a4f-f1de-e702db93fcad"
      },
      "outputs": [
        {
          "output_type": "execute_result",
          "data": {
            "text/plain": [
              "                        0       1       2      3       4\n",
              "Year                 2008    2008    2008   2008    2008\n",
              "Month                   1       1       1      1       1\n",
              "DayofMonth              3       3       3      3       3\n",
              "DayOfWeek               4       4       4      4       4\n",
              "DepTime            1343.0  1125.0  2009.0  903.0  1423.0\n",
              "UniqueCarrier          WN      WN      WN     WN      WN\n",
              "FlightNum             588    1343    3841      3      25\n",
              "ArrDelay             16.0     2.0    -4.0   -2.0    16.0\n",
              "DepDelay             18.0     5.0    -6.0    8.0    23.0\n",
              "Origin                HOU     HOU     HOU    HOU     HOU\n",
              "Dest                  LIT     MAF     MAF    MCO     MCO\n",
              "Distance              393     441     441    848     848\n",
              "Cancelled               0       0       0      0       0\n",
              "CancellationCode      NaN     NaN     NaN    NaN     NaN\n",
              "CarrierDelay         16.0     NaN     NaN    NaN    16.0\n",
              "WeatherDelay          0.0     NaN     NaN    NaN     0.0\n",
              "NASDelay              0.0     NaN     NaN    NaN     0.0\n",
              "SecurityDelay         0.0     NaN     NaN    NaN     0.0\n",
              "LateAircraftDelay     0.0     NaN     NaN    NaN     0.0"
            ],
            "text/html": [
              "\n",
              "  <div id=\"df-4939ca59-1099-4c05-8790-ca71cfa81c72\">\n",
              "    <div class=\"colab-df-container\">\n",
              "      <div>\n",
              "<style scoped>\n",
              "    .dataframe tbody tr th:only-of-type {\n",
              "        vertical-align: middle;\n",
              "    }\n",
              "\n",
              "    .dataframe tbody tr th {\n",
              "        vertical-align: top;\n",
              "    }\n",
              "\n",
              "    .dataframe thead th {\n",
              "        text-align: right;\n",
              "    }\n",
              "</style>\n",
              "<table border=\"1\" class=\"dataframe\">\n",
              "  <thead>\n",
              "    <tr style=\"text-align: right;\">\n",
              "      <th></th>\n",
              "      <th>0</th>\n",
              "      <th>1</th>\n",
              "      <th>2</th>\n",
              "      <th>3</th>\n",
              "      <th>4</th>\n",
              "    </tr>\n",
              "  </thead>\n",
              "  <tbody>\n",
              "    <tr>\n",
              "      <th>Year</th>\n",
              "      <td>2008</td>\n",
              "      <td>2008</td>\n",
              "      <td>2008</td>\n",
              "      <td>2008</td>\n",
              "      <td>2008</td>\n",
              "    </tr>\n",
              "    <tr>\n",
              "      <th>Month</th>\n",
              "      <td>1</td>\n",
              "      <td>1</td>\n",
              "      <td>1</td>\n",
              "      <td>1</td>\n",
              "      <td>1</td>\n",
              "    </tr>\n",
              "    <tr>\n",
              "      <th>DayofMonth</th>\n",
              "      <td>3</td>\n",
              "      <td>3</td>\n",
              "      <td>3</td>\n",
              "      <td>3</td>\n",
              "      <td>3</td>\n",
              "    </tr>\n",
              "    <tr>\n",
              "      <th>DayOfWeek</th>\n",
              "      <td>4</td>\n",
              "      <td>4</td>\n",
              "      <td>4</td>\n",
              "      <td>4</td>\n",
              "      <td>4</td>\n",
              "    </tr>\n",
              "    <tr>\n",
              "      <th>DepTime</th>\n",
              "      <td>1343.0</td>\n",
              "      <td>1125.0</td>\n",
              "      <td>2009.0</td>\n",
              "      <td>903.0</td>\n",
              "      <td>1423.0</td>\n",
              "    </tr>\n",
              "    <tr>\n",
              "      <th>UniqueCarrier</th>\n",
              "      <td>WN</td>\n",
              "      <td>WN</td>\n",
              "      <td>WN</td>\n",
              "      <td>WN</td>\n",
              "      <td>WN</td>\n",
              "    </tr>\n",
              "    <tr>\n",
              "      <th>FlightNum</th>\n",
              "      <td>588</td>\n",
              "      <td>1343</td>\n",
              "      <td>3841</td>\n",
              "      <td>3</td>\n",
              "      <td>25</td>\n",
              "    </tr>\n",
              "    <tr>\n",
              "      <th>ArrDelay</th>\n",
              "      <td>16.0</td>\n",
              "      <td>2.0</td>\n",
              "      <td>-4.0</td>\n",
              "      <td>-2.0</td>\n",
              "      <td>16.0</td>\n",
              "    </tr>\n",
              "    <tr>\n",
              "      <th>DepDelay</th>\n",
              "      <td>18.0</td>\n",
              "      <td>5.0</td>\n",
              "      <td>-6.0</td>\n",
              "      <td>8.0</td>\n",
              "      <td>23.0</td>\n",
              "    </tr>\n",
              "    <tr>\n",
              "      <th>Origin</th>\n",
              "      <td>HOU</td>\n",
              "      <td>HOU</td>\n",
              "      <td>HOU</td>\n",
              "      <td>HOU</td>\n",
              "      <td>HOU</td>\n",
              "    </tr>\n",
              "    <tr>\n",
              "      <th>Dest</th>\n",
              "      <td>LIT</td>\n",
              "      <td>MAF</td>\n",
              "      <td>MAF</td>\n",
              "      <td>MCO</td>\n",
              "      <td>MCO</td>\n",
              "    </tr>\n",
              "    <tr>\n",
              "      <th>Distance</th>\n",
              "      <td>393</td>\n",
              "      <td>441</td>\n",
              "      <td>441</td>\n",
              "      <td>848</td>\n",
              "      <td>848</td>\n",
              "    </tr>\n",
              "    <tr>\n",
              "      <th>Cancelled</th>\n",
              "      <td>0</td>\n",
              "      <td>0</td>\n",
              "      <td>0</td>\n",
              "      <td>0</td>\n",
              "      <td>0</td>\n",
              "    </tr>\n",
              "    <tr>\n",
              "      <th>CancellationCode</th>\n",
              "      <td>NaN</td>\n",
              "      <td>NaN</td>\n",
              "      <td>NaN</td>\n",
              "      <td>NaN</td>\n",
              "      <td>NaN</td>\n",
              "    </tr>\n",
              "    <tr>\n",
              "      <th>CarrierDelay</th>\n",
              "      <td>16.0</td>\n",
              "      <td>NaN</td>\n",
              "      <td>NaN</td>\n",
              "      <td>NaN</td>\n",
              "      <td>16.0</td>\n",
              "    </tr>\n",
              "    <tr>\n",
              "      <th>WeatherDelay</th>\n",
              "      <td>0.0</td>\n",
              "      <td>NaN</td>\n",
              "      <td>NaN</td>\n",
              "      <td>NaN</td>\n",
              "      <td>0.0</td>\n",
              "    </tr>\n",
              "    <tr>\n",
              "      <th>NASDelay</th>\n",
              "      <td>0.0</td>\n",
              "      <td>NaN</td>\n",
              "      <td>NaN</td>\n",
              "      <td>NaN</td>\n",
              "      <td>0.0</td>\n",
              "    </tr>\n",
              "    <tr>\n",
              "      <th>SecurityDelay</th>\n",
              "      <td>0.0</td>\n",
              "      <td>NaN</td>\n",
              "      <td>NaN</td>\n",
              "      <td>NaN</td>\n",
              "      <td>0.0</td>\n",
              "    </tr>\n",
              "    <tr>\n",
              "      <th>LateAircraftDelay</th>\n",
              "      <td>0.0</td>\n",
              "      <td>NaN</td>\n",
              "      <td>NaN</td>\n",
              "      <td>NaN</td>\n",
              "      <td>0.0</td>\n",
              "    </tr>\n",
              "  </tbody>\n",
              "</table>\n",
              "</div>\n",
              "      <button class=\"colab-df-convert\" onclick=\"convertToInteractive('df-4939ca59-1099-4c05-8790-ca71cfa81c72')\"\n",
              "              title=\"Convert this dataframe to an interactive table.\"\n",
              "              style=\"display:none;\">\n",
              "        \n",
              "  <svg xmlns=\"http://www.w3.org/2000/svg\" height=\"24px\"viewBox=\"0 0 24 24\"\n",
              "       width=\"24px\">\n",
              "    <path d=\"M0 0h24v24H0V0z\" fill=\"none\"/>\n",
              "    <path d=\"M18.56 5.44l.94 2.06.94-2.06 2.06-.94-2.06-.94-.94-2.06-.94 2.06-2.06.94zm-11 1L8.5 8.5l.94-2.06 2.06-.94-2.06-.94L8.5 2.5l-.94 2.06-2.06.94zm10 10l.94 2.06.94-2.06 2.06-.94-2.06-.94-.94-2.06-.94 2.06-2.06.94z\"/><path d=\"M17.41 7.96l-1.37-1.37c-.4-.4-.92-.59-1.43-.59-.52 0-1.04.2-1.43.59L10.3 9.45l-7.72 7.72c-.78.78-.78 2.05 0 2.83L4 21.41c.39.39.9.59 1.41.59.51 0 1.02-.2 1.41-.59l7.78-7.78 2.81-2.81c.8-.78.8-2.07 0-2.86zM5.41 20L4 18.59l7.72-7.72 1.47 1.35L5.41 20z\"/>\n",
              "  </svg>\n",
              "      </button>\n",
              "      \n",
              "  <style>\n",
              "    .colab-df-container {\n",
              "      display:flex;\n",
              "      flex-wrap:wrap;\n",
              "      gap: 12px;\n",
              "    }\n",
              "\n",
              "    .colab-df-convert {\n",
              "      background-color: #E8F0FE;\n",
              "      border: none;\n",
              "      border-radius: 50%;\n",
              "      cursor: pointer;\n",
              "      display: none;\n",
              "      fill: #1967D2;\n",
              "      height: 32px;\n",
              "      padding: 0 0 0 0;\n",
              "      width: 32px;\n",
              "    }\n",
              "\n",
              "    .colab-df-convert:hover {\n",
              "      background-color: #E2EBFA;\n",
              "      box-shadow: 0px 1px 2px rgba(60, 64, 67, 0.3), 0px 1px 3px 1px rgba(60, 64, 67, 0.15);\n",
              "      fill: #174EA6;\n",
              "    }\n",
              "\n",
              "    [theme=dark] .colab-df-convert {\n",
              "      background-color: #3B4455;\n",
              "      fill: #D2E3FC;\n",
              "    }\n",
              "\n",
              "    [theme=dark] .colab-df-convert:hover {\n",
              "      background-color: #434B5C;\n",
              "      box-shadow: 0px 1px 3px 1px rgba(0, 0, 0, 0.15);\n",
              "      filter: drop-shadow(0px 1px 2px rgba(0, 0, 0, 0.3));\n",
              "      fill: #FFFFFF;\n",
              "    }\n",
              "  </style>\n",
              "\n",
              "      <script>\n",
              "        const buttonEl =\n",
              "          document.querySelector('#df-4939ca59-1099-4c05-8790-ca71cfa81c72 button.colab-df-convert');\n",
              "        buttonEl.style.display =\n",
              "          google.colab.kernel.accessAllowed ? 'block' : 'none';\n",
              "\n",
              "        async function convertToInteractive(key) {\n",
              "          const element = document.querySelector('#df-4939ca59-1099-4c05-8790-ca71cfa81c72');\n",
              "          const dataTable =\n",
              "            await google.colab.kernel.invokeFunction('convertToInteractive',\n",
              "                                                     [key], {});\n",
              "          if (!dataTable) return;\n",
              "\n",
              "          const docLinkHtml = 'Like what you see? Visit the ' +\n",
              "            '<a target=\"_blank\" href=https://colab.research.google.com/notebooks/data_table.ipynb>data table notebook</a>'\n",
              "            + ' to learn more about interactive tables.';\n",
              "          element.innerHTML = '';\n",
              "          dataTable['output_type'] = 'display_data';\n",
              "          await google.colab.output.renderOutput(dataTable, element);\n",
              "          const docLink = document.createElement('div');\n",
              "          docLink.innerHTML = docLinkHtml;\n",
              "          element.appendChild(docLink);\n",
              "        }\n",
              "      </script>\n",
              "    </div>\n",
              "  </div>\n",
              "  "
            ]
          },
          "metadata": {},
          "execution_count": 7
        }
      ],
      "source": [
        "flights_df.head().T"
      ]
    },
    {
      "cell_type": "markdown",
      "metadata": {
        "id": "BIdE7hoY3WQd"
      },
      "source": [
        "**Examine data types of all features and total dataframe size in memory.**"
      ]
    },
    {
      "cell_type": "code",
      "execution_count": 8,
      "metadata": {
        "id": "C84ujwiG3WQd"
      },
      "outputs": [],
      "source": [
        "miss_percent = 100 * (flights_df.isnull().sum()/len(flights_df))"
      ]
    },
    {
      "cell_type": "code",
      "execution_count": null,
      "metadata": {
        "id": "GnBSUueN3WQd",
        "outputId": "14c125b3-9e9e-4441-e6f6-5b9dc930c7a5"
      },
      "outputs": [
        {
          "data": {
            "text/plain": [
              "Year                  0.000000\n",
              "Month                 0.000000\n",
              "DayofMonth            0.000000\n",
              "DayOfWeek             0.000000\n",
              "DepTime               2.697202\n",
              "UniqueCarrier         0.000000\n",
              "FlightNum             0.000000\n",
              "ArrDelay              2.933848\n",
              "DepDelay              2.697202\n",
              "Origin                0.000000\n",
              "Dest                  0.000000\n",
              "Distance              0.000000\n",
              "Cancelled             0.000000\n",
              "CancellationCode     97.302798\n",
              "CarrierDelay         75.532444\n",
              "WeatherDelay         75.532444\n",
              "NASDelay             75.532444\n",
              "SecurityDelay        75.532444\n",
              "LateAircraftDelay    75.532444\n",
              "dtype: float64"
            ]
          },
          "execution_count": 9,
          "metadata": {},
          "output_type": "execute_result"
        }
      ],
      "source": [
        "miss_percent"
      ]
    },
    {
      "cell_type": "markdown",
      "metadata": {
        "id": "iOfhCORo3WQd"
      },
      "source": [
        "**Get basic statistics of each feature.**"
      ]
    },
    {
      "cell_type": "code",
      "execution_count": 9,
      "metadata": {
        "id": "u_DC3JIT3WQd",
        "outputId": "5bb62441-cccd-422b-e0e7-bc68545400d9",
        "colab": {
          "base_uri": "https://localhost:8080/",
          "height": 520
        }
      },
      "outputs": [
        {
          "output_type": "execute_result",
          "data": {
            "text/plain": [
              "                       count         mean          std     min     25%  \\\n",
              "Year               2389217.0  2008.000000     0.000000  2008.0  2008.0   \n",
              "Month              2389217.0     2.505009     1.121493     1.0     1.0   \n",
              "DayofMonth         2389217.0    15.663856     8.750405     1.0     8.0   \n",
              "DayOfWeek          2389217.0     3.909625     1.980431     1.0     2.0   \n",
              "DepTime            2324775.0          NaN          NaN     1.0   930.0   \n",
              "FlightNum          2389217.0  2213.887980  1951.392101     1.0   605.0   \n",
              "ArrDelay           2319121.0          NaN          NaN   -91.0    -9.0   \n",
              "DepDelay           2324775.0          NaN          NaN   -92.0    -4.0   \n",
              "Distance           2389217.0   726.158911   557.176261    17.0   325.0   \n",
              "Cancelled          2389217.0     0.026972     0.162002     0.0     0.0   \n",
              "CarrierDelay        584583.0          NaN          NaN     0.0     0.0   \n",
              "WeatherDelay        584583.0          NaN          NaN     0.0     0.0   \n",
              "NASDelay            584583.0          NaN          NaN     0.0     0.0   \n",
              "SecurityDelay       584583.0     0.000000          NaN     0.0     0.0   \n",
              "LateAircraftDelay   584583.0          NaN          NaN     0.0     0.0   \n",
              "\n",
              "                      50%     75%     max  \n",
              "Year               2008.0  2008.0  2008.0  \n",
              "Month                 3.0     4.0     4.0  \n",
              "DayofMonth           16.0    23.0    31.0  \n",
              "DayOfWeek             4.0     6.0     7.0  \n",
              "DepTime            1330.0  1733.0  2400.0  \n",
              "FlightNum          1544.0  3631.0  9741.0  \n",
              "ArrDelay              0.0    15.0  2460.0  \n",
              "DepDelay              0.0    11.0  2468.0  \n",
              "Distance            583.0   957.0  4962.0  \n",
              "Cancelled             0.0     0.0     1.0  \n",
              "CarrierDelay          0.0    16.0  2436.0  \n",
              "WeatherDelay          0.0     0.0  1148.0  \n",
              "NASDelay              5.0    20.0  1357.0  \n",
              "SecurityDelay         0.0     0.0   392.0  \n",
              "LateAircraftDelay     0.0    27.0  1254.0  "
            ],
            "text/html": [
              "\n",
              "  <div id=\"df-46813a43-b1cc-40d5-9114-497e7f3f935b\">\n",
              "    <div class=\"colab-df-container\">\n",
              "      <div>\n",
              "<style scoped>\n",
              "    .dataframe tbody tr th:only-of-type {\n",
              "        vertical-align: middle;\n",
              "    }\n",
              "\n",
              "    .dataframe tbody tr th {\n",
              "        vertical-align: top;\n",
              "    }\n",
              "\n",
              "    .dataframe thead th {\n",
              "        text-align: right;\n",
              "    }\n",
              "</style>\n",
              "<table border=\"1\" class=\"dataframe\">\n",
              "  <thead>\n",
              "    <tr style=\"text-align: right;\">\n",
              "      <th></th>\n",
              "      <th>count</th>\n",
              "      <th>mean</th>\n",
              "      <th>std</th>\n",
              "      <th>min</th>\n",
              "      <th>25%</th>\n",
              "      <th>50%</th>\n",
              "      <th>75%</th>\n",
              "      <th>max</th>\n",
              "    </tr>\n",
              "  </thead>\n",
              "  <tbody>\n",
              "    <tr>\n",
              "      <th>Year</th>\n",
              "      <td>2389217.0</td>\n",
              "      <td>2008.000000</td>\n",
              "      <td>0.000000</td>\n",
              "      <td>2008.0</td>\n",
              "      <td>2008.0</td>\n",
              "      <td>2008.0</td>\n",
              "      <td>2008.0</td>\n",
              "      <td>2008.0</td>\n",
              "    </tr>\n",
              "    <tr>\n",
              "      <th>Month</th>\n",
              "      <td>2389217.0</td>\n",
              "      <td>2.505009</td>\n",
              "      <td>1.121493</td>\n",
              "      <td>1.0</td>\n",
              "      <td>1.0</td>\n",
              "      <td>3.0</td>\n",
              "      <td>4.0</td>\n",
              "      <td>4.0</td>\n",
              "    </tr>\n",
              "    <tr>\n",
              "      <th>DayofMonth</th>\n",
              "      <td>2389217.0</td>\n",
              "      <td>15.663856</td>\n",
              "      <td>8.750405</td>\n",
              "      <td>1.0</td>\n",
              "      <td>8.0</td>\n",
              "      <td>16.0</td>\n",
              "      <td>23.0</td>\n",
              "      <td>31.0</td>\n",
              "    </tr>\n",
              "    <tr>\n",
              "      <th>DayOfWeek</th>\n",
              "      <td>2389217.0</td>\n",
              "      <td>3.909625</td>\n",
              "      <td>1.980431</td>\n",
              "      <td>1.0</td>\n",
              "      <td>2.0</td>\n",
              "      <td>4.0</td>\n",
              "      <td>6.0</td>\n",
              "      <td>7.0</td>\n",
              "    </tr>\n",
              "    <tr>\n",
              "      <th>DepTime</th>\n",
              "      <td>2324775.0</td>\n",
              "      <td>NaN</td>\n",
              "      <td>NaN</td>\n",
              "      <td>1.0</td>\n",
              "      <td>930.0</td>\n",
              "      <td>1330.0</td>\n",
              "      <td>1733.0</td>\n",
              "      <td>2400.0</td>\n",
              "    </tr>\n",
              "    <tr>\n",
              "      <th>FlightNum</th>\n",
              "      <td>2389217.0</td>\n",
              "      <td>2213.887980</td>\n",
              "      <td>1951.392101</td>\n",
              "      <td>1.0</td>\n",
              "      <td>605.0</td>\n",
              "      <td>1544.0</td>\n",
              "      <td>3631.0</td>\n",
              "      <td>9741.0</td>\n",
              "    </tr>\n",
              "    <tr>\n",
              "      <th>ArrDelay</th>\n",
              "      <td>2319121.0</td>\n",
              "      <td>NaN</td>\n",
              "      <td>NaN</td>\n",
              "      <td>-91.0</td>\n",
              "      <td>-9.0</td>\n",
              "      <td>0.0</td>\n",
              "      <td>15.0</td>\n",
              "      <td>2460.0</td>\n",
              "    </tr>\n",
              "    <tr>\n",
              "      <th>DepDelay</th>\n",
              "      <td>2324775.0</td>\n",
              "      <td>NaN</td>\n",
              "      <td>NaN</td>\n",
              "      <td>-92.0</td>\n",
              "      <td>-4.0</td>\n",
              "      <td>0.0</td>\n",
              "      <td>11.0</td>\n",
              "      <td>2468.0</td>\n",
              "    </tr>\n",
              "    <tr>\n",
              "      <th>Distance</th>\n",
              "      <td>2389217.0</td>\n",
              "      <td>726.158911</td>\n",
              "      <td>557.176261</td>\n",
              "      <td>17.0</td>\n",
              "      <td>325.0</td>\n",
              "      <td>583.0</td>\n",
              "      <td>957.0</td>\n",
              "      <td>4962.0</td>\n",
              "    </tr>\n",
              "    <tr>\n",
              "      <th>Cancelled</th>\n",
              "      <td>2389217.0</td>\n",
              "      <td>0.026972</td>\n",
              "      <td>0.162002</td>\n",
              "      <td>0.0</td>\n",
              "      <td>0.0</td>\n",
              "      <td>0.0</td>\n",
              "      <td>0.0</td>\n",
              "      <td>1.0</td>\n",
              "    </tr>\n",
              "    <tr>\n",
              "      <th>CarrierDelay</th>\n",
              "      <td>584583.0</td>\n",
              "      <td>NaN</td>\n",
              "      <td>NaN</td>\n",
              "      <td>0.0</td>\n",
              "      <td>0.0</td>\n",
              "      <td>0.0</td>\n",
              "      <td>16.0</td>\n",
              "      <td>2436.0</td>\n",
              "    </tr>\n",
              "    <tr>\n",
              "      <th>WeatherDelay</th>\n",
              "      <td>584583.0</td>\n",
              "      <td>NaN</td>\n",
              "      <td>NaN</td>\n",
              "      <td>0.0</td>\n",
              "      <td>0.0</td>\n",
              "      <td>0.0</td>\n",
              "      <td>0.0</td>\n",
              "      <td>1148.0</td>\n",
              "    </tr>\n",
              "    <tr>\n",
              "      <th>NASDelay</th>\n",
              "      <td>584583.0</td>\n",
              "      <td>NaN</td>\n",
              "      <td>NaN</td>\n",
              "      <td>0.0</td>\n",
              "      <td>0.0</td>\n",
              "      <td>5.0</td>\n",
              "      <td>20.0</td>\n",
              "      <td>1357.0</td>\n",
              "    </tr>\n",
              "    <tr>\n",
              "      <th>SecurityDelay</th>\n",
              "      <td>584583.0</td>\n",
              "      <td>0.000000</td>\n",
              "      <td>NaN</td>\n",
              "      <td>0.0</td>\n",
              "      <td>0.0</td>\n",
              "      <td>0.0</td>\n",
              "      <td>0.0</td>\n",
              "      <td>392.0</td>\n",
              "    </tr>\n",
              "    <tr>\n",
              "      <th>LateAircraftDelay</th>\n",
              "      <td>584583.0</td>\n",
              "      <td>NaN</td>\n",
              "      <td>NaN</td>\n",
              "      <td>0.0</td>\n",
              "      <td>0.0</td>\n",
              "      <td>0.0</td>\n",
              "      <td>27.0</td>\n",
              "      <td>1254.0</td>\n",
              "    </tr>\n",
              "  </tbody>\n",
              "</table>\n",
              "</div>\n",
              "      <button class=\"colab-df-convert\" onclick=\"convertToInteractive('df-46813a43-b1cc-40d5-9114-497e7f3f935b')\"\n",
              "              title=\"Convert this dataframe to an interactive table.\"\n",
              "              style=\"display:none;\">\n",
              "        \n",
              "  <svg xmlns=\"http://www.w3.org/2000/svg\" height=\"24px\"viewBox=\"0 0 24 24\"\n",
              "       width=\"24px\">\n",
              "    <path d=\"M0 0h24v24H0V0z\" fill=\"none\"/>\n",
              "    <path d=\"M18.56 5.44l.94 2.06.94-2.06 2.06-.94-2.06-.94-.94-2.06-.94 2.06-2.06.94zm-11 1L8.5 8.5l.94-2.06 2.06-.94-2.06-.94L8.5 2.5l-.94 2.06-2.06.94zm10 10l.94 2.06.94-2.06 2.06-.94-2.06-.94-.94-2.06-.94 2.06-2.06.94z\"/><path d=\"M17.41 7.96l-1.37-1.37c-.4-.4-.92-.59-1.43-.59-.52 0-1.04.2-1.43.59L10.3 9.45l-7.72 7.72c-.78.78-.78 2.05 0 2.83L4 21.41c.39.39.9.59 1.41.59.51 0 1.02-.2 1.41-.59l7.78-7.78 2.81-2.81c.8-.78.8-2.07 0-2.86zM5.41 20L4 18.59l7.72-7.72 1.47 1.35L5.41 20z\"/>\n",
              "  </svg>\n",
              "      </button>\n",
              "      \n",
              "  <style>\n",
              "    .colab-df-container {\n",
              "      display:flex;\n",
              "      flex-wrap:wrap;\n",
              "      gap: 12px;\n",
              "    }\n",
              "\n",
              "    .colab-df-convert {\n",
              "      background-color: #E8F0FE;\n",
              "      border: none;\n",
              "      border-radius: 50%;\n",
              "      cursor: pointer;\n",
              "      display: none;\n",
              "      fill: #1967D2;\n",
              "      height: 32px;\n",
              "      padding: 0 0 0 0;\n",
              "      width: 32px;\n",
              "    }\n",
              "\n",
              "    .colab-df-convert:hover {\n",
              "      background-color: #E2EBFA;\n",
              "      box-shadow: 0px 1px 2px rgba(60, 64, 67, 0.3), 0px 1px 3px 1px rgba(60, 64, 67, 0.15);\n",
              "      fill: #174EA6;\n",
              "    }\n",
              "\n",
              "    [theme=dark] .colab-df-convert {\n",
              "      background-color: #3B4455;\n",
              "      fill: #D2E3FC;\n",
              "    }\n",
              "\n",
              "    [theme=dark] .colab-df-convert:hover {\n",
              "      background-color: #434B5C;\n",
              "      box-shadow: 0px 1px 3px 1px rgba(0, 0, 0, 0.15);\n",
              "      filter: drop-shadow(0px 1px 2px rgba(0, 0, 0, 0.3));\n",
              "      fill: #FFFFFF;\n",
              "    }\n",
              "  </style>\n",
              "\n",
              "      <script>\n",
              "        const buttonEl =\n",
              "          document.querySelector('#df-46813a43-b1cc-40d5-9114-497e7f3f935b button.colab-df-convert');\n",
              "        buttonEl.style.display =\n",
              "          google.colab.kernel.accessAllowed ? 'block' : 'none';\n",
              "\n",
              "        async function convertToInteractive(key) {\n",
              "          const element = document.querySelector('#df-46813a43-b1cc-40d5-9114-497e7f3f935b');\n",
              "          const dataTable =\n",
              "            await google.colab.kernel.invokeFunction('convertToInteractive',\n",
              "                                                     [key], {});\n",
              "          if (!dataTable) return;\n",
              "\n",
              "          const docLinkHtml = 'Like what you see? Visit the ' +\n",
              "            '<a target=\"_blank\" href=https://colab.research.google.com/notebooks/data_table.ipynb>data table notebook</a>'\n",
              "            + ' to learn more about interactive tables.';\n",
              "          element.innerHTML = '';\n",
              "          dataTable['output_type'] = 'display_data';\n",
              "          await google.colab.output.renderOutput(dataTable, element);\n",
              "          const docLink = document.createElement('div');\n",
              "          docLink.innerHTML = docLinkHtml;\n",
              "          element.appendChild(docLink);\n",
              "        }\n",
              "      </script>\n",
              "    </div>\n",
              "  </div>\n",
              "  "
            ]
          },
          "metadata": {},
          "execution_count": 9
        }
      ],
      "source": [
        "flights_df.describe().T"
      ]
    },
    {
      "cell_type": "markdown",
      "metadata": {
        "id": "xlVMyT9R3WQd"
      },
      "source": [
        "**Count unique Carriers and plot their relative share of flights:**"
      ]
    },
    {
      "cell_type": "code",
      "execution_count": 10,
      "metadata": {
        "id": "wF5M-32D3WQd",
        "outputId": "d3b081d8-a01d-4486-9882-e027de9f41a2",
        "colab": {
          "base_uri": "https://localhost:8080/"
        }
      },
      "outputs": [
        {
          "output_type": "execute_result",
          "data": {
            "text/plain": [
              "20"
            ]
          },
          "metadata": {},
          "execution_count": 10
        }
      ],
      "source": [
        "flights_df['UniqueCarrier'].nunique()"
      ]
    },
    {
      "cell_type": "code",
      "execution_count": 11,
      "metadata": {
        "id": "dKNimVeB3WQd",
        "outputId": "9b29d4bd-0277-4f97-9b1e-63dc6cd4012d",
        "colab": {
          "base_uri": "https://localhost:8080/"
        }
      },
      "outputs": [
        {
          "output_type": "execute_result",
          "data": {
            "text/plain": [
              "UniqueCarrier\n",
              "WN    398966\n",
              "AA    204519\n",
              "OO    195184\n",
              "MQ    167860\n",
              "UA    154036\n",
              "US    153539\n",
              "DL    151409\n",
              "XE    138757\n",
              "NW    122799\n",
              "CO    102702\n",
              "EV     92383\n",
              "9E     88359\n",
              "FL     86856\n",
              "YV     85686\n",
              "OH     71934\n",
              "B6     67478\n",
              "AS     49885\n",
              "F9     30680\n",
              "HA     18385\n",
              "AQ      7800\n",
              "dtype: int64"
            ]
          },
          "metadata": {},
          "execution_count": 11
        }
      ],
      "source": [
        "flights_df.groupby('UniqueCarrier').size().sort_values(ascending=False)"
      ]
    },
    {
      "cell_type": "code",
      "execution_count": 12,
      "metadata": {
        "scrolled": true,
        "id": "0evrWZeh3WQe",
        "outputId": "d469f096-a7bd-4688-a3f9-0d6f2f336b50",
        "colab": {
          "base_uri": "https://localhost:8080/",
          "height": 287
        }
      },
      "outputs": [
        {
          "output_type": "display_data",
          "data": {
            "text/plain": [
              "<Figure size 432x288 with 1 Axes>"
            ],
            "image/png": "[encoded data removed]"
          },
          "metadata": {
            "needs_background": "light"
          }
        }
      ],
      "source": [
        "flights_df.groupby('UniqueCarrier').size().plot(kind='bar');"
      ]
    },
    {
      "cell_type": "markdown",
      "metadata": {
        "id": "nZG4eYfq3WQe"
      },
      "source": [
        "**We can also _group by_ category/categories in order to calculate different aggregated statistics.**\n",
        "\n",
        "**For example, finding top-3 flight codes, that have the largest total distance travelled in year 2008.**"
      ]
    },
    {
      "cell_type": "code",
      "execution_count": 13,
      "metadata": {
        "id": "noIDPnwO3WQe",
        "outputId": "2825156f-f62e-43c7-d975-0d4eb16f516e",
        "colab": {
          "base_uri": "https://localhost:8080/"
        }
      },
      "outputs": [
        {
          "output_type": "execute_result",
          "data": {
            "text/plain": [
              "UniqueCarrier  FlightNum\n",
              "UA             3            729366.0\n",
              "CO             15           600402.0\n",
              "               14           600402.0\n",
              "Name: Distance, dtype: float64"
            ]
          },
          "metadata": {},
          "execution_count": 13
        }
      ],
      "source": [
        "flights_df.groupby(['UniqueCarrier','FlightNum'])['Distance'].sum().sort_values(\n",
        "    ascending=False).iloc[:3]"
      ]
    },
    {
      "cell_type": "markdown",
      "metadata": {
        "id": "ct9Y9TNI3WQe"
      },
      "source": [
        "**Another way:**"
      ]
    },
    {
      "cell_type": "code",
      "execution_count": 14,
      "metadata": {
        "id": "BF8nMnli3WQe",
        "outputId": "c6198810-3a55-40e9-fed1-980c9c9cda9c",
        "colab": {
          "base_uri": "https://localhost:8080/",
          "height": 206
        }
      },
      "outputs": [
        {
          "output_type": "execute_result",
          "data": {
            "text/plain": [
              "                        Distance                 Cancelled\n",
              "                            mean       sum count       sum\n",
              "UniqueCarrier FlightNum                                   \n",
              "UA            3           2827.0  729366.0   258         4\n",
              "CO            15          4962.0  600402.0   121         0\n",
              "              14          4962.0  600402.0   121         0"
            ],
            "text/html": [
              "\n",
              "  <div id=\"df-c085f5aa-3e37-4d1c-8bad-b1073e5a3e70\">\n",
              "    <div class=\"colab-df-container\">\n",
              "      <div>\n",
              "<style scoped>\n",
              "    .dataframe tbody tr th:only-of-type {\n",
              "        vertical-align: middle;\n",
              "    }\n",
              "\n",
              "    .dataframe tbody tr th {\n",
              "        vertical-align: top;\n",
              "    }\n",
              "\n",
              "    .dataframe thead tr th {\n",
              "        text-align: left;\n",
              "    }\n",
              "\n",
              "    .dataframe thead tr:last-of-type th {\n",
              "        text-align: right;\n",
              "    }\n",
              "</style>\n",
              "<table border=\"1\" class=\"dataframe\">\n",
              "  <thead>\n",
              "    <tr>\n",
              "      <th></th>\n",
              "      <th></th>\n",
              "      <th colspan=\"3\" halign=\"left\">Distance</th>\n",
              "      <th>Cancelled</th>\n",
              "    </tr>\n",
              "    <tr>\n",
              "      <th></th>\n",
              "      <th></th>\n",
              "      <th>mean</th>\n",
              "      <th>sum</th>\n",
              "      <th>count</th>\n",
              "      <th>sum</th>\n",
              "    </tr>\n",
              "    <tr>\n",
              "      <th>UniqueCarrier</th>\n",
              "      <th>FlightNum</th>\n",
              "      <th></th>\n",
              "      <th></th>\n",
              "      <th></th>\n",
              "      <th></th>\n",
              "    </tr>\n",
              "  </thead>\n",
              "  <tbody>\n",
              "    <tr>\n",
              "      <th>UA</th>\n",
              "      <th>3</th>\n",
              "      <td>2827.0</td>\n",
              "      <td>729366.0</td>\n",
              "      <td>258</td>\n",
              "      <td>4</td>\n",
              "    </tr>\n",
              "    <tr>\n",
              "      <th rowspan=\"2\" valign=\"top\">CO</th>\n",
              "      <th>15</th>\n",
              "      <td>4962.0</td>\n",
              "      <td>600402.0</td>\n",
              "      <td>121</td>\n",
              "      <td>0</td>\n",
              "    </tr>\n",
              "    <tr>\n",
              "      <th>14</th>\n",
              "      <td>4962.0</td>\n",
              "      <td>600402.0</td>\n",
              "      <td>121</td>\n",
              "      <td>0</td>\n",
              "    </tr>\n",
              "  </tbody>\n",
              "</table>\n",
              "</div>\n",
              "      <button class=\"colab-df-convert\" onclick=\"convertToInteractive('df-c085f5aa-3e37-4d1c-8bad-b1073e5a3e70')\"\n",
              "              title=\"Convert this dataframe to an interactive table.\"\n",
              "              style=\"display:none;\">\n",
              "        \n",
              "  <svg xmlns=\"http://www.w3.org/2000/svg\" height=\"24px\"viewBox=\"0 0 24 24\"\n",
              "       width=\"24px\">\n",
              "    <path d=\"M0 0h24v24H0V0z\" fill=\"none\"/>\n",
              "    <path d=\"M18.56 5.44l.94 2.06.94-2.06 2.06-.94-2.06-.94-.94-2.06-.94 2.06-2.06.94zm-11 1L8.5 8.5l.94-2.06 2.06-.94-2.06-.94L8.5 2.5l-.94 2.06-2.06.94zm10 10l.94 2.06.94-2.06 2.06-.94-2.06-.94-.94-2.06-.94 2.06-2.06.94z\"/><path d=\"M17.41 7.96l-1.37-1.37c-.4-.4-.92-.59-1.43-.59-.52 0-1.04.2-1.43.59L10.3 9.45l-7.72 7.72c-.78.78-.78 2.05 0 2.83L4 21.41c.39.39.9.59 1.41.59.51 0 1.02-.2 1.41-.59l7.78-7.78 2.81-2.81c.8-.78.8-2.07 0-2.86zM5.41 20L4 18.59l7.72-7.72 1.47 1.35L5.41 20z\"/>\n",
              "  </svg>\n",
              "      </button>\n",
              "      \n",
              "  <style>\n",
              "    .colab-df-container {\n",
              "      display:flex;\n",
              "      flex-wrap:wrap;\n",
              "      gap: 12px;\n",
              "    }\n",
              "\n",
              "    .colab-df-convert {\n",
              "      background-color: #E8F0FE;\n",
              "      border: none;\n",
              "      border-radius: 50%;\n",
              "      cursor: pointer;\n",
              "      display: none;\n",
              "      fill: #1967D2;\n",
              "      height: 32px;\n",
              "      padding: 0 0 0 0;\n",
              "      width: 32px;\n",
              "    }\n",
              "\n",
              "    .colab-df-convert:hover {\n",
              "      background-color: #E2EBFA;\n",
              "      box-shadow: 0px 1px 2px rgba(60, 64, 67, 0.3), 0px 1px 3px 1px rgba(60, 64, 67, 0.15);\n",
              "      fill: #174EA6;\n",
              "    }\n",
              "\n",
              "    [theme=dark] .colab-df-convert {\n",
              "      background-color: #3B4455;\n",
              "      fill: #D2E3FC;\n",
              "    }\n",
              "\n",
              "    [theme=dark] .colab-df-convert:hover {\n",
              "      background-color: #434B5C;\n",
              "      box-shadow: 0px 1px 3px 1px rgba(0, 0, 0, 0.15);\n",
              "      filter: drop-shadow(0px 1px 2px rgba(0, 0, 0, 0.3));\n",
              "      fill: #FFFFFF;\n",
              "    }\n",
              "  </style>\n",
              "\n",
              "      <script>\n",
              "        const buttonEl =\n",
              "          document.querySelector('#df-c085f5aa-3e37-4d1c-8bad-b1073e5a3e70 button.colab-df-convert');\n",
              "        buttonEl.style.display =\n",
              "          google.colab.kernel.accessAllowed ? 'block' : 'none';\n",
              "\n",
              "        async function convertToInteractive(key) {\n",
              "          const element = document.querySelector('#df-c085f5aa-3e37-4d1c-8bad-b1073e5a3e70');\n",
              "          const dataTable =\n",
              "            await google.colab.kernel.invokeFunction('convertToInteractive',\n",
              "                                                     [key], {});\n",
              "          if (!dataTable) return;\n",
              "\n",
              "          const docLinkHtml = 'Like what you see? Visit the ' +\n",
              "            '<a target=\"_blank\" href=https://colab.research.google.com/notebooks/data_table.ipynb>data table notebook</a>'\n",
              "            + ' to learn more about interactive tables.';\n",
              "          element.innerHTML = '';\n",
              "          dataTable['output_type'] = 'display_data';\n",
              "          await google.colab.output.renderOutput(dataTable, element);\n",
              "          const docLink = document.createElement('div');\n",
              "          docLink.innerHTML = docLinkHtml;\n",
              "          element.appendChild(docLink);\n",
              "        }\n",
              "      </script>\n",
              "    </div>\n",
              "  </div>\n",
              "  "
            ]
          },
          "metadata": {},
          "execution_count": 14
        }
      ],
      "source": [
        "flights_df.groupby(['UniqueCarrier','FlightNum'])\\\n",
        "  .agg({'Distance': [np.mean, np.sum, 'count'],\n",
        "        'Cancelled': np.sum})\\\n",
        "  .sort_values(('Distance', 'sum'), ascending=False)\\\n",
        "  .iloc[0:3]"
      ]
    },
    {
      "cell_type": "markdown",
      "metadata": {
        "id": "VnUkewHE3WQe"
      },
      "source": [
        "**Number of flights by days of week and months:**"
      ]
    },
    {
      "cell_type": "code",
      "execution_count": 15,
      "metadata": {
        "id": "9uqSEgsI3WQe",
        "outputId": "8f29f693-152a-44ae-bf66-c406a2a9e1e7",
        "colab": {
          "base_uri": "https://localhost:8080/",
          "height": 206
        }
      },
      "outputs": [
        {
          "output_type": "execute_result",
          "data": {
            "text/plain": [
              "DayOfWeek       1       2       3       4       5      6      7\n",
              "Month                                                          \n",
              "1           80807   97298  100080  102043   81940  67178  76419\n",
              "2           81504   79700   80587   82158  102726  66462  76099\n",
              "3          103210   81159   82307   82831   82936  86153  97494\n",
              "4           82463  100785  102586   82799   82964  68304  78225"
            ],
            "text/html": [
              "\n",
              "  <div id=\"df-377d7cf5-96dc-4a9f-96d1-28bacc9711c2\">\n",
              "    <div class=\"colab-df-container\">\n",
              "      <div>\n",
              "<style scoped>\n",
              "    .dataframe tbody tr th:only-of-type {\n",
              "        vertical-align: middle;\n",
              "    }\n",
              "\n",
              "    .dataframe tbody tr th {\n",
              "        vertical-align: top;\n",
              "    }\n",
              "\n",
              "    .dataframe thead th {\n",
              "        text-align: right;\n",
              "    }\n",
              "</style>\n",
              "<table border=\"1\" class=\"dataframe\">\n",
              "  <thead>\n",
              "    <tr style=\"text-align: right;\">\n",
              "      <th>DayOfWeek</th>\n",
              "      <th>1</th>\n",
              "      <th>2</th>\n",
              "      <th>3</th>\n",
              "      <th>4</th>\n",
              "      <th>5</th>\n",
              "      <th>6</th>\n",
              "      <th>7</th>\n",
              "    </tr>\n",
              "    <tr>\n",
              "      <th>Month</th>\n",
              "      <th></th>\n",
              "      <th></th>\n",
              "      <th></th>\n",
              "      <th></th>\n",
              "      <th></th>\n",
              "      <th></th>\n",
              "      <th></th>\n",
              "    </tr>\n",
              "  </thead>\n",
              "  <tbody>\n",
              "    <tr>\n",
              "      <th>1</th>\n",
              "      <td>80807</td>\n",
              "      <td>97298</td>\n",
              "      <td>100080</td>\n",
              "      <td>102043</td>\n",
              "      <td>81940</td>\n",
              "      <td>67178</td>\n",
              "      <td>76419</td>\n",
              "    </tr>\n",
              "    <tr>\n",
              "      <th>2</th>\n",
              "      <td>81504</td>\n",
              "      <td>79700</td>\n",
              "      <td>80587</td>\n",
              "      <td>82158</td>\n",
              "      <td>102726</td>\n",
              "      <td>66462</td>\n",
              "      <td>76099</td>\n",
              "    </tr>\n",
              "    <tr>\n",
              "      <th>3</th>\n",
              "      <td>103210</td>\n",
              "      <td>81159</td>\n",
              "      <td>82307</td>\n",
              "      <td>82831</td>\n",
              "      <td>82936</td>\n",
              "      <td>86153</td>\n",
              "      <td>97494</td>\n",
              "    </tr>\n",
              "    <tr>\n",
              "      <th>4</th>\n",
              "      <td>82463</td>\n",
              "      <td>100785</td>\n",
              "      <td>102586</td>\n",
              "      <td>82799</td>\n",
              "      <td>82964</td>\n",
              "      <td>68304</td>\n",
              "      <td>78225</td>\n",
              "    </tr>\n",
              "  </tbody>\n",
              "</table>\n",
              "</div>\n",
              "      <button class=\"colab-df-convert\" onclick=\"convertToInteractive('df-377d7cf5-96dc-4a9f-96d1-28bacc9711c2')\"\n",
              "              title=\"Convert this dataframe to an interactive table.\"\n",
              "              style=\"display:none;\">\n",
              "        \n",
              "  <svg xmlns=\"http://www.w3.org/2000/svg\" height=\"24px\"viewBox=\"0 0 24 24\"\n",
              "       width=\"24px\">\n",
              "    <path d=\"M0 0h24v24H0V0z\" fill=\"none\"/>\n",
              "    <path d=\"M18.56 5.44l.94 2.06.94-2.06 2.06-.94-2.06-.94-.94-2.06-.94 2.06-2.06.94zm-11 1L8.5 8.5l.94-2.06 2.06-.94-2.06-.94L8.5 2.5l-.94 2.06-2.06.94zm10 10l.94 2.06.94-2.06 2.06-.94-2.06-.94-.94-2.06-.94 2.06-2.06.94z\"/><path d=\"M17.41 7.96l-1.37-1.37c-.4-.4-.92-.59-1.43-.59-.52 0-1.04.2-1.43.59L10.3 9.45l-7.72 7.72c-.78.78-.78 2.05 0 2.83L4 21.41c.39.39.9.59 1.41.59.51 0 1.02-.2 1.41-.59l7.78-7.78 2.81-2.81c.8-.78.8-2.07 0-2.86zM5.41 20L4 18.59l7.72-7.72 1.47 1.35L5.41 20z\"/>\n",
              "  </svg>\n",
              "      </button>\n",
              "      \n",
              "  <style>\n",
              "    .colab-df-container {\n",
              "      display:flex;\n",
              "      flex-wrap:wrap;\n",
              "      gap: 12px;\n",
              "    }\n",
              "\n",
              "    .colab-df-convert {\n",
              "      background-color: #E8F0FE;\n",
              "      border: none;\n",
              "      border-radius: 50%;\n",
              "      cursor: pointer;\n",
              "      display: none;\n",
              "      fill: #1967D2;\n",
              "      height: 32px;\n",
              "      padding: 0 0 0 0;\n",
              "      width: 32px;\n",
              "    }\n",
              "\n",
              "    .colab-df-convert:hover {\n",
              "      background-color: #E2EBFA;\n",
              "      box-shadow: 0px 1px 2px rgba(60, 64, 67, 0.3), 0px 1px 3px 1px rgba(60, 64, 67, 0.15);\n",
              "      fill: #174EA6;\n",
              "    }\n",
              "\n",
              "    [theme=dark] .colab-df-convert {\n",
              "      background-color: #3B4455;\n",
              "      fill: #D2E3FC;\n",
              "    }\n",
              "\n",
              "    [theme=dark] .colab-df-convert:hover {\n",
              "      background-color: #434B5C;\n",
              "      box-shadow: 0px 1px 3px 1px rgba(0, 0, 0, 0.15);\n",
              "      filter: drop-shadow(0px 1px 2px rgba(0, 0, 0, 0.3));\n",
              "      fill: #FFFFFF;\n",
              "    }\n",
              "  </style>\n",
              "\n",
              "      <script>\n",
              "        const buttonEl =\n",
              "          document.querySelector('#df-377d7cf5-96dc-4a9f-96d1-28bacc9711c2 button.colab-df-convert');\n",
              "        buttonEl.style.display =\n",
              "          google.colab.kernel.accessAllowed ? 'block' : 'none';\n",
              "\n",
              "        async function convertToInteractive(key) {\n",
              "          const element = document.querySelector('#df-377d7cf5-96dc-4a9f-96d1-28bacc9711c2');\n",
              "          const dataTable =\n",
              "            await google.colab.kernel.invokeFunction('convertToInteractive',\n",
              "                                                     [key], {});\n",
              "          if (!dataTable) return;\n",
              "\n",
              "          const docLinkHtml = 'Like what you see? Visit the ' +\n",
              "            '<a target=\"_blank\" href=https://colab.research.google.com/notebooks/data_table.ipynb>data table notebook</a>'\n",
              "            + ' to learn more about interactive tables.';\n",
              "          element.innerHTML = '';\n",
              "          dataTable['output_type'] = 'display_data';\n",
              "          await google.colab.output.renderOutput(dataTable, element);\n",
              "          const docLink = document.createElement('div');\n",
              "          docLink.innerHTML = docLinkHtml;\n",
              "          element.appendChild(docLink);\n",
              "        }\n",
              "      </script>\n",
              "    </div>\n",
              "  </div>\n",
              "  "
            ]
          },
          "metadata": {},
          "execution_count": 15
        }
      ],
      "source": [
        "pd.crosstab(flights_df.Month, flights_df.DayOfWeek)"
      ]
    },
    {
      "cell_type": "markdown",
      "metadata": {
        "id": "LltuqpO23WQf"
      },
      "source": [
        "**It can also be handy to color such tables in order to easily notice outliers:**"
      ]
    },
    {
      "cell_type": "code",
      "execution_count": 16,
      "metadata": {
        "scrolled": true,
        "id": "XR_gSd0r3WQf",
        "outputId": "80e0bd9c-5f48-4cc9-a6b8-b848c057658f",
        "colab": {
          "base_uri": "https://localhost:8080/",
          "height": 243
        }
      },
      "outputs": [
        {
          "output_type": "display_data",
          "data": {
            "text/plain": [
              "<Figure size 432x288 with 1 Axes>"
            ],
            "image/png": "[encoded data removed]"
          },
          "metadata": {
            "needs_background": "light"
          }
        }
      ],
      "source": [
        "plt.imshow(pd.crosstab(flights_df.Month, flights_df.DayOfWeek),\n",
        "           cmap='seismic', interpolation='none');"
      ]
    },
    {
      "cell_type": "markdown",
      "metadata": {
        "id": "-sXio7Bf3WQf"
      },
      "source": [
        "**Flight distance histogram:**"
      ]
    },
    {
      "cell_type": "code",
      "execution_count": 17,
      "metadata": {
        "scrolled": false,
        "id": "NkPNy2wl3WQf",
        "outputId": "4f8a4254-da0f-4dd3-ff4b-482efc16d673",
        "colab": {
          "base_uri": "https://localhost:8080/",
          "height": 281
        }
      },
      "outputs": [
        {
          "output_type": "display_data",
          "data": {
            "text/plain": [
              "<Figure size 432x288 with 1 Axes>"
            ],
            "image/png": "[encoded data removed]"
          },
          "metadata": {
            "needs_background": "light"
          }
        }
      ],
      "source": [
        "flights_df.hist('Distance', bins=20);"
      ]
    },
    {
      "cell_type": "markdown",
      "metadata": {
        "id": "ceUdMoE83WQf"
      },
      "source": [
        "**Making a histogram of flight frequency by date.**"
      ]
    },
    {
      "cell_type": "code",
      "execution_count": 18,
      "metadata": {
        "id": "TT3WfEoU3WQf"
      },
      "outputs": [],
      "source": [
        "flights_df['Date'] = pd.to_datetime(flights_df.rename(\n",
        "    columns={'DayofMonth': 'Day'})[['Year', 'Month', 'Day']])"
      ]
    },
    {
      "cell_type": "code",
      "execution_count": 19,
      "metadata": {
        "id": "emSfQUXy3WQf"
      },
      "outputs": [],
      "source": [
        "num_flights_by_date = flights_df.groupby('Date').size()"
      ]
    },
    {
      "cell_type": "code",
      "execution_count": 20,
      "metadata": {
        "scrolled": true,
        "id": "T6OE-0_a3WQf",
        "outputId": "c1c39bce-a056-431e-9fd0-821ed4dbe122",
        "colab": {
          "base_uri": "https://localhost:8080/",
          "height": 309
        }
      },
      "outputs": [
        {
          "output_type": "execute_result",
          "data": {
            "text/plain": [
              "<Axes: xlabel='Date'>"
            ]
          },
          "metadata": {},
          "execution_count": 20
        },
        {
          "output_type": "display_data",
          "data": {
            "text/plain": [
              "<Figure size 432x288 with 1 Axes>"
            ],
            "image/png": "[encoded data removed]"
          },
          "metadata": {
            "needs_background": "light"
          }
        }
      ],
      "source": [
        "num_flights_by_date.plot()"
      ]
    },
    {
      "cell_type": "markdown",
      "metadata": {
        "id": "s7oo3FYW3WQf"
      },
      "source": [
        "**Do you see a weekly pattern above? And below?**"
      ]
    },
    {
      "cell_type": "markdown",
      "metadata": {
        "id": "Ak_T_MO23WQg"
      },
      "source": [
        "### Now it's your turn. Answer the questions below.\n",
        "\n",
        "##### The next 20 questions is going to be very tasking so get ready, but don't worry it's easy"
      ]
    },
    {
      "cell_type": "code",
      "source": [
        "#Count of Completed and Cancelled. \n",
        "flights_df['Cancelled'].value_counts()\n",
        "#The difference between both is 2260333"
      ],
      "metadata": {
        "id": "WYjgGyb_9axC",
        "outputId": "5e99e2df-caa9-4521-be67-2d16be68821b",
        "colab": {
          "base_uri": "https://localhost:8080/"
        }
      },
      "execution_count": 21,
      "outputs": [
        {
          "output_type": "execute_result",
          "data": {
            "text/plain": [
              "0    2324775\n",
              "1      64442\n",
              "Name: Cancelled, dtype: int64"
            ]
          },
          "metadata": {},
          "execution_count": 21
        }
      ]
    },
    {
      "cell_type": "code",
      "source": [
        "flights_df.loc[flights_df['DepDelay'].idxmax()]"
      ],
      "metadata": {
        "id": "ejMAbLQM9dMA",
        "outputId": "f327441d-3f0e-4518-a87e-c87ce194713b",
        "colab": {
          "base_uri": "https://localhost:8080/"
        }
      },
      "execution_count": 22,
      "outputs": [
        {
          "output_type": "execute_result",
          "data": {
            "text/plain": [
              "Year                                2008\n",
              "Month                                  4\n",
              "DayofMonth                            10\n",
              "DayOfWeek                              4\n",
              "DepTime                            724.0\n",
              "UniqueCarrier                         NW\n",
              "FlightNum                           1699\n",
              "ArrDelay                          2452.0\n",
              "DepDelay                          2468.0\n",
              "Origin                               CLT\n",
              "Dest                                 MSP\n",
              "Distance                             930\n",
              "Cancelled                              0\n",
              "CancellationCode                     NaN\n",
              "CarrierDelay                      2436.0\n",
              "WeatherDelay                         0.0\n",
              "NASDelay                             0.0\n",
              "SecurityDelay                        0.0\n",
              "LateAircraftDelay                   17.0\n",
              "Date                 2008-04-10 00:00:00\n",
              "Name: 2235384, dtype: object"
            ]
          },
          "metadata": {},
          "execution_count": 22
        }
      ]
    },
    {
      "cell_type": "code",
      "source": [
        "flights_df.loc[flights_df['ArrDelay'].idxmax()]"
      ],
      "metadata": {
        "id": "QCd7qdIW9j1U",
        "outputId": "530d377d-ad65-4c2f-82e4-8bf997a5aa8e",
        "colab": {
          "base_uri": "https://localhost:8080/"
        }
      },
      "execution_count": 24,
      "outputs": [
        {
          "output_type": "execute_result",
          "data": {
            "text/plain": [
              "Year                                2008\n",
              "Month                                  2\n",
              "DayofMonth                             3\n",
              "DayOfWeek                              7\n",
              "DepTime                           1117.0\n",
              "UniqueCarrier                         NW\n",
              "FlightNum                            808\n",
              "ArrDelay                          2460.0\n",
              "DepDelay                          2456.0\n",
              "Origin                               HNL\n",
              "Dest                                 MSP\n",
              "Distance                            3972\n",
              "Cancelled                              0\n",
              "CancellationCode                     NaN\n",
              "CarrierDelay                      1455.0\n",
              "WeatherDelay                         0.0\n",
              "NASDelay                             4.0\n",
              "SecurityDelay                        0.0\n",
              "LateAircraftDelay                 1002.0\n",
              "Date                 2008-02-03 00:00:00\n",
              "Name: 1018504, dtype: object"
            ]
          },
          "metadata": {},
          "execution_count": 24
        }
      ]
    },
    {
      "cell_type": "markdown",
      "source": [
        "The carrier with the highest cancellation is AA with 10784"
      ],
      "metadata": {
        "id": "DaOma5ht90-A"
      }
    },
    {
      "cell_type": "code",
      "source": [
        "flights_df[\"DepTime\"].isnull().values.any()"
      ],
      "metadata": {
        "id": "mYkTkzbS92jD",
        "outputId": "9aaeeecd-b692-470c-90db-1b31f02de0f1",
        "colab": {
          "base_uri": "https://localhost:8080/"
        }
      },
      "execution_count": 25,
      "outputs": [
        {
          "output_type": "execute_result",
          "data": {
            "text/plain": [
              "True"
            ]
          },
          "metadata": {},
          "execution_count": 25
        }
      ]
    },
    {
      "cell_type": "code",
      "source": [
        "flights_df['DepTime'] = flights_df['DepTime'].astype(str).str.zfill(4)\n",
        "flights_df['DepTime'].head(10)"
      ],
      "metadata": {
        "id": "YmQdERJ99_M-",
        "outputId": "f12c7884-0cfe-4634-dd0f-cda0c5bdd924",
        "colab": {
          "base_uri": "https://localhost:8080/"
        }
      },
      "execution_count": 26,
      "outputs": [
        {
          "output_type": "execute_result",
          "data": {
            "text/plain": [
              "0    1343.0\n",
              "1    1125.0\n",
              "2    2009.0\n",
              "3     903.0\n",
              "4    1423.0\n",
              "5    2024.0\n",
              "6    1753.0\n",
              "7     622.0\n",
              "8    1944.0\n",
              "9    1453.0\n",
              "Name: DepTime, dtype: object"
            ]
          },
          "metadata": {},
          "execution_count": 26
        }
      ]
    },
    {
      "cell_type": "code",
      "source": [
        "flights_df['DepTime'] = flights_df['DepTime'].apply(lambda x: x.zfill(4))\n",
        "flights_df['DepTime'].head(10)"
      ],
      "metadata": {
        "id": "dxIM2ze3-Fah",
        "outputId": "d9cbaa20-737f-44e8-befd-78878abc3b2e",
        "colab": {
          "base_uri": "https://localhost:8080/"
        }
      },
      "execution_count": 27,
      "outputs": [
        {
          "output_type": "execute_result",
          "data": {
            "text/plain": [
              "0    1343.0\n",
              "1    1125.0\n",
              "2    2009.0\n",
              "3     903.0\n",
              "4    1423.0\n",
              "5    2024.0\n",
              "6    1753.0\n",
              "7     622.0\n",
              "8    1944.0\n",
              "9    1453.0\n",
              "Name: DepTime, dtype: object"
            ]
          },
          "metadata": {},
          "execution_count": 27
        }
      ]
    },
    {
      "cell_type": "code",
      "source": [
        "flights_df['New_Deptime'] = flights_df['DepTime'].str[0:2]\n",
        "flights_df['New_Deptime'].head()"
      ],
      "metadata": {
        "id": "ovl_m1YG-KDg",
        "outputId": "afaaa203-d310-4033-cfed-d0934b7980f1",
        "colab": {
          "base_uri": "https://localhost:8080/"
        }
      },
      "execution_count": 28,
      "outputs": [
        {
          "output_type": "execute_result",
          "data": {
            "text/plain": [
              "0    13\n",
              "1    11\n",
              "2    20\n",
              "3    90\n",
              "4    14\n",
              "Name: New_Deptime, dtype: object"
            ]
          },
          "metadata": {},
          "execution_count": 28
        }
      ]
    },
    {
      "cell_type": "markdown",
      "source": [
        "The destination airport with the longest arrival and departure delay is the MSP airport with 2460 and 2468 minutes."
      ],
      "metadata": {
        "id": "aTD5lGpF9sMt"
      }
    },
    {
      "cell_type": "code",
      "source": [
        "groups = flights_df.groupby(['Cancelled','UniqueCarrier']).size()\n",
        "print(groups)"
      ],
      "metadata": {
        "id": "u7eAWsbU9oJd",
        "outputId": "beeb8692-0380-4185-b5dc-d646408785a6",
        "colab": {
          "base_uri": "https://localhost:8080/"
        }
      },
      "execution_count": 29,
      "outputs": [
        {
          "output_type": "stream",
          "name": "stdout",
          "text": [
            "Cancelled  UniqueCarrier\n",
            "0          9E                84262\n",
            "           AA               193735\n",
            "           AQ                 7758\n",
            "           AS                49081\n",
            "           B6                66576\n",
            "           CO               101618\n",
            "           DL               148358\n",
            "           EV                90037\n",
            "           F9                30582\n",
            "           FL                85953\n",
            "           HA                18273\n",
            "           MQ               158900\n",
            "           NW               121392\n",
            "           OH                69316\n",
            "           OO               188411\n",
            "           UA               149420\n",
            "           US               151149\n",
            "           WN               394586\n",
            "           XE               134832\n",
            "           YV                80536\n",
            "1          9E                 4097\n",
            "           AA                10784\n",
            "           AQ                   42\n",
            "           AS                  804\n",
            "           B6                  902\n",
            "           CO                 1084\n",
            "           DL                 3051\n",
            "           EV                 2346\n",
            "           F9                   98\n",
            "           FL                  903\n",
            "           HA                  112\n",
            "           MQ                 8960\n",
            "           NW                 1407\n",
            "           OH                 2618\n",
            "           OO                 6773\n",
            "           UA                 4616\n",
            "           US                 2390\n",
            "           WN                 4380\n",
            "           XE                 3925\n",
            "           YV                 5150\n",
            "dtype: int64\n"
          ]
        }
      ]
    },
    {
      "cell_type": "markdown",
      "source": [
        "The carrier with the highest cancellation is AA with 10784"
      ],
      "metadata": {
        "id": "s_QTJIVY-i76"
      }
    },
    {
      "cell_type": "code",
      "source": [
        "flights_df[\"DepTime\"].isnull().values.any()"
      ],
      "metadata": {
        "id": "It0UFFF_-e3t",
        "outputId": "ae79b61b-fcb8-422d-87b0-71d98cdc7dc0",
        "colab": {
          "base_uri": "https://localhost:8080/"
        }
      },
      "execution_count": 30,
      "outputs": [
        {
          "output_type": "execute_result",
          "data": {
            "text/plain": [
              "False"
            ]
          },
          "metadata": {},
          "execution_count": 30
        }
      ]
    },
    {
      "cell_type": "code",
      "source": [
        "flights_df['DepTime'] = flights_df['DepTime'].astype(str).str.zfill(4)\n",
        "flights_df['DepTime'].head(10)"
      ],
      "metadata": {
        "id": "ma5m4ZTG-o1G",
        "outputId": "b9aefe7f-136e-48af-819e-c899516fd94a",
        "colab": {
          "base_uri": "https://localhost:8080/"
        }
      },
      "execution_count": 31,
      "outputs": [
        {
          "output_type": "execute_result",
          "data": {
            "text/plain": [
              "0    1343.0\n",
              "1    1125.0\n",
              "2    2009.0\n",
              "3     903.0\n",
              "4    1423.0\n",
              "5    2024.0\n",
              "6    1753.0\n",
              "7     622.0\n",
              "8    1944.0\n",
              "9    1453.0\n",
              "Name: DepTime, dtype: object"
            ]
          },
          "metadata": {},
          "execution_count": 31
        }
      ]
    },
    {
      "cell_type": "code",
      "source": [
        "flights_df['DepTime'] = flights_df['DepTime'].apply(lambda x: x.zfill(4))\n",
        "flights_df['DepTime'].head(10)"
      ],
      "metadata": {
        "id": "C50hrRXv-7sX",
        "outputId": "b36f5905-c4ad-48ff-94ac-2ac15d217a36",
        "colab": {
          "base_uri": "https://localhost:8080/"
        }
      },
      "execution_count": 32,
      "outputs": [
        {
          "output_type": "execute_result",
          "data": {
            "text/plain": [
              "0    1343.0\n",
              "1    1125.0\n",
              "2    2009.0\n",
              "3     903.0\n",
              "4    1423.0\n",
              "5    2024.0\n",
              "6    1753.0\n",
              "7     622.0\n",
              "8    1944.0\n",
              "9    1453.0\n",
              "Name: DepTime, dtype: object"
            ]
          },
          "metadata": {},
          "execution_count": 32
        }
      ]
    },
    {
      "cell_type": "code",
      "source": [
        "flights_df['New_Deptime'] = flights_df['DepTime'].str[0:2]\n",
        "flights_df['New_Deptime'].head()"
      ],
      "metadata": {
        "id": "HOA3Upuf-9rV",
        "outputId": "5221d317-9a01-4609-c7bf-5866dd341e27",
        "colab": {
          "base_uri": "https://localhost:8080/"
        }
      },
      "execution_count": 33,
      "outputs": [
        {
          "output_type": "execute_result",
          "data": {
            "text/plain": [
              "0    13\n",
              "1    11\n",
              "2    20\n",
              "3    90\n",
              "4    14\n",
              "Name: New_Deptime, dtype: object"
            ]
          },
          "metadata": {},
          "execution_count": 33
        }
      ]
    },
    {
      "cell_type": "code",
      "source": [
        "results = flights_df.groupby(['Cancelled', 'New_Deptime']).size().sort_values(ascending=False)\n",
        "results"
      ],
      "metadata": {
        "id": "H-7HmyGW_DJo",
        "outputId": "4a234d45-dd22-405f-c8ee-0b801765eb03",
        "colab": {
          "base_uri": "https://localhost:8080/"
        }
      },
      "execution_count": 34,
      "outputs": [
        {
          "output_type": "execute_result",
          "data": {
            "text/plain": [
              "Cancelled  New_Deptime\n",
              "0          11             150214\n",
              "           16             147800\n",
              "           17             147614\n",
              "           13             147255\n",
              "           10             144795\n",
              "                           ...  \n",
              "           47                 99\n",
              "           57                 88\n",
              "           58                 80\n",
              "           56                 75\n",
              "           59                 61\n",
              "Length: 84, dtype: int64"
            ]
          },
          "metadata": {},
          "execution_count": 34
        }
      ]
    },
    {
      "cell_type": "markdown",
      "source": [
        "The time with the highest number of departing flights is 11am"
      ],
      "metadata": {
        "id": "mQBG4Ify_H-5"
      }
    },
    {
      "cell_type": "code",
      "source": [
        "results = flights_df.groupby(['Cancelled', 'Month']).size().sort_values(ascending=True)\n",
        "results"
      ],
      "metadata": {
        "id": "iejD3sLI_OkA",
        "outputId": "dbf483a5-39c8-46dc-8794-17ab75e4297b",
        "colab": {
          "base_uri": "https://localhost:8080/"
        }
      },
      "execution_count": 35,
      "outputs": [
        {
          "output_type": "execute_result",
          "data": {
            "text/plain": [
              "Cancelled  Month\n",
              "1          4         10355\n",
              "           3         16183\n",
              "           1         17308\n",
              "           2         20596\n",
              "0          2        548640\n",
              "           4        587771\n",
              "           1        588457\n",
              "           3        599907\n",
              "dtype: int64"
            ]
          },
          "metadata": {},
          "execution_count": 35
        }
      ]
    },
    {
      "cell_type": "markdown",
      "source": [
        "The month with the highest number of cancelled flights is month 4"
      ],
      "metadata": {
        "id": "7zAGzyKX_ftT"
      }
    },
    {
      "cell_type": "markdown",
      "source": [
        "The months are only from Numbers 1-4. As such all the options in the questions do not apply."
      ],
      "metadata": {
        "id": "dhSRjunz_ktD"
      }
    },
    {
      "cell_type": "code",
      "source": [
        "completed_trips = flights_df[flights_df['Cancelled'] == 0]"
      ],
      "metadata": {
        "id": "CrxRNHft_ole"
      },
      "execution_count": 36,
      "outputs": []
    },
    {
      "cell_type": "code",
      "source": [
        "completed_trips['DepTime'] = pd.to_numeric(completed_trips['DepTime'], errors='coerce')\n",
        "completed_trips = completed_trips.dropna(subset=['DepTime'])\n",
        "completed_trips['Hour'] = completed_trips['DepTime'].apply(lambda x: str(int(x)).zfill(4))\n",
        "completed_trips = completed_trips.groupby('Hour')['FlightNum'].count()\n",
        "busiest_hour = completed_trips.idxmax()\n",
        "print(busiest_hour)"
      ],
      "metadata": {
        "id": "_HepDYBa_vgn",
        "outputId": "78e7b2dd-1e03-4421-ea6c-ece5ac4d4dcb",
        "colab": {
          "base_uri": "https://localhost:8080/"
        }
      },
      "execution_count": 37,
      "outputs": [
        {
          "output_type": "stream",
          "name": "stderr",
          "text": [
            "<ipython-input-37-0c15032b5dd1>:1: SettingWithCopyWarning: \n",
            "A value is trying to be set on a copy of a slice from a DataFrame.\n",
            "Try using .loc[row_indexer,col_indexer] = value instead\n",
            "\n",
            "See the caveats in the documentation: https://pandas.pydata.org/pandas-docs/stable/user_guide/indexing.html#returning-a-view-versus-a-copy\n",
            "  completed_trips['DepTime'] = pd.to_numeric(completed_trips['DepTime'], errors='coerce')\n"
          ]
        },
        {
          "output_type": "stream",
          "name": "stdout",
          "text": [
            "0600\n"
          ]
        }
      ]
    },
    {
      "cell_type": "markdown",
      "source": [
        "The busiest hour is 06:00"
      ],
      "metadata": {
        "id": "awvuQ5nQC24j"
      }
    },
    {
      "cell_type": "code",
      "source": [
        "completed_trips_2 = flights_df[flights_df['Cancelled'] == 0]\n",
        "completed_trips_2[\"DepTime\"] = pd.to_numeric(completed_trips_2[\"DepTime\"], errors='coerce')\n",
        "completed_trips_2['DepTime'].fillna(0, inplace=True)\n",
        "completed_trips_2['DepHour'] = completed_trips_2['DepTime'] // 100\n",
        "hour_delay = completed_trips_2.groupby('DepHour')[\"DepDelay\"].mean()"
      ],
      "metadata": {
        "id": "WgVEz356C7Lr",
        "outputId": "8e87cd42-ea43-48be-f044-b1a5a1079eee",
        "colab": {
          "base_uri": "https://localhost:8080/"
        }
      },
      "execution_count": 42,
      "outputs": [
        {
          "output_type": "stream",
          "name": "stderr",
          "text": [
            "<ipython-input-42-2449d0b462a3>:2: SettingWithCopyWarning: \n",
            "A value is trying to be set on a copy of a slice from a DataFrame.\n",
            "Try using .loc[row_indexer,col_indexer] = value instead\n",
            "\n",
            "See the caveats in the documentation: https://pandas.pydata.org/pandas-docs/stable/user_guide/indexing.html#returning-a-view-versus-a-copy\n",
            "  completed_trips_2[\"DepTime\"] = pd.to_numeric(completed_trips_2[\"DepTime\"], errors='coerce')\n",
            "<ipython-input-42-2449d0b462a3>:3: SettingWithCopyWarning: \n",
            "A value is trying to be set on a copy of a slice from a DataFrame\n",
            "\n",
            "See the caveats in the documentation: https://pandas.pydata.org/pandas-docs/stable/user_guide/indexing.html#returning-a-view-versus-a-copy\n",
            "  completed_trips_2['DepTime'].fillna(0, inplace=True)\n",
            "<ipython-input-42-2449d0b462a3>:4: SettingWithCopyWarning: \n",
            "A value is trying to be set on a copy of a slice from a DataFrame.\n",
            "Try using .loc[row_indexer,col_indexer] = value instead\n",
            "\n",
            "See the caveats in the documentation: https://pandas.pydata.org/pandas-docs/stable/user_guide/indexing.html#returning-a-view-versus-a-copy\n",
            "  completed_trips_2['DepHour'] = completed_trips_2['DepTime'] // 100\n"
          ]
        }
      ]
    },
    {
      "cell_type": "code",
      "source": [
        "plt.plot(hour_delay.index, hour_delay.values)\n",
        "plt.xlabel(\"Hour of Departure\")\n",
        "plt.ylabel(\"Average Departure Delay in minutes\")\n",
        "plt.title(\"Average Departure Delay by Hour\")\n",
        "plt.show()"
      ],
      "metadata": {
        "id": "ACnTKZEAMT37",
        "outputId": "7fe80dc6-e808-4bae-d68b-ef5b5fd1ffdc",
        "colab": {
          "base_uri": "https://localhost:8080/",
          "height": 295
        }
      },
      "execution_count": 44,
      "outputs": [
        {
          "output_type": "display_data",
          "data": {
            "text/plain": [
              "<Figure size 432x288 with 1 Axes>"
            ],
            "image/png": "[encoded data removed]"
          },
          "metadata": {
            "needs_background": "light"
          }
        }
      ]
    },
    {
      "cell_type": "code",
      "source": [
        "carriers = flights_df.groupby('UniqueCarrier')['FlightNum'].count()\n",
        "top_10 = carriers.sort_values(ascending=False)[:10]\n",
        "print(top_10)"
      ],
      "metadata": {
        "id": "1DLLaAqMMxGd",
        "outputId": "0d632f3b-da98-45b0-9165-88b8f906fbba",
        "colab": {
          "base_uri": "https://localhost:8080/"
        }
      },
      "execution_count": 48,
      "outputs": [
        {
          "output_type": "stream",
          "name": "stdout",
          "text": [
            "UniqueCarrier\n",
            "WN    398966\n",
            "AA    204519\n",
            "OO    195184\n",
            "MQ    167860\n",
            "UA    154036\n",
            "US    153539\n",
            "DL    151409\n",
            "XE    138757\n",
            "NW    122799\n",
            "CO    102702\n",
            "Name: FlightNum, dtype: int64\n"
          ]
        }
      ]
    },
    {
      "cell_type": "code",
      "source": [
        "flights_df['CancellationCode'].value_counts().plot(kind='bar')\n",
        "plt.title('Cancellation Reasons')\n",
        "plt.xlabel('Cancellation Code')\n",
        "plt.ylabel('Number of Cancellations')\n",
        "plt.show()"
      ],
      "metadata": {
        "id": "s8PtaRXPWAZm",
        "outputId": "ecda0007-243d-40d9-8a05-91c97c76eb06",
        "colab": {
          "base_uri": "https://localhost:8080/",
          "height": 293
        }
      },
      "execution_count": 49,
      "outputs": [
        {
          "output_type": "display_data",
          "data": {
            "text/plain": [
              "<Figure size 432x288 with 1 Axes>"
            ],
            "image/png": "[encoded data removed]"
          },
          "metadata": {
            "needs_background": "light"
          }
        }
      ]
    },
    {
      "cell_type": "markdown",
      "source": [
        "I cannot access the link to figure out what ea h cancellation code stands for so I chose D"
      ],
      "metadata": {
        "id": "6YHydGtkYjiW"
      }
    },
    {
      "cell_type": "code",
      "source": [
        "cancellation_counts = flights_df['CancellationCode'].value_counts()\n",
        "print(cancellation_counts)"
      ],
      "metadata": {
        "id": "58RRWkFvYyNy",
        "outputId": "5f0b547e-9e00-4514-d3e7-ae9520db26c1",
        "colab": {
          "base_uri": "https://localhost:8080/"
        }
      },
      "execution_count": 50,
      "outputs": [
        {
          "output_type": "stream",
          "name": "stdout",
          "text": [
            "A    26075\n",
            "B    25744\n",
            "C    12617\n",
            "D        6\n",
            "Name: CancellationCode, dtype: int64\n"
          ]
        }
      ]
    },
    {
      "cell_type": "code",
      "source": [
        "flights_df['Route'] = flights_df['Origin'] + ' - ' + flights_df['Dest']\n",
        "flights_df['Route_Rev'] = flights_df['Dest'] + ' - ' + flights_df['Origin']\n",
        "routes = pd.concat([flights_df['Route'], flights_df['Route_Rev']])\n",
        "most_common_route = routes.value_counts().idxmax()\n",
        "print(most_common_route)"
      ],
      "metadata": {
        "id": "f5IClW57Zs8z",
        "outputId": "25d2508f-9ff4-4582-eb47-0e709332badc",
        "colab": {
          "base_uri": "https://localhost:8080/"
        }
      },
      "execution_count": 51,
      "outputs": [
        {
          "output_type": "stream",
          "name": "stdout",
          "text": [
            "LAX - SFO\n"
          ]
        }
      ]
    },
    {
      "cell_type": "code",
      "source": [
        "delayed_routes = flights_df.groupby(['Origin', 'Dest']).agg({'DepDelay': 'sum', 'WeatherDelay': 'sum'}) \\\n",
        ".rename(columns={'FlightNum': 'TotalFlights'}) \\\n",
        ".sort_values(by='DepDelay', ascending=False) \\\n",
        ".head(5)\n",
        "\n",
        "print(delayed_routes)"
      ],
      "metadata": {
        "id": "TZL6i835bzes",
        "outputId": "c56fb094-d19b-42ef-f685-78322d345733",
        "colab": {
          "base_uri": "https://localhost:8080/"
        }
      },
      "execution_count": 52,
      "outputs": [
        {
          "output_type": "stream",
          "name": "stdout",
          "text": [
            "             DepDelay  WeatherDelay\n",
            "Origin Dest                        \n",
            "LAX    SFO        inf        3248.0\n",
            "LGA    ORD        inf        1855.0\n",
            "ORD    LGA        inf        3980.0\n",
            "       EWR        inf        2688.0\n",
            "SFO    LAX        inf        1085.0\n"
          ]
        }
      ]
    },
    {
      "cell_type": "code",
      "source": [
        "weather_delay = delayed_routes['WeatherDelay'].sum()\n",
        "print(weather_delay)"
      ],
      "metadata": {
        "id": "wfk9PWhIcvr8",
        "outputId": "7572baaa-9ef3-47fd-ce72-cfbd97a609cf",
        "colab": {
          "base_uri": "https://localhost:8080/"
        }
      },
      "execution_count": 53,
      "outputs": [
        {
          "output_type": "stream",
          "name": "stdout",
          "text": [
            "12856.0\n"
          ]
        }
      ]
    },
    {
      "cell_type": "code",
      "source": [
        "flights_df['Route'] = flights_df['Origin'] + ' - ' + flights_df['Dest']\n",
        "delayed_routes = flights_df[flights_df['DepDelay'] > 0]['Route'].value_counts().head(5)\n",
        "print(delayed_routes)\n",
        "delayed_flights = flights_df[flights_df['Route'].isin(delayed_routes.index)]\n",
        "weather_delays = delayed_flights[delayed_flights['WeatherDelay'] > 0]['WeatherDelay']\n",
        "print(weather_delays)"
      ],
      "metadata": {
        "id": "UgjZq69ods-U",
        "outputId": "a8797fda-d974-4e6b-fbe0-af5a6bf97457",
        "colab": {
          "base_uri": "https://localhost:8080/"
        }
      },
      "execution_count": 54,
      "outputs": [
        {
          "output_type": "stream",
          "name": "stdout",
          "text": [
            "LAX - SFO    2226\n",
            "DAL - HOU    2063\n",
            "HOU - DAL    2017\n",
            "ORD - LGA    1978\n",
            "SFO - LAX    1901\n",
            "Name: Route, dtype: int64\n",
            "483         24.0\n",
            "3922       202.0\n",
            "5415        70.0\n",
            "7095        93.0\n",
            "7097       150.0\n",
            "           ...  \n",
            "2034134     38.0\n",
            "2088952      6.0\n",
            "2266487     12.0\n",
            "2266816     94.0\n",
            "2267818     13.0\n",
            "Name: WeatherDelay, Length: 315, dtype: float16\n"
          ]
        }
      ]
    },
    {
      "cell_type": "markdown",
      "source": [
        "Total number of weather delayed flights is 315"
      ],
      "metadata": {
        "id": "fvuAVxmdexKp"
      }
    },
    {
      "cell_type": "code",
      "source": [
        "print(type(flights_df['DepTime']))"
      ],
      "metadata": {
        "id": "M-eqGBiSinp9",
        "outputId": "8e478bef-6e52-4338-fac0-6837bc51ff04",
        "colab": {
          "base_uri": "https://localhost:8080/"
        }
      },
      "execution_count": 57,
      "outputs": [
        {
          "output_type": "stream",
          "name": "stdout",
          "text": [
            "<class 'pandas.core.series.Series'>\n"
          ]
        }
      ]
    },
    {
      "cell_type": "code",
      "source": [
        "dep_time = flights_df['DepTime'].dropna()\n",
        "dep_time = dep_time.real.astype(int)\n",
        "distribution = dep_time // 100\n",
        "distribution.hist(bins=24)"
      ],
      "metadata": {
        "id": "0IYVt--FggUC",
        "outputId": "7a9a4391-2379-4664-ef32-45a0c4c972fd",
        "colab": {
          "base_uri": "https://localhost:8080/",
          "height": 347
        }
      },
      "execution_count": 59,
      "outputs": [
        {
          "output_type": "error",
          "ename": "AttributeError",
          "evalue": "ignored",
          "traceback": [
            "\u001b[0;31m---------------------------------------------------------------------------\u001b[0m",
            "\u001b[0;31mAttributeError\u001b[0m                            Traceback (most recent call last)",
            "\u001b[0;32m<ipython-input-59-a0364d93a936>\u001b[0m in \u001b[0;36m<module>\u001b[0;34m\u001b[0m\n\u001b[1;32m      1\u001b[0m \u001b[0mdep_time\u001b[0m \u001b[0;34m=\u001b[0m \u001b[0mflights_df\u001b[0m\u001b[0;34m[\u001b[0m\u001b[0;34m'DepTime'\u001b[0m\u001b[0;34m]\u001b[0m\u001b[0;34m.\u001b[0m\u001b[0mdropna\u001b[0m\u001b[0;34m(\u001b[0m\u001b[0;34m)\u001b[0m\u001b[0;34m\u001b[0m\u001b[0;34m\u001b[0m\u001b[0m\n\u001b[0;32m----> 2\u001b[0;31m \u001b[0mdep_time\u001b[0m \u001b[0;34m=\u001b[0m \u001b[0mdep_time\u001b[0m\u001b[0;34m.\u001b[0m\u001b[0mreal\u001b[0m\u001b[0;34m.\u001b[0m\u001b[0mastype\u001b[0m\u001b[0;34m(\u001b[0m\u001b[0mint\u001b[0m\u001b[0;34m)\u001b[0m\u001b[0;34m\u001b[0m\u001b[0;34m\u001b[0m\u001b[0m\n\u001b[0m\u001b[1;32m      3\u001b[0m \u001b[0mdistribution\u001b[0m \u001b[0;34m=\u001b[0m \u001b[0mdep_time\u001b[0m \u001b[0;34m//\u001b[0m \u001b[0;36m100\u001b[0m\u001b[0;34m\u001b[0m\u001b[0;34m\u001b[0m\u001b[0m\n\u001b[1;32m      4\u001b[0m \u001b[0mdistribution\u001b[0m\u001b[0;34m.\u001b[0m\u001b[0mhist\u001b[0m\u001b[0;34m(\u001b[0m\u001b[0mbins\u001b[0m\u001b[0;34m=\u001b[0m\u001b[0;36m24\u001b[0m\u001b[0;34m)\u001b[0m\u001b[0;34m\u001b[0m\u001b[0;34m\u001b[0m\u001b[0m\n",
            "\u001b[0;32m/usr/local/lib/python3.9/dist-packages/pandas/core/generic.py\u001b[0m in \u001b[0;36m__getattr__\u001b[0;34m(self, name)\u001b[0m\n\u001b[1;32m   5573\u001b[0m         ):\n\u001b[1;32m   5574\u001b[0m             \u001b[0;32mreturn\u001b[0m \u001b[0mself\u001b[0m\u001b[0;34m[\u001b[0m\u001b[0mname\u001b[0m\u001b[0;34m]\u001b[0m\u001b[0;34m\u001b[0m\u001b[0;34m\u001b[0m\u001b[0m\n\u001b[0;32m-> 5575\u001b[0;31m         \u001b[0;32mreturn\u001b[0m \u001b[0mobject\u001b[0m\u001b[0;34m.\u001b[0m\u001b[0m__getattribute__\u001b[0m\u001b[0;34m(\u001b[0m\u001b[0mself\u001b[0m\u001b[0;34m,\u001b[0m \u001b[0mname\u001b[0m\u001b[0;34m)\u001b[0m\u001b[0;34m\u001b[0m\u001b[0;34m\u001b[0m\u001b[0m\n\u001b[0m\u001b[1;32m   5576\u001b[0m \u001b[0;34m\u001b[0m\u001b[0m\n\u001b[1;32m   5577\u001b[0m     \u001b[0;32mdef\u001b[0m \u001b[0m__setattr__\u001b[0m\u001b[0;34m(\u001b[0m\u001b[0mself\u001b[0m\u001b[0;34m,\u001b[0m \u001b[0mname\u001b[0m\u001b[0;34m:\u001b[0m \u001b[0mstr\u001b[0m\u001b[0;34m,\u001b[0m \u001b[0mvalue\u001b[0m\u001b[0;34m)\u001b[0m \u001b[0;34m->\u001b[0m \u001b[0;32mNone\u001b[0m\u001b[0;34m:\u001b[0m\u001b[0;34m\u001b[0m\u001b[0;34m\u001b[0m\u001b[0m\n",
            "\u001b[0;31mAttributeError\u001b[0m: 'Series' object has no attribute 'real'"
          ]
        }
      ]
    },
    {
      "cell_type": "code",
      "source": [
        "flights_df['day'] = flights_df['DayofMonth']\n",
        "flights_df['Date'] = pd.to_datetime(flights_df[['Year', 'Month', 'day']])\n",
        "flights_df['Date']"
      ],
      "metadata": {
        "id": "j9JIkdjKkm61",
        "outputId": "339bfa5a-d424-4fd4-ea39-3663c952b33b",
        "colab": {
          "base_uri": "https://localhost:8080/"
        }
      },
      "execution_count": 60,
      "outputs": [
        {
          "output_type": "execute_result",
          "data": {
            "text/plain": [
              "0         2008-01-03\n",
              "1         2008-01-03\n",
              "2         2008-01-03\n",
              "3         2008-01-03\n",
              "4         2008-01-03\n",
              "             ...    \n",
              "2389212   2008-04-17\n",
              "2389213   2008-04-17\n",
              "2389214   2008-04-17\n",
              "2389215   2008-04-17\n",
              "2389216   2008-04-17\n",
              "Name: Date, Length: 2389217, dtype: datetime64[ns]"
            ]
          },
          "metadata": {},
          "execution_count": 60
        }
      ]
    },
    {
      "cell_type": "code",
      "source": [
        "flights_df.groupby('Date').size().plot()\n",
        "plt.title('Number of flights per day')\n",
        "plt.xlabel('Date')\n",
        "plt.ylabel('Number of flights')\n",
        "plt.show()\n",
        "# plot the number of flights on a weekly basis\n",
        "flights_df.groupby(pd.Grouper(key='Date', freq='W')).size().plot()\n",
        "plt.title('Number of flights per week')\n",
        "plt.xlabel('Date')\n",
        "plt.ylabel('Number of flights')\n",
        "plt.show()\n",
        "# plot the number of flights on a monthly basis\n",
        "flights_df.groupby(pd.Grouper(key='Date', freq='M')).size().plot()\n",
        "plt.title('Number of flights per month')\n",
        "plt.xlabel('Date')\n",
        "plt.ylabel('Number of flights')\n",
        "plt.show()"
      ],
      "metadata": {
        "id": "kDkUj1Eok_r0",
        "outputId": "087e56a2-edf7-4198-ce57-1bbe9039203f",
        "colab": {
          "base_uri": "https://localhost:8080/",
          "height": 887
        }
      },
      "execution_count": 61,
      "outputs": [
        {
          "output_type": "display_data",
          "data": {
            "text/plain": [
              "<Figure size 432x288 with 1 Axes>"
            ],
            "image/png": "[encoded data removed]"
          },
          "metadata": {
            "needs_background": "light"
          }
        },
        {
          "output_type": "display_data",
          "data": {
            "text/plain": [
              "<Figure size 432x288 with 1 Axes>"
            ],
            "image/png": "[encoded data removed]"
          },
          "metadata": {
            "needs_background": "light"
          }
        },
        {
          "output_type": "display_data",
          "data": {
            "text/plain": [
              "<Figure size 432x288 with 1 Axes>"
            ],
            "image/png": "[encoded data removed]"
          },
          "metadata": {
            "needs_background": "light"
          }
        }
      ]
    },
    {
      "cell_type": "code",
      "source": [
        "flights_df['Month'] = pd.to_datetime(flights_df['Month'], format='%m')\n",
        "monthly_cancellations = flights_df.groupby(['Month', 'CancellationCode']).size().unstack()\n",
        "monthly_cancellations.plot(kind='bar', stacked=True)\n",
        "plt.title('Monthly Distribution of Flight Cancellation Reasons')\n",
        "plt.xlabel('Month')\n",
        "plt.ylabel('Number of Cancellations')\n",
        "plt.show()"
      ],
      "metadata": {
        "id": "g0qLF3QhlZdC",
        "outputId": "df6bf420-581b-4f68-f75d-42bbae1640ed",
        "colab": {
          "base_uri": "https://localhost:8080/",
          "height": 390
        }
      },
      "execution_count": 62,
      "outputs": [
        {
          "output_type": "display_data",
          "data": {
            "text/plain": [
              "<Figure size 432x288 with 1 Axes>"
            ],
            "image/png": "[encoded data removed]"
          },
          "metadata": {
            "needs_background": "light"
          }
        }
      ]
    },
    {
      "cell_type": "markdown",
      "source": [],
      "metadata": {
        "id": "wL9waWB-nas-"
      }
    },
    {
      "cell_type": "code",
      "source": [
        "max_month = 4 # Since the last answer is April (4) \n",
        "carrier_cancel = flights_df[(flights_df['CancellationCode'] == 'C') & (flights_df['Month'] == max_month)]\n",
        "carrier_counts = carrier_cancel.groupby(['UniqueCarrier'])['Cancelled'].count()\n",
        "# Carrier with the highest cancellation count\n",
        "carrier_counts"
      ],
      "metadata": {
        "id": "OizPPBMhm3dg",
        "outputId": "daa933f5-01da-43a6-e79f-8e04be642623",
        "colab": {
          "base_uri": "https://localhost:8080/"
        }
      },
      "execution_count": 64,
      "outputs": [
        {
          "output_type": "execute_result",
          "data": {
            "text/plain": [
              "Series([], Name: Cancelled, dtype: int64)"
            ]
          },
          "metadata": {},
          "execution_count": 64
        }
      ]
    },
    {
      "cell_type": "markdown",
      "source": [
        "Empty Series. "
      ],
      "metadata": {
        "id": "zL90Xd3hoIFo"
      }
    },
    {
      "cell_type": "code",
      "source": [
        "arrival_delay_threshhold = flights_df['ArrDelay'].quantile(.95)\n",
        "depature_delay_threshhold = flights_df['DepDelay'].quantile(.95)\n",
        "df = flights_df[(flights_df['ArrDelay'] >= 0) & (flights_df['ArrDelay'] <= arrival_delay_threshhold)]\n",
        "df = flights_df[(flights_df['DepDelay'] >= 0) & (flights_df['DepDelay'] <= depature_delay_threshhold)]\n",
        "# median arrival and departure delays by carrier\n",
        "median_arr_delay = df.groupby('UniqueCarrier')['ArrDelay'].median()\n",
        "median_dep_delay = df.groupby('UniqueCarrier')['DepDelay'].median()\n",
        "# Find the carrier with the lowest median delay time for both arrivals and departures\n",
        "min_median_delay_carrier = median_arr_delay.index[median_arr_delay.eq(median_arr_delay.min())]\n",
        "print(min_median_delay_carrier)"
      ],
      "metadata": {
        "id": "vBF2FdtaXrLg",
        "outputId": "98604d5c-6064-429e-dc24-7d271ecef576",
        "colab": {
          "base_uri": "https://localhost:8080/"
        }
      },
      "execution_count": 66,
      "outputs": [
        {
          "output_type": "stream",
          "name": "stdout",
          "text": [
            "Index(['AQ'], dtype='object', name='UniqueCarrier')\n"
          ]
        }
      ]
    },
    {
      "cell_type": "markdown",
      "source": [
        "The Carrier with the lowest median delay time was 'AQ'"
      ],
      "metadata": {
        "id": "N_ulIto9pcIU"
      }
    },
    {
      "cell_type": "markdown",
      "metadata": {
        "id": "qC26W21g3WQj"
      },
      "source": [
        "That's it! Now go and do 30 push-ups! :). You are now a guru in Data Manipulation and Analysis with Python"
      ]
    },
    {
      "cell_type": "markdown",
      "source": [
        "I tried the Push-ups. I almost died after 3.5 attempts. I will now focus on Data Engineering instead. Maybe there's hope there."
      ],
      "metadata": {
        "id": "h2aILSF9pngr"
      }
    }
  ],
  "metadata": {
    "anaconda-cloud": {},
    "kernelspec": {
      "display_name": "Python 3",
      "language": "python",
      "name": "python3"
    },
    "language_info": {
      "codemirror_mode": {
        "name": "ipython",
        "version": 3
      },
      "file_extension": ".py",
      "mimetype": "text/x-python",
      "name": "python",
      "nbconvert_exporter": "python",
      "pygments_lexer": "ipython3",
      "version": "3.8.8"
    },
    "colab": {
      "provenance": [],
      "include_colab_link": true
    }
  },
  "nbformat": 4,
  "nbformat_minor": 0
}