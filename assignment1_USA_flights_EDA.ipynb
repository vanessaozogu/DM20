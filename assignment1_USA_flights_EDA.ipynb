{
  "cells": [
    {
      "cell_type": "markdown",
      "metadata": {
        "id": "view-in-github",
        "colab_type": "text"
      },
      "source": [
        "<a href=\"https://colab.research.google.com/github/vanessaozogu/DM20/blob/master/assignment1_USA_flights_EDA.ipynb\" target=\"_parent\"><img src=\"https://colab.research.google.com/assets/colab-badge.svg\" alt=\"Open In Colab\"/></a>"
      ]
    },
    {
      "cell_type": "markdown",
      "metadata": {
        "id": "H122bmXJ3WQX"
      },
      "source": [
        "<a href='https://www.altschoolafrica.com/'> <h2> Python for Data Engineering </h2></a>\n",
        "\n",
        "\n",
        "# <center> CAPSTONE PROJECT 1 <br> \n",
        "\n",
        "## <center>Exploratory Data Analysis (EDA) of US flights <br> (using Pandas, Matplotlib & Seaborn)\n",
        "\n",
        "<img src='altschool.jpeg' width=50%>\n"
      ]
    },
    {
      "cell_type": "code",
      "execution_count": 1,
      "metadata": {
        "id": "JQkxe8993WQZ"
      },
      "outputs": [],
      "source": [
        "import numpy as np\n",
        "import pandas as pd\n",
        "# pip install seaborn \n",
        "import seaborn as sns\n",
        "import matplotlib.pyplot as plt"
      ]
    },
    {
      "cell_type": "markdown",
      "metadata": {
        "id": "P9hu5xwi3WQa"
      },
      "source": [
        "Consider the following terms we use:\n",
        "* unique flight - a record (row) in the dataset\n",
        "* completed flight = flight that is not cancelled (Cancelled==0 in the dataset)\n",
        "* flight code - a combination of ['UniqueCarrier','FlightNum'], i.e.  UA52\n",
        "* airport code - a three letter airport alias from 'Origin or 'Dest' columns"
      ]
    },
    {
      "cell_type": "markdown",
      "metadata": {
        "id": "_KAXzRgO3WQa"
      },
      "source": [
        "**Reading data into memory and creating a Pandas ``DataFrame`` object**\n",
        "\n",
        "(This may take a while, be patient)\n",
        "\n",
        "We are not going to read in the whole dataset. In order to reduce memory footprint, we instead load only needed columns and cast them to suitable data types.\n",
        "\n",
        "Use this [link](https://dataverse.harvard.edu/api/access/datafile/:persistentId?persistentId=doi:10.7910/DVN/HG7NV7/EIR0RA) to download the dataset and add the path to below to load to pandas. \n",
        "\n",
        "Run all the cell to confirm everything is running and then attempt the questions"
      ]
    },
    {
      "cell_type": "code",
      "execution_count": 2,
      "metadata": {
        "id": "39KfSa6j3WQa"
      },
      "outputs": [],
      "source": [
        "import numpy as np\n",
        "import pandas as pd\n",
        "import matplotlib.pyplot as plt\n",
        "import seaborn as sns\n",
        "import os\n",
        "%matplotlib inline"
      ]
    },
    {
      "cell_type": "code",
      "execution_count": 3,
      "metadata": {
        "id": "osh5d7b53WQa"
      },
      "outputs": [],
      "source": [
        "dtype = {'DayOfWeek': np.uint8, 'DayofMonth': np.uint8, 'Month': np.uint8 , \n",
        "         'Cancelled': np.uint8, 'Year': np.uint16, 'FlightNum': np.uint16 , \n",
        "         'Distance': np.uint16, 'UniqueCarrier': str, 'CancellationCode': str, \n",
        "         'Origin': str, 'Dest': str, 'ArrDelay': np.float16, \n",
        "         'DepDelay': np.float16, 'CarrierDelay': np.float16, \n",
        "         'WeatherDelay': np.float16, 'NASDelay': np.float16, \n",
        "         'SecurityDelay': np.float16, 'LateAircraftDelay': np.float16, \n",
        "         'DepTime': np.float16}"
      ]
    },
    {
      "cell_type": "code",
      "execution_count": 4,
      "metadata": {
        "colab": {
          "base_uri": "https://localhost:8080/"
        },
        "id": "cSXmZH0q3WQb",
        "outputId": "73567e13-fb5a-40c1-da90-7c7840b5a3d7"
      },
      "outputs": [
        {
          "output_type": "stream",
          "name": "stdout",
          "text": [
            "CPU times: user 28.3 s, sys: 929 ms, total: 29.2 s\n",
            "Wall time: 31.9 s\n"
          ]
        }
      ],
      "source": [
        "%%time\n",
        "# change the path if needed\n",
        "path = \"/content/2008.csv.bz2\"\n",
        "flights_df = pd.read_csv(path, usecols=dtype.keys(), dtype=dtype)"
      ]
    },
    {
      "cell_type": "markdown",
      "metadata": {
        "id": "_6J3UbqU3WQc"
      },
      "source": [
        "**Check the number of rows and columns and print column names.**"
      ]
    },
    {
      "cell_type": "code",
      "execution_count": 5,
      "metadata": {
        "colab": {
          "base_uri": "https://localhost:8080/"
        },
        "id": "8BRZR4FA3WQc",
        "outputId": "ef4fbed6-ca9a-4ec0-d4c0-32264162b8e0"
      },
      "outputs": [
        {
          "output_type": "stream",
          "name": "stdout",
          "text": [
            "(2389217, 19)\n",
            "Index(['Year', 'Month', 'DayofMonth', 'DayOfWeek', 'DepTime', 'UniqueCarrier',\n",
            "       'FlightNum', 'ArrDelay', 'DepDelay', 'Origin', 'Dest', 'Distance',\n",
            "       'Cancelled', 'CancellationCode', 'CarrierDelay', 'WeatherDelay',\n",
            "       'NASDelay', 'SecurityDelay', 'LateAircraftDelay'],\n",
            "      dtype='object')\n"
          ]
        }
      ],
      "source": [
        "print(flights_df.shape)\n",
        "print(flights_df.columns)"
      ]
    },
    {
      "cell_type": "markdown",
      "metadata": {
        "id": "m12uMFO23WQc"
      },
      "source": [
        "**Print first 5 rows of the dataset.**"
      ]
    },
    {
      "cell_type": "code",
      "execution_count": 6,
      "metadata": {
        "colab": {
          "base_uri": "https://localhost:8080/",
          "height": 270
        },
        "id": "ihApb5Rt3WQc",
        "outputId": "ab763b8c-0975-4db1-84a6-83e9c5c71945"
      },
      "outputs": [
        {
          "output_type": "execute_result",
          "data": {
            "text/plain": [
              "   Year  Month  DayofMonth  DayOfWeek  DepTime UniqueCarrier  FlightNum  \\\n",
              "0  2008      1           3          4   1343.0            WN        588   \n",
              "1  2008      1           3          4   1125.0            WN       1343   \n",
              "2  2008      1           3          4   2009.0            WN       3841   \n",
              "3  2008      1           3          4    903.0            WN          3   \n",
              "4  2008      1           3          4   1423.0            WN         25   \n",
              "\n",
              "   ArrDelay  DepDelay Origin Dest  Distance  Cancelled CancellationCode  \\\n",
              "0      16.0      18.0    HOU  LIT       393          0              NaN   \n",
              "1       2.0       5.0    HOU  MAF       441          0              NaN   \n",
              "2      -4.0      -6.0    HOU  MAF       441          0              NaN   \n",
              "3      -2.0       8.0    HOU  MCO       848          0              NaN   \n",
              "4      16.0      23.0    HOU  MCO       848          0              NaN   \n",
              "\n",
              "   CarrierDelay  WeatherDelay  NASDelay  SecurityDelay  LateAircraftDelay  \n",
              "0          16.0           0.0       0.0            0.0                0.0  \n",
              "1           NaN           NaN       NaN            NaN                NaN  \n",
              "2           NaN           NaN       NaN            NaN                NaN  \n",
              "3           NaN           NaN       NaN            NaN                NaN  \n",
              "4          16.0           0.0       0.0            0.0                0.0  "
            ],
            "text/html": [
              "\n",
              "  <div id=\"df-d6628529-f5e3-434e-928a-a6a842df25c1\">\n",
              "    <div class=\"colab-df-container\">\n",
              "      <div>\n",
              "<style scoped>\n",
              "    .dataframe tbody tr th:only-of-type {\n",
              "        vertical-align: middle;\n",
              "    }\n",
              "\n",
              "    .dataframe tbody tr th {\n",
              "        vertical-align: top;\n",
              "    }\n",
              "\n",
              "    .dataframe thead th {\n",
              "        text-align: right;\n",
              "    }\n",
              "</style>\n",
              "<table border=\"1\" class=\"dataframe\">\n",
              "  <thead>\n",
              "    <tr style=\"text-align: right;\">\n",
              "      <th></th>\n",
              "      <th>Year</th>\n",
              "      <th>Month</th>\n",
              "      <th>DayofMonth</th>\n",
              "      <th>DayOfWeek</th>\n",
              "      <th>DepTime</th>\n",
              "      <th>UniqueCarrier</th>\n",
              "      <th>FlightNum</th>\n",
              "      <th>ArrDelay</th>\n",
              "      <th>DepDelay</th>\n",
              "      <th>Origin</th>\n",
              "      <th>Dest</th>\n",
              "      <th>Distance</th>\n",
              "      <th>Cancelled</th>\n",
              "      <th>CancellationCode</th>\n",
              "      <th>CarrierDelay</th>\n",
              "      <th>WeatherDelay</th>\n",
              "      <th>NASDelay</th>\n",
              "      <th>SecurityDelay</th>\n",
              "      <th>LateAircraftDelay</th>\n",
              "    </tr>\n",
              "  </thead>\n",
              "  <tbody>\n",
              "    <tr>\n",
              "      <th>0</th>\n",
              "      <td>2008</td>\n",
              "      <td>1</td>\n",
              "      <td>3</td>\n",
              "      <td>4</td>\n",
              "      <td>1343.0</td>\n",
              "      <td>WN</td>\n",
              "      <td>588</td>\n",
              "      <td>16.0</td>\n",
              "      <td>18.0</td>\n",
              "      <td>HOU</td>\n",
              "      <td>LIT</td>\n",
              "      <td>393</td>\n",
              "      <td>0</td>\n",
              "      <td>NaN</td>\n",
              "      <td>16.0</td>\n",
              "      <td>0.0</td>\n",
              "      <td>0.0</td>\n",
              "      <td>0.0</td>\n",
              "      <td>0.0</td>\n",
              "    </tr>\n",
              "    <tr>\n",
              "      <th>1</th>\n",
              "      <td>2008</td>\n",
              "      <td>1</td>\n",
              "      <td>3</td>\n",
              "      <td>4</td>\n",
              "      <td>1125.0</td>\n",
              "      <td>WN</td>\n",
              "      <td>1343</td>\n",
              "      <td>2.0</td>\n",
              "      <td>5.0</td>\n",
              "      <td>HOU</td>\n",
              "      <td>MAF</td>\n",
              "      <td>441</td>\n",
              "      <td>0</td>\n",
              "      <td>NaN</td>\n",
              "      <td>NaN</td>\n",
              "      <td>NaN</td>\n",
              "      <td>NaN</td>\n",
              "      <td>NaN</td>\n",
              "      <td>NaN</td>\n",
              "    </tr>\n",
              "    <tr>\n",
              "      <th>2</th>\n",
              "      <td>2008</td>\n",
              "      <td>1</td>\n",
              "      <td>3</td>\n",
              "      <td>4</td>\n",
              "      <td>2009.0</td>\n",
              "      <td>WN</td>\n",
              "      <td>3841</td>\n",
              "      <td>-4.0</td>\n",
              "      <td>-6.0</td>\n",
              "      <td>HOU</td>\n",
              "      <td>MAF</td>\n",
              "      <td>441</td>\n",
              "      <td>0</td>\n",
              "      <td>NaN</td>\n",
              "      <td>NaN</td>\n",
              "      <td>NaN</td>\n",
              "      <td>NaN</td>\n",
              "      <td>NaN</td>\n",
              "      <td>NaN</td>\n",
              "    </tr>\n",
              "    <tr>\n",
              "      <th>3</th>\n",
              "      <td>2008</td>\n",
              "      <td>1</td>\n",
              "      <td>3</td>\n",
              "      <td>4</td>\n",
              "      <td>903.0</td>\n",
              "      <td>WN</td>\n",
              "      <td>3</td>\n",
              "      <td>-2.0</td>\n",
              "      <td>8.0</td>\n",
              "      <td>HOU</td>\n",
              "      <td>MCO</td>\n",
              "      <td>848</td>\n",
              "      <td>0</td>\n",
              "      <td>NaN</td>\n",
              "      <td>NaN</td>\n",
              "      <td>NaN</td>\n",
              "      <td>NaN</td>\n",
              "      <td>NaN</td>\n",
              "      <td>NaN</td>\n",
              "    </tr>\n",
              "    <tr>\n",
              "      <th>4</th>\n",
              "      <td>2008</td>\n",
              "      <td>1</td>\n",
              "      <td>3</td>\n",
              "      <td>4</td>\n",
              "      <td>1423.0</td>\n",
              "      <td>WN</td>\n",
              "      <td>25</td>\n",
              "      <td>16.0</td>\n",
              "      <td>23.0</td>\n",
              "      <td>HOU</td>\n",
              "      <td>MCO</td>\n",
              "      <td>848</td>\n",
              "      <td>0</td>\n",
              "      <td>NaN</td>\n",
              "      <td>16.0</td>\n",
              "      <td>0.0</td>\n",
              "      <td>0.0</td>\n",
              "      <td>0.0</td>\n",
              "      <td>0.0</td>\n",
              "    </tr>\n",
              "  </tbody>\n",
              "</table>\n",
              "</div>\n",
              "      <button class=\"colab-df-convert\" onclick=\"convertToInteractive('df-d6628529-f5e3-434e-928a-a6a842df25c1')\"\n",
              "              title=\"Convert this dataframe to an interactive table.\"\n",
              "              style=\"display:none;\">\n",
              "        \n",
              "  <svg xmlns=\"http://www.w3.org/2000/svg\" height=\"24px\"viewBox=\"0 0 24 24\"\n",
              "       width=\"24px\">\n",
              "    <path d=\"M0 0h24v24H0V0z\" fill=\"none\"/>\n",
              "    <path d=\"M18.56 5.44l.94 2.06.94-2.06 2.06-.94-2.06-.94-.94-2.06-.94 2.06-2.06.94zm-11 1L8.5 8.5l.94-2.06 2.06-.94-2.06-.94L8.5 2.5l-.94 2.06-2.06.94zm10 10l.94 2.06.94-2.06 2.06-.94-2.06-.94-.94-2.06-.94 2.06-2.06.94z\"/><path d=\"M17.41 7.96l-1.37-1.37c-.4-.4-.92-.59-1.43-.59-.52 0-1.04.2-1.43.59L10.3 9.45l-7.72 7.72c-.78.78-.78 2.05 0 2.83L4 21.41c.39.39.9.59 1.41.59.51 0 1.02-.2 1.41-.59l7.78-7.78 2.81-2.81c.8-.78.8-2.07 0-2.86zM5.41 20L4 18.59l7.72-7.72 1.47 1.35L5.41 20z\"/>\n",
              "  </svg>\n",
              "      </button>\n",
              "      \n",
              "  <style>\n",
              "    .colab-df-container {\n",
              "      display:flex;\n",
              "      flex-wrap:wrap;\n",
              "      gap: 12px;\n",
              "    }\n",
              "\n",
              "    .colab-df-convert {\n",
              "      background-color: #E8F0FE;\n",
              "      border: none;\n",
              "      border-radius: 50%;\n",
              "      cursor: pointer;\n",
              "      display: none;\n",
              "      fill: #1967D2;\n",
              "      height: 32px;\n",
              "      padding: 0 0 0 0;\n",
              "      width: 32px;\n",
              "    }\n",
              "\n",
              "    .colab-df-convert:hover {\n",
              "      background-color: #E2EBFA;\n",
              "      box-shadow: 0px 1px 2px rgba(60, 64, 67, 0.3), 0px 1px 3px 1px rgba(60, 64, 67, 0.15);\n",
              "      fill: #174EA6;\n",
              "    }\n",
              "\n",
              "    [theme=dark] .colab-df-convert {\n",
              "      background-color: #3B4455;\n",
              "      fill: #D2E3FC;\n",
              "    }\n",
              "\n",
              "    [theme=dark] .colab-df-convert:hover {\n",
              "      background-color: #434B5C;\n",
              "      box-shadow: 0px 1px 3px 1px rgba(0, 0, 0, 0.15);\n",
              "      filter: drop-shadow(0px 1px 2px rgba(0, 0, 0, 0.3));\n",
              "      fill: #FFFFFF;\n",
              "    }\n",
              "  </style>\n",
              "\n",
              "      <script>\n",
              "        const buttonEl =\n",
              "          document.querySelector('#df-d6628529-f5e3-434e-928a-a6a842df25c1 button.colab-df-convert');\n",
              "        buttonEl.style.display =\n",
              "          google.colab.kernel.accessAllowed ? 'block' : 'none';\n",
              "\n",
              "        async function convertToInteractive(key) {\n",
              "          const element = document.querySelector('#df-d6628529-f5e3-434e-928a-a6a842df25c1');\n",
              "          const dataTable =\n",
              "            await google.colab.kernel.invokeFunction('convertToInteractive',\n",
              "                                                     [key], {});\n",
              "          if (!dataTable) return;\n",
              "\n",
              "          const docLinkHtml = 'Like what you see? Visit the ' +\n",
              "            '<a target=\"_blank\" href=https://colab.research.google.com/notebooks/data_table.ipynb>data table notebook</a>'\n",
              "            + ' to learn more about interactive tables.';\n",
              "          element.innerHTML = '';\n",
              "          dataTable['output_type'] = 'display_data';\n",
              "          await google.colab.output.renderOutput(dataTable, element);\n",
              "          const docLink = document.createElement('div');\n",
              "          docLink.innerHTML = docLinkHtml;\n",
              "          element.appendChild(docLink);\n",
              "        }\n",
              "      </script>\n",
              "    </div>\n",
              "  </div>\n",
              "  "
            ]
          },
          "metadata": {},
          "execution_count": 6
        }
      ],
      "source": [
        "flights_df.head()"
      ]
    },
    {
      "cell_type": "markdown",
      "metadata": {
        "id": "6thEHlzy3WQc"
      },
      "source": [
        "**Transpose the frame to see all features at once.**"
      ]
    },
    {
      "cell_type": "code",
      "execution_count": 7,
      "metadata": {
        "colab": {
          "base_uri": "https://localhost:8080/",
          "height": 645
        },
        "id": "Ctv_Uysw3WQc",
        "outputId": "ae517ad9-8a43-452b-940d-a775b3bb46f5"
      },
      "outputs": [
        {
          "output_type": "execute_result",
          "data": {
            "text/plain": [
              "                        0       1       2      3       4\n",
              "Year                 2008    2008    2008   2008    2008\n",
              "Month                   1       1       1      1       1\n",
              "DayofMonth              3       3       3      3       3\n",
              "DayOfWeek               4       4       4      4       4\n",
              "DepTime            1343.0  1125.0  2009.0  903.0  1423.0\n",
              "UniqueCarrier          WN      WN      WN     WN      WN\n",
              "FlightNum             588    1343    3841      3      25\n",
              "ArrDelay             16.0     2.0    -4.0   -2.0    16.0\n",
              "DepDelay             18.0     5.0    -6.0    8.0    23.0\n",
              "Origin                HOU     HOU     HOU    HOU     HOU\n",
              "Dest                  LIT     MAF     MAF    MCO     MCO\n",
              "Distance              393     441     441    848     848\n",
              "Cancelled               0       0       0      0       0\n",
              "CancellationCode      NaN     NaN     NaN    NaN     NaN\n",
              "CarrierDelay         16.0     NaN     NaN    NaN    16.0\n",
              "WeatherDelay          0.0     NaN     NaN    NaN     0.0\n",
              "NASDelay              0.0     NaN     NaN    NaN     0.0\n",
              "SecurityDelay         0.0     NaN     NaN    NaN     0.0\n",
              "LateAircraftDelay     0.0     NaN     NaN    NaN     0.0"
            ],
            "text/html": [
              "\n",
              "  <div id=\"df-97386d37-6cc7-4f1d-90f8-c60b62939f3d\">\n",
              "    <div class=\"colab-df-container\">\n",
              "      <div>\n",
              "<style scoped>\n",
              "    .dataframe tbody tr th:only-of-type {\n",
              "        vertical-align: middle;\n",
              "    }\n",
              "\n",
              "    .dataframe tbody tr th {\n",
              "        vertical-align: top;\n",
              "    }\n",
              "\n",
              "    .dataframe thead th {\n",
              "        text-align: right;\n",
              "    }\n",
              "</style>\n",
              "<table border=\"1\" class=\"dataframe\">\n",
              "  <thead>\n",
              "    <tr style=\"text-align: right;\">\n",
              "      <th></th>\n",
              "      <th>0</th>\n",
              "      <th>1</th>\n",
              "      <th>2</th>\n",
              "      <th>3</th>\n",
              "      <th>4</th>\n",
              "    </tr>\n",
              "  </thead>\n",
              "  <tbody>\n",
              "    <tr>\n",
              "      <th>Year</th>\n",
              "      <td>2008</td>\n",
              "      <td>2008</td>\n",
              "      <td>2008</td>\n",
              "      <td>2008</td>\n",
              "      <td>2008</td>\n",
              "    </tr>\n",
              "    <tr>\n",
              "      <th>Month</th>\n",
              "      <td>1</td>\n",
              "      <td>1</td>\n",
              "      <td>1</td>\n",
              "      <td>1</td>\n",
              "      <td>1</td>\n",
              "    </tr>\n",
              "    <tr>\n",
              "      <th>DayofMonth</th>\n",
              "      <td>3</td>\n",
              "      <td>3</td>\n",
              "      <td>3</td>\n",
              "      <td>3</td>\n",
              "      <td>3</td>\n",
              "    </tr>\n",
              "    <tr>\n",
              "      <th>DayOfWeek</th>\n",
              "      <td>4</td>\n",
              "      <td>4</td>\n",
              "      <td>4</td>\n",
              "      <td>4</td>\n",
              "      <td>4</td>\n",
              "    </tr>\n",
              "    <tr>\n",
              "      <th>DepTime</th>\n",
              "      <td>1343.0</td>\n",
              "      <td>1125.0</td>\n",
              "      <td>2009.0</td>\n",
              "      <td>903.0</td>\n",
              "      <td>1423.0</td>\n",
              "    </tr>\n",
              "    <tr>\n",
              "      <th>UniqueCarrier</th>\n",
              "      <td>WN</td>\n",
              "      <td>WN</td>\n",
              "      <td>WN</td>\n",
              "      <td>WN</td>\n",
              "      <td>WN</td>\n",
              "    </tr>\n",
              "    <tr>\n",
              "      <th>FlightNum</th>\n",
              "      <td>588</td>\n",
              "      <td>1343</td>\n",
              "      <td>3841</td>\n",
              "      <td>3</td>\n",
              "      <td>25</td>\n",
              "    </tr>\n",
              "    <tr>\n",
              "      <th>ArrDelay</th>\n",
              "      <td>16.0</td>\n",
              "      <td>2.0</td>\n",
              "      <td>-4.0</td>\n",
              "      <td>-2.0</td>\n",
              "      <td>16.0</td>\n",
              "    </tr>\n",
              "    <tr>\n",
              "      <th>DepDelay</th>\n",
              "      <td>18.0</td>\n",
              "      <td>5.0</td>\n",
              "      <td>-6.0</td>\n",
              "      <td>8.0</td>\n",
              "      <td>23.0</td>\n",
              "    </tr>\n",
              "    <tr>\n",
              "      <th>Origin</th>\n",
              "      <td>HOU</td>\n",
              "      <td>HOU</td>\n",
              "      <td>HOU</td>\n",
              "      <td>HOU</td>\n",
              "      <td>HOU</td>\n",
              "    </tr>\n",
              "    <tr>\n",
              "      <th>Dest</th>\n",
              "      <td>LIT</td>\n",
              "      <td>MAF</td>\n",
              "      <td>MAF</td>\n",
              "      <td>MCO</td>\n",
              "      <td>MCO</td>\n",
              "    </tr>\n",
              "    <tr>\n",
              "      <th>Distance</th>\n",
              "      <td>393</td>\n",
              "      <td>441</td>\n",
              "      <td>441</td>\n",
              "      <td>848</td>\n",
              "      <td>848</td>\n",
              "    </tr>\n",
              "    <tr>\n",
              "      <th>Cancelled</th>\n",
              "      <td>0</td>\n",
              "      <td>0</td>\n",
              "      <td>0</td>\n",
              "      <td>0</td>\n",
              "      <td>0</td>\n",
              "    </tr>\n",
              "    <tr>\n",
              "      <th>CancellationCode</th>\n",
              "      <td>NaN</td>\n",
              "      <td>NaN</td>\n",
              "      <td>NaN</td>\n",
              "      <td>NaN</td>\n",
              "      <td>NaN</td>\n",
              "    </tr>\n",
              "    <tr>\n",
              "      <th>CarrierDelay</th>\n",
              "      <td>16.0</td>\n",
              "      <td>NaN</td>\n",
              "      <td>NaN</td>\n",
              "      <td>NaN</td>\n",
              "      <td>16.0</td>\n",
              "    </tr>\n",
              "    <tr>\n",
              "      <th>WeatherDelay</th>\n",
              "      <td>0.0</td>\n",
              "      <td>NaN</td>\n",
              "      <td>NaN</td>\n",
              "      <td>NaN</td>\n",
              "      <td>0.0</td>\n",
              "    </tr>\n",
              "    <tr>\n",
              "      <th>NASDelay</th>\n",
              "      <td>0.0</td>\n",
              "      <td>NaN</td>\n",
              "      <td>NaN</td>\n",
              "      <td>NaN</td>\n",
              "      <td>0.0</td>\n",
              "    </tr>\n",
              "    <tr>\n",
              "      <th>SecurityDelay</th>\n",
              "      <td>0.0</td>\n",
              "      <td>NaN</td>\n",
              "      <td>NaN</td>\n",
              "      <td>NaN</td>\n",
              "      <td>0.0</td>\n",
              "    </tr>\n",
              "    <tr>\n",
              "      <th>LateAircraftDelay</th>\n",
              "      <td>0.0</td>\n",
              "      <td>NaN</td>\n",
              "      <td>NaN</td>\n",
              "      <td>NaN</td>\n",
              "      <td>0.0</td>\n",
              "    </tr>\n",
              "  </tbody>\n",
              "</table>\n",
              "</div>\n",
              "      <button class=\"colab-df-convert\" onclick=\"convertToInteractive('df-97386d37-6cc7-4f1d-90f8-c60b62939f3d')\"\n",
              "              title=\"Convert this dataframe to an interactive table.\"\n",
              "              style=\"display:none;\">\n",
              "        \n",
              "  <svg xmlns=\"http://www.w3.org/2000/svg\" height=\"24px\"viewBox=\"0 0 24 24\"\n",
              "       width=\"24px\">\n",
              "    <path d=\"M0 0h24v24H0V0z\" fill=\"none\"/>\n",
              "    <path d=\"M18.56 5.44l.94 2.06.94-2.06 2.06-.94-2.06-.94-.94-2.06-.94 2.06-2.06.94zm-11 1L8.5 8.5l.94-2.06 2.06-.94-2.06-.94L8.5 2.5l-.94 2.06-2.06.94zm10 10l.94 2.06.94-2.06 2.06-.94-2.06-.94-.94-2.06-.94 2.06-2.06.94z\"/><path d=\"M17.41 7.96l-1.37-1.37c-.4-.4-.92-.59-1.43-.59-.52 0-1.04.2-1.43.59L10.3 9.45l-7.72 7.72c-.78.78-.78 2.05 0 2.83L4 21.41c.39.39.9.59 1.41.59.51 0 1.02-.2 1.41-.59l7.78-7.78 2.81-2.81c.8-.78.8-2.07 0-2.86zM5.41 20L4 18.59l7.72-7.72 1.47 1.35L5.41 20z\"/>\n",
              "  </svg>\n",
              "      </button>\n",
              "      \n",
              "  <style>\n",
              "    .colab-df-container {\n",
              "      display:flex;\n",
              "      flex-wrap:wrap;\n",
              "      gap: 12px;\n",
              "    }\n",
              "\n",
              "    .colab-df-convert {\n",
              "      background-color: #E8F0FE;\n",
              "      border: none;\n",
              "      border-radius: 50%;\n",
              "      cursor: pointer;\n",
              "      display: none;\n",
              "      fill: #1967D2;\n",
              "      height: 32px;\n",
              "      padding: 0 0 0 0;\n",
              "      width: 32px;\n",
              "    }\n",
              "\n",
              "    .colab-df-convert:hover {\n",
              "      background-color: #E2EBFA;\n",
              "      box-shadow: 0px 1px 2px rgba(60, 64, 67, 0.3), 0px 1px 3px 1px rgba(60, 64, 67, 0.15);\n",
              "      fill: #174EA6;\n",
              "    }\n",
              "\n",
              "    [theme=dark] .colab-df-convert {\n",
              "      background-color: #3B4455;\n",
              "      fill: #D2E3FC;\n",
              "    }\n",
              "\n",
              "    [theme=dark] .colab-df-convert:hover {\n",
              "      background-color: #434B5C;\n",
              "      box-shadow: 0px 1px 3px 1px rgba(0, 0, 0, 0.15);\n",
              "      filter: drop-shadow(0px 1px 2px rgba(0, 0, 0, 0.3));\n",
              "      fill: #FFFFFF;\n",
              "    }\n",
              "  </style>\n",
              "\n",
              "      <script>\n",
              "        const buttonEl =\n",
              "          document.querySelector('#df-97386d37-6cc7-4f1d-90f8-c60b62939f3d button.colab-df-convert');\n",
              "        buttonEl.style.display =\n",
              "          google.colab.kernel.accessAllowed ? 'block' : 'none';\n",
              "\n",
              "        async function convertToInteractive(key) {\n",
              "          const element = document.querySelector('#df-97386d37-6cc7-4f1d-90f8-c60b62939f3d');\n",
              "          const dataTable =\n",
              "            await google.colab.kernel.invokeFunction('convertToInteractive',\n",
              "                                                     [key], {});\n",
              "          if (!dataTable) return;\n",
              "\n",
              "          const docLinkHtml = 'Like what you see? Visit the ' +\n",
              "            '<a target=\"_blank\" href=https://colab.research.google.com/notebooks/data_table.ipynb>data table notebook</a>'\n",
              "            + ' to learn more about interactive tables.';\n",
              "          element.innerHTML = '';\n",
              "          dataTable['output_type'] = 'display_data';\n",
              "          await google.colab.output.renderOutput(dataTable, element);\n",
              "          const docLink = document.createElement('div');\n",
              "          docLink.innerHTML = docLinkHtml;\n",
              "          element.appendChild(docLink);\n",
              "        }\n",
              "      </script>\n",
              "    </div>\n",
              "  </div>\n",
              "  "
            ]
          },
          "metadata": {},
          "execution_count": 7
        }
      ],
      "source": [
        "flights_df.head().T"
      ]
    },
    {
      "cell_type": "markdown",
      "metadata": {
        "id": "BIdE7hoY3WQd"
      },
      "source": [
        "**Examine data types of all features and total dataframe size in memory.**"
      ]
    },
    {
      "cell_type": "code",
      "execution_count": 8,
      "metadata": {
        "id": "C84ujwiG3WQd"
      },
      "outputs": [],
      "source": [
        "miss_percent = 100 * (flights_df.isnull().sum()/len(flights_df))"
      ]
    },
    {
      "cell_type": "code",
      "execution_count": 9,
      "metadata": {
        "id": "GnBSUueN3WQd",
        "outputId": "b64d7b3a-be7e-484e-cf21-27f51948c5e4",
        "colab": {
          "base_uri": "https://localhost:8080/"
        }
      },
      "outputs": [
        {
          "output_type": "execute_result",
          "data": {
            "text/plain": [
              "Year                  0.000000\n",
              "Month                 0.000000\n",
              "DayofMonth            0.000000\n",
              "DayOfWeek             0.000000\n",
              "DepTime               2.697202\n",
              "UniqueCarrier         0.000000\n",
              "FlightNum             0.000000\n",
              "ArrDelay              2.933848\n",
              "DepDelay              2.697202\n",
              "Origin                0.000000\n",
              "Dest                  0.000000\n",
              "Distance              0.000000\n",
              "Cancelled             0.000000\n",
              "CancellationCode     97.302798\n",
              "CarrierDelay         75.532444\n",
              "WeatherDelay         75.532444\n",
              "NASDelay             75.532444\n",
              "SecurityDelay        75.532444\n",
              "LateAircraftDelay    75.532444\n",
              "dtype: float64"
            ]
          },
          "metadata": {},
          "execution_count": 9
        }
      ],
      "source": [
        "miss_percent"
      ]
    },
    {
      "cell_type": "markdown",
      "metadata": {
        "id": "iOfhCORo3WQd"
      },
      "source": [
        "**Get basic statistics of each feature.**"
      ]
    },
    {
      "cell_type": "code",
      "execution_count": 10,
      "metadata": {
        "id": "u_DC3JIT3WQd",
        "outputId": "e8876a0e-5795-4e8f-ef6d-b38227469bd6",
        "colab": {
          "base_uri": "https://localhost:8080/",
          "height": 520
        }
      },
      "outputs": [
        {
          "output_type": "execute_result",
          "data": {
            "text/plain": [
              "                       count         mean          std     min     25%  \\\n",
              "Year               2389217.0  2008.000000     0.000000  2008.0  2008.0   \n",
              "Month              2389217.0     2.505009     1.121493     1.0     1.0   \n",
              "DayofMonth         2389217.0    15.663856     8.750405     1.0     8.0   \n",
              "DayOfWeek          2389217.0     3.909625     1.980431     1.0     2.0   \n",
              "DepTime            2324775.0          NaN          NaN     1.0   930.0   \n",
              "FlightNum          2389217.0  2213.887980  1951.392101     1.0   605.0   \n",
              "ArrDelay           2319121.0          NaN          NaN   -91.0    -9.0   \n",
              "DepDelay           2324775.0          NaN          NaN   -92.0    -4.0   \n",
              "Distance           2389217.0   726.158911   557.176261    17.0   325.0   \n",
              "Cancelled          2389217.0     0.026972     0.162002     0.0     0.0   \n",
              "CarrierDelay        584583.0          NaN          NaN     0.0     0.0   \n",
              "WeatherDelay        584583.0          NaN          NaN     0.0     0.0   \n",
              "NASDelay            584583.0          NaN          NaN     0.0     0.0   \n",
              "SecurityDelay       584583.0     0.000000          NaN     0.0     0.0   \n",
              "LateAircraftDelay   584583.0          NaN          NaN     0.0     0.0   \n",
              "\n",
              "                      50%     75%     max  \n",
              "Year               2008.0  2008.0  2008.0  \n",
              "Month                 3.0     4.0     4.0  \n",
              "DayofMonth           16.0    23.0    31.0  \n",
              "DayOfWeek             4.0     6.0     7.0  \n",
              "DepTime            1330.0  1733.0  2400.0  \n",
              "FlightNum          1544.0  3631.0  9741.0  \n",
              "ArrDelay              0.0    15.0  2460.0  \n",
              "DepDelay              0.0    11.0  2468.0  \n",
              "Distance            583.0   957.0  4962.0  \n",
              "Cancelled             0.0     0.0     1.0  \n",
              "CarrierDelay          0.0    16.0  2436.0  \n",
              "WeatherDelay          0.0     0.0  1148.0  \n",
              "NASDelay              5.0    20.0  1357.0  \n",
              "SecurityDelay         0.0     0.0   392.0  \n",
              "LateAircraftDelay     0.0    27.0  1254.0  "
            ],
            "text/html": [
              "\n",
              "  <div id=\"df-72139143-6682-4b33-b951-a30ad4c0d7f1\">\n",
              "    <div class=\"colab-df-container\">\n",
              "      <div>\n",
              "<style scoped>\n",
              "    .dataframe tbody tr th:only-of-type {\n",
              "        vertical-align: middle;\n",
              "    }\n",
              "\n",
              "    .dataframe tbody tr th {\n",
              "        vertical-align: top;\n",
              "    }\n",
              "\n",
              "    .dataframe thead th {\n",
              "        text-align: right;\n",
              "    }\n",
              "</style>\n",
              "<table border=\"1\" class=\"dataframe\">\n",
              "  <thead>\n",
              "    <tr style=\"text-align: right;\">\n",
              "      <th></th>\n",
              "      <th>count</th>\n",
              "      <th>mean</th>\n",
              "      <th>std</th>\n",
              "      <th>min</th>\n",
              "      <th>25%</th>\n",
              "      <th>50%</th>\n",
              "      <th>75%</th>\n",
              "      <th>max</th>\n",
              "    </tr>\n",
              "  </thead>\n",
              "  <tbody>\n",
              "    <tr>\n",
              "      <th>Year</th>\n",
              "      <td>2389217.0</td>\n",
              "      <td>2008.000000</td>\n",
              "      <td>0.000000</td>\n",
              "      <td>2008.0</td>\n",
              "      <td>2008.0</td>\n",
              "      <td>2008.0</td>\n",
              "      <td>2008.0</td>\n",
              "      <td>2008.0</td>\n",
              "    </tr>\n",
              "    <tr>\n",
              "      <th>Month</th>\n",
              "      <td>2389217.0</td>\n",
              "      <td>2.505009</td>\n",
              "      <td>1.121493</td>\n",
              "      <td>1.0</td>\n",
              "      <td>1.0</td>\n",
              "      <td>3.0</td>\n",
              "      <td>4.0</td>\n",
              "      <td>4.0</td>\n",
              "    </tr>\n",
              "    <tr>\n",
              "      <th>DayofMonth</th>\n",
              "      <td>2389217.0</td>\n",
              "      <td>15.663856</td>\n",
              "      <td>8.750405</td>\n",
              "      <td>1.0</td>\n",
              "      <td>8.0</td>\n",
              "      <td>16.0</td>\n",
              "      <td>23.0</td>\n",
              "      <td>31.0</td>\n",
              "    </tr>\n",
              "    <tr>\n",
              "      <th>DayOfWeek</th>\n",
              "      <td>2389217.0</td>\n",
              "      <td>3.909625</td>\n",
              "      <td>1.980431</td>\n",
              "      <td>1.0</td>\n",
              "      <td>2.0</td>\n",
              "      <td>4.0</td>\n",
              "      <td>6.0</td>\n",
              "      <td>7.0</td>\n",
              "    </tr>\n",
              "    <tr>\n",
              "      <th>DepTime</th>\n",
              "      <td>2324775.0</td>\n",
              "      <td>NaN</td>\n",
              "      <td>NaN</td>\n",
              "      <td>1.0</td>\n",
              "      <td>930.0</td>\n",
              "      <td>1330.0</td>\n",
              "      <td>1733.0</td>\n",
              "      <td>2400.0</td>\n",
              "    </tr>\n",
              "    <tr>\n",
              "      <th>FlightNum</th>\n",
              "      <td>2389217.0</td>\n",
              "      <td>2213.887980</td>\n",
              "      <td>1951.392101</td>\n",
              "      <td>1.0</td>\n",
              "      <td>605.0</td>\n",
              "      <td>1544.0</td>\n",
              "      <td>3631.0</td>\n",
              "      <td>9741.0</td>\n",
              "    </tr>\n",
              "    <tr>\n",
              "      <th>ArrDelay</th>\n",
              "      <td>2319121.0</td>\n",
              "      <td>NaN</td>\n",
              "      <td>NaN</td>\n",
              "      <td>-91.0</td>\n",
              "      <td>-9.0</td>\n",
              "      <td>0.0</td>\n",
              "      <td>15.0</td>\n",
              "      <td>2460.0</td>\n",
              "    </tr>\n",
              "    <tr>\n",
              "      <th>DepDelay</th>\n",
              "      <td>2324775.0</td>\n",
              "      <td>NaN</td>\n",
              "      <td>NaN</td>\n",
              "      <td>-92.0</td>\n",
              "      <td>-4.0</td>\n",
              "      <td>0.0</td>\n",
              "      <td>11.0</td>\n",
              "      <td>2468.0</td>\n",
              "    </tr>\n",
              "    <tr>\n",
              "      <th>Distance</th>\n",
              "      <td>2389217.0</td>\n",
              "      <td>726.158911</td>\n",
              "      <td>557.176261</td>\n",
              "      <td>17.0</td>\n",
              "      <td>325.0</td>\n",
              "      <td>583.0</td>\n",
              "      <td>957.0</td>\n",
              "      <td>4962.0</td>\n",
              "    </tr>\n",
              "    <tr>\n",
              "      <th>Cancelled</th>\n",
              "      <td>2389217.0</td>\n",
              "      <td>0.026972</td>\n",
              "      <td>0.162002</td>\n",
              "      <td>0.0</td>\n",
              "      <td>0.0</td>\n",
              "      <td>0.0</td>\n",
              "      <td>0.0</td>\n",
              "      <td>1.0</td>\n",
              "    </tr>\n",
              "    <tr>\n",
              "      <th>CarrierDelay</th>\n",
              "      <td>584583.0</td>\n",
              "      <td>NaN</td>\n",
              "      <td>NaN</td>\n",
              "      <td>0.0</td>\n",
              "      <td>0.0</td>\n",
              "      <td>0.0</td>\n",
              "      <td>16.0</td>\n",
              "      <td>2436.0</td>\n",
              "    </tr>\n",
              "    <tr>\n",
              "      <th>WeatherDelay</th>\n",
              "      <td>584583.0</td>\n",
              "      <td>NaN</td>\n",
              "      <td>NaN</td>\n",
              "      <td>0.0</td>\n",
              "      <td>0.0</td>\n",
              "      <td>0.0</td>\n",
              "      <td>0.0</td>\n",
              "      <td>1148.0</td>\n",
              "    </tr>\n",
              "    <tr>\n",
              "      <th>NASDelay</th>\n",
              "      <td>584583.0</td>\n",
              "      <td>NaN</td>\n",
              "      <td>NaN</td>\n",
              "      <td>0.0</td>\n",
              "      <td>0.0</td>\n",
              "      <td>5.0</td>\n",
              "      <td>20.0</td>\n",
              "      <td>1357.0</td>\n",
              "    </tr>\n",
              "    <tr>\n",
              "      <th>SecurityDelay</th>\n",
              "      <td>584583.0</td>\n",
              "      <td>0.000000</td>\n",
              "      <td>NaN</td>\n",
              "      <td>0.0</td>\n",
              "      <td>0.0</td>\n",
              "      <td>0.0</td>\n",
              "      <td>0.0</td>\n",
              "      <td>392.0</td>\n",
              "    </tr>\n",
              "    <tr>\n",
              "      <th>LateAircraftDelay</th>\n",
              "      <td>584583.0</td>\n",
              "      <td>NaN</td>\n",
              "      <td>NaN</td>\n",
              "      <td>0.0</td>\n",
              "      <td>0.0</td>\n",
              "      <td>0.0</td>\n",
              "      <td>27.0</td>\n",
              "      <td>1254.0</td>\n",
              "    </tr>\n",
              "  </tbody>\n",
              "</table>\n",
              "</div>\n",
              "      <button class=\"colab-df-convert\" onclick=\"convertToInteractive('df-72139143-6682-4b33-b951-a30ad4c0d7f1')\"\n",
              "              title=\"Convert this dataframe to an interactive table.\"\n",
              "              style=\"display:none;\">\n",
              "        \n",
              "  <svg xmlns=\"http://www.w3.org/2000/svg\" height=\"24px\"viewBox=\"0 0 24 24\"\n",
              "       width=\"24px\">\n",
              "    <path d=\"M0 0h24v24H0V0z\" fill=\"none\"/>\n",
              "    <path d=\"M18.56 5.44l.94 2.06.94-2.06 2.06-.94-2.06-.94-.94-2.06-.94 2.06-2.06.94zm-11 1L8.5 8.5l.94-2.06 2.06-.94-2.06-.94L8.5 2.5l-.94 2.06-2.06.94zm10 10l.94 2.06.94-2.06 2.06-.94-2.06-.94-.94-2.06-.94 2.06-2.06.94z\"/><path d=\"M17.41 7.96l-1.37-1.37c-.4-.4-.92-.59-1.43-.59-.52 0-1.04.2-1.43.59L10.3 9.45l-7.72 7.72c-.78.78-.78 2.05 0 2.83L4 21.41c.39.39.9.59 1.41.59.51 0 1.02-.2 1.41-.59l7.78-7.78 2.81-2.81c.8-.78.8-2.07 0-2.86zM5.41 20L4 18.59l7.72-7.72 1.47 1.35L5.41 20z\"/>\n",
              "  </svg>\n",
              "      </button>\n",
              "      \n",
              "  <style>\n",
              "    .colab-df-container {\n",
              "      display:flex;\n",
              "      flex-wrap:wrap;\n",
              "      gap: 12px;\n",
              "    }\n",
              "\n",
              "    .colab-df-convert {\n",
              "      background-color: #E8F0FE;\n",
              "      border: none;\n",
              "      border-radius: 50%;\n",
              "      cursor: pointer;\n",
              "      display: none;\n",
              "      fill: #1967D2;\n",
              "      height: 32px;\n",
              "      padding: 0 0 0 0;\n",
              "      width: 32px;\n",
              "    }\n",
              "\n",
              "    .colab-df-convert:hover {\n",
              "      background-color: #E2EBFA;\n",
              "      box-shadow: 0px 1px 2px rgba(60, 64, 67, 0.3), 0px 1px 3px 1px rgba(60, 64, 67, 0.15);\n",
              "      fill: #174EA6;\n",
              "    }\n",
              "\n",
              "    [theme=dark] .colab-df-convert {\n",
              "      background-color: #3B4455;\n",
              "      fill: #D2E3FC;\n",
              "    }\n",
              "\n",
              "    [theme=dark] .colab-df-convert:hover {\n",
              "      background-color: #434B5C;\n",
              "      box-shadow: 0px 1px 3px 1px rgba(0, 0, 0, 0.15);\n",
              "      filter: drop-shadow(0px 1px 2px rgba(0, 0, 0, 0.3));\n",
              "      fill: #FFFFFF;\n",
              "    }\n",
              "  </style>\n",
              "\n",
              "      <script>\n",
              "        const buttonEl =\n",
              "          document.querySelector('#df-72139143-6682-4b33-b951-a30ad4c0d7f1 button.colab-df-convert');\n",
              "        buttonEl.style.display =\n",
              "          google.colab.kernel.accessAllowed ? 'block' : 'none';\n",
              "\n",
              "        async function convertToInteractive(key) {\n",
              "          const element = document.querySelector('#df-72139143-6682-4b33-b951-a30ad4c0d7f1');\n",
              "          const dataTable =\n",
              "            await google.colab.kernel.invokeFunction('convertToInteractive',\n",
              "                                                     [key], {});\n",
              "          if (!dataTable) return;\n",
              "\n",
              "          const docLinkHtml = 'Like what you see? Visit the ' +\n",
              "            '<a target=\"_blank\" href=https://colab.research.google.com/notebooks/data_table.ipynb>data table notebook</a>'\n",
              "            + ' to learn more about interactive tables.';\n",
              "          element.innerHTML = '';\n",
              "          dataTable['output_type'] = 'display_data';\n",
              "          await google.colab.output.renderOutput(dataTable, element);\n",
              "          const docLink = document.createElement('div');\n",
              "          docLink.innerHTML = docLinkHtml;\n",
              "          element.appendChild(docLink);\n",
              "        }\n",
              "      </script>\n",
              "    </div>\n",
              "  </div>\n",
              "  "
            ]
          },
          "metadata": {},
          "execution_count": 10
        }
      ],
      "source": [
        "flights_df.describe().T"
      ]
    },
    {
      "cell_type": "markdown",
      "metadata": {
        "id": "xlVMyT9R3WQd"
      },
      "source": [
        "**Count unique Carriers and plot their relative share of flights:**"
      ]
    },
    {
      "cell_type": "code",
      "execution_count": 11,
      "metadata": {
        "id": "wF5M-32D3WQd",
        "outputId": "c4dd48ca-5f1f-4c19-eee4-33fa31b034fe",
        "colab": {
          "base_uri": "https://localhost:8080/"
        }
      },
      "outputs": [
        {
          "output_type": "execute_result",
          "data": {
            "text/plain": [
              "20"
            ]
          },
          "metadata": {},
          "execution_count": 11
        }
      ],
      "source": [
        "flights_df['UniqueCarrier'].nunique()"
      ]
    },
    {
      "cell_type": "code",
      "execution_count": 12,
      "metadata": {
        "id": "dKNimVeB3WQd",
        "outputId": "9a780222-0b56-442b-8b60-0bab058759f7",
        "colab": {
          "base_uri": "https://localhost:8080/"
        }
      },
      "outputs": [
        {
          "output_type": "execute_result",
          "data": {
            "text/plain": [
              "UniqueCarrier\n",
              "WN    398966\n",
              "AA    204519\n",
              "OO    195184\n",
              "MQ    167860\n",
              "UA    154036\n",
              "US    153539\n",
              "DL    151409\n",
              "XE    138757\n",
              "NW    122799\n",
              "CO    102702\n",
              "EV     92383\n",
              "9E     88359\n",
              "FL     86856\n",
              "YV     85686\n",
              "OH     71934\n",
              "B6     67478\n",
              "AS     49885\n",
              "F9     30680\n",
              "HA     18385\n",
              "AQ      7800\n",
              "dtype: int64"
            ]
          },
          "metadata": {},
          "execution_count": 12
        }
      ],
      "source": [
        "flights_df.groupby('UniqueCarrier').size().sort_values(ascending=False)"
      ]
    },
    {
      "cell_type": "code",
      "execution_count": 13,
      "metadata": {
        "scrolled": true,
        "id": "0evrWZeh3WQe",
        "outputId": "c51f8b48-310c-43cd-834d-e37c3461a51a",
        "colab": {
          "base_uri": "https://localhost:8080/",
          "height": 287
        }
      },
      "outputs": [
        {
          "output_type": "display_data",
          "data": {
            "text/plain": [
              "<Figure size 432x288 with 1 Axes>"
            ],
            "image/png": "[encoded data removed]"
          },
          "metadata": {
            "needs_background": "light"
          }
        }
      ],
      "source": [
        "flights_df.groupby('UniqueCarrier').size().plot(kind='bar');"
      ]
    },
    {
      "cell_type": "markdown",
      "metadata": {
        "id": "nZG4eYfq3WQe"
      },
      "source": [
        "**We can also _group by_ category/categories in order to calculate different aggregated statistics.**\n",
        "\n",
        "**For example, finding top-3 flight codes, that have the largest total distance travelled in year 2008.**"
      ]
    },
    {
      "cell_type": "code",
      "execution_count": 14,
      "metadata": {
        "id": "noIDPnwO3WQe",
        "outputId": "e5622780-f507-48fa-d462-fa5d0bf3ff33",
        "colab": {
          "base_uri": "https://localhost:8080/"
        }
      },
      "outputs": [
        {
          "output_type": "execute_result",
          "data": {
            "text/plain": [
              "UniqueCarrier  FlightNum\n",
              "UA             3            729366.0\n",
              "CO             15           600402.0\n",
              "               14           600402.0\n",
              "Name: Distance, dtype: float64"
            ]
          },
          "metadata": {},
          "execution_count": 14
        }
      ],
      "source": [
        "flights_df.groupby(['UniqueCarrier','FlightNum'])['Distance'].sum().sort_values(\n",
        "    ascending=False).iloc[:3]"
      ]
    },
    {
      "cell_type": "markdown",
      "metadata": {
        "id": "ct9Y9TNI3WQe"
      },
      "source": [
        "**Another way:**"
      ]
    },
    {
      "cell_type": "code",
      "execution_count": 15,
      "metadata": {
        "id": "BF8nMnli3WQe",
        "outputId": "2b5acdec-1331-4ba8-954d-5214f0734315",
        "colab": {
          "base_uri": "https://localhost:8080/",
          "height": 206
        }
      },
      "outputs": [
        {
          "output_type": "execute_result",
          "data": {
            "text/plain": [
              "                        Distance                 Cancelled\n",
              "                            mean       sum count       sum\n",
              "UniqueCarrier FlightNum                                   \n",
              "UA            3           2827.0  729366.0   258         4\n",
              "CO            15          4962.0  600402.0   121         0\n",
              "              14          4962.0  600402.0   121         0"
            ],
            "text/html": [
              "\n",
              "  <div id=\"df-d8e3b562-7f52-4896-868b-1e4d88a95287\">\n",
              "    <div class=\"colab-df-container\">\n",
              "      <div>\n",
              "<style scoped>\n",
              "    .dataframe tbody tr th:only-of-type {\n",
              "        vertical-align: middle;\n",
              "    }\n",
              "\n",
              "    .dataframe tbody tr th {\n",
              "        vertical-align: top;\n",
              "    }\n",
              "\n",
              "    .dataframe thead tr th {\n",
              "        text-align: left;\n",
              "    }\n",
              "\n",
              "    .dataframe thead tr:last-of-type th {\n",
              "        text-align: right;\n",
              "    }\n",
              "</style>\n",
              "<table border=\"1\" class=\"dataframe\">\n",
              "  <thead>\n",
              "    <tr>\n",
              "      <th></th>\n",
              "      <th></th>\n",
              "      <th colspan=\"3\" halign=\"left\">Distance</th>\n",
              "      <th>Cancelled</th>\n",
              "    </tr>\n",
              "    <tr>\n",
              "      <th></th>\n",
              "      <th></th>\n",
              "      <th>mean</th>\n",
              "      <th>sum</th>\n",
              "      <th>count</th>\n",
              "      <th>sum</th>\n",
              "    </tr>\n",
              "    <tr>\n",
              "      <th>UniqueCarrier</th>\n",
              "      <th>FlightNum</th>\n",
              "      <th></th>\n",
              "      <th></th>\n",
              "      <th></th>\n",
              "      <th></th>\n",
              "    </tr>\n",
              "  </thead>\n",
              "  <tbody>\n",
              "    <tr>\n",
              "      <th>UA</th>\n",
              "      <th>3</th>\n",
              "      <td>2827.0</td>\n",
              "      <td>729366.0</td>\n",
              "      <td>258</td>\n",
              "      <td>4</td>\n",
              "    </tr>\n",
              "    <tr>\n",
              "      <th rowspan=\"2\" valign=\"top\">CO</th>\n",
              "      <th>15</th>\n",
              "      <td>4962.0</td>\n",
              "      <td>600402.0</td>\n",
              "      <td>121</td>\n",
              "      <td>0</td>\n",
              "    </tr>\n",
              "    <tr>\n",
              "      <th>14</th>\n",
              "      <td>4962.0</td>\n",
              "      <td>600402.0</td>\n",
              "      <td>121</td>\n",
              "      <td>0</td>\n",
              "    </tr>\n",
              "  </tbody>\n",
              "</table>\n",
              "</div>\n",
              "      <button class=\"colab-df-convert\" onclick=\"convertToInteractive('df-d8e3b562-7f52-4896-868b-1e4d88a95287')\"\n",
              "              title=\"Convert this dataframe to an interactive table.\"\n",
              "              style=\"display:none;\">\n",
              "        \n",
              "  <svg xmlns=\"http://www.w3.org/2000/svg\" height=\"24px\"viewBox=\"0 0 24 24\"\n",
              "       width=\"24px\">\n",
              "    <path d=\"M0 0h24v24H0V0z\" fill=\"none\"/>\n",
              "    <path d=\"M18.56 5.44l.94 2.06.94-2.06 2.06-.94-2.06-.94-.94-2.06-.94 2.06-2.06.94zm-11 1L8.5 8.5l.94-2.06 2.06-.94-2.06-.94L8.5 2.5l-.94 2.06-2.06.94zm10 10l.94 2.06.94-2.06 2.06-.94-2.06-.94-.94-2.06-.94 2.06-2.06.94z\"/><path d=\"M17.41 7.96l-1.37-1.37c-.4-.4-.92-.59-1.43-.59-.52 0-1.04.2-1.43.59L10.3 9.45l-7.72 7.72c-.78.78-.78 2.05 0 2.83L4 21.41c.39.39.9.59 1.41.59.51 0 1.02-.2 1.41-.59l7.78-7.78 2.81-2.81c.8-.78.8-2.07 0-2.86zM5.41 20L4 18.59l7.72-7.72 1.47 1.35L5.41 20z\"/>\n",
              "  </svg>\n",
              "      </button>\n",
              "      \n",
              "  <style>\n",
              "    .colab-df-container {\n",
              "      display:flex;\n",
              "      flex-wrap:wrap;\n",
              "      gap: 12px;\n",
              "    }\n",
              "\n",
              "    .colab-df-convert {\n",
              "      background-color: #E8F0FE;\n",
              "      border: none;\n",
              "      border-radius: 50%;\n",
              "      cursor: pointer;\n",
              "      display: none;\n",
              "      fill: #1967D2;\n",
              "      height: 32px;\n",
              "      padding: 0 0 0 0;\n",
              "      width: 32px;\n",
              "    }\n",
              "\n",
              "    .colab-df-convert:hover {\n",
              "      background-color: #E2EBFA;\n",
              "      box-shadow: 0px 1px 2px rgba(60, 64, 67, 0.3), 0px 1px 3px 1px rgba(60, 64, 67, 0.15);\n",
              "      fill: #174EA6;\n",
              "    }\n",
              "\n",
              "    [theme=dark] .colab-df-convert {\n",
              "      background-color: #3B4455;\n",
              "      fill: #D2E3FC;\n",
              "    }\n",
              "\n",
              "    [theme=dark] .colab-df-convert:hover {\n",
              "      background-color: #434B5C;\n",
              "      box-shadow: 0px 1px 3px 1px rgba(0, 0, 0, 0.15);\n",
              "      filter: drop-shadow(0px 1px 2px rgba(0, 0, 0, 0.3));\n",
              "      fill: #FFFFFF;\n",
              "    }\n",
              "  </style>\n",
              "\n",
              "      <script>\n",
              "        const buttonEl =\n",
              "          document.querySelector('#df-d8e3b562-7f52-4896-868b-1e4d88a95287 button.colab-df-convert');\n",
              "        buttonEl.style.display =\n",
              "          google.colab.kernel.accessAllowed ? 'block' : 'none';\n",
              "\n",
              "        async function convertToInteractive(key) {\n",
              "          const element = document.querySelector('#df-d8e3b562-7f52-4896-868b-1e4d88a95287');\n",
              "          const dataTable =\n",
              "            await google.colab.kernel.invokeFunction('convertToInteractive',\n",
              "                                                     [key], {});\n",
              "          if (!dataTable) return;\n",
              "\n",
              "          const docLinkHtml = 'Like what you see? Visit the ' +\n",
              "            '<a target=\"_blank\" href=https://colab.research.google.com/notebooks/data_table.ipynb>data table notebook</a>'\n",
              "            + ' to learn more about interactive tables.';\n",
              "          element.innerHTML = '';\n",
              "          dataTable['output_type'] = 'display_data';\n",
              "          await google.colab.output.renderOutput(dataTable, element);\n",
              "          const docLink = document.createElement('div');\n",
              "          docLink.innerHTML = docLinkHtml;\n",
              "          element.appendChild(docLink);\n",
              "        }\n",
              "      </script>\n",
              "    </div>\n",
              "  </div>\n",
              "  "
            ]
          },
          "metadata": {},
          "execution_count": 15
        }
      ],
      "source": [
        "flights_df.groupby(['UniqueCarrier','FlightNum'])\\\n",
        "  .agg({'Distance': [np.mean, np.sum, 'count'],\n",
        "        'Cancelled': np.sum})\\\n",
        "  .sort_values(('Distance', 'sum'), ascending=False)\\\n",
        "  .iloc[0:3]"
      ]
    },
    {
      "cell_type": "markdown",
      "metadata": {
        "id": "VnUkewHE3WQe"
      },
      "source": [
        "**Number of flights by days of week and months:**"
      ]
    },
    {
      "cell_type": "code",
      "execution_count": 16,
      "metadata": {
        "id": "9uqSEgsI3WQe",
        "outputId": "f9f88988-79d5-4480-9064-b55d41e3a1c9",
        "colab": {
          "base_uri": "https://localhost:8080/",
          "height": 206
        }
      },
      "outputs": [
        {
          "output_type": "execute_result",
          "data": {
            "text/plain": [
              "DayOfWeek       1       2       3       4       5      6      7\n",
              "Month                                                          \n",
              "1           80807   97298  100080  102043   81940  67178  76419\n",
              "2           81504   79700   80587   82158  102726  66462  76099\n",
              "3          103210   81159   82307   82831   82936  86153  97494\n",
              "4           82463  100785  102586   82799   82964  68304  78225"
            ],
            "text/html": [
              "\n",
              "  <div id=\"df-e5b99355-740f-4757-8ecf-f42b927b67df\">\n",
              "    <div class=\"colab-df-container\">\n",
              "      <div>\n",
              "<style scoped>\n",
              "    .dataframe tbody tr th:only-of-type {\n",
              "        vertical-align: middle;\n",
              "    }\n",
              "\n",
              "    .dataframe tbody tr th {\n",
              "        vertical-align: top;\n",
              "    }\n",
              "\n",
              "    .dataframe thead th {\n",
              "        text-align: right;\n",
              "    }\n",
              "</style>\n",
              "<table border=\"1\" class=\"dataframe\">\n",
              "  <thead>\n",
              "    <tr style=\"text-align: right;\">\n",
              "      <th>DayOfWeek</th>\n",
              "      <th>1</th>\n",
              "      <th>2</th>\n",
              "      <th>3</th>\n",
              "      <th>4</th>\n",
              "      <th>5</th>\n",
              "      <th>6</th>\n",
              "      <th>7</th>\n",
              "    </tr>\n",
              "    <tr>\n",
              "      <th>Month</th>\n",
              "      <th></th>\n",
              "      <th></th>\n",
              "      <th></th>\n",
              "      <th></th>\n",
              "      <th></th>\n",
              "      <th></th>\n",
              "      <th></th>\n",
              "    </tr>\n",
              "  </thead>\n",
              "  <tbody>\n",
              "    <tr>\n",
              "      <th>1</th>\n",
              "      <td>80807</td>\n",
              "      <td>97298</td>\n",
              "      <td>100080</td>\n",
              "      <td>102043</td>\n",
              "      <td>81940</td>\n",
              "      <td>67178</td>\n",
              "      <td>76419</td>\n",
              "    </tr>\n",
              "    <tr>\n",
              "      <th>2</th>\n",
              "      <td>81504</td>\n",
              "      <td>79700</td>\n",
              "      <td>80587</td>\n",
              "      <td>82158</td>\n",
              "      <td>102726</td>\n",
              "      <td>66462</td>\n",
              "      <td>76099</td>\n",
              "    </tr>\n",
              "    <tr>\n",
              "      <th>3</th>\n",
              "      <td>103210</td>\n",
              "      <td>81159</td>\n",
              "      <td>82307</td>\n",
              "      <td>82831</td>\n",
              "      <td>82936</td>\n",
              "      <td>86153</td>\n",
              "      <td>97494</td>\n",
              "    </tr>\n",
              "    <tr>\n",
              "      <th>4</th>\n",
              "      <td>82463</td>\n",
              "      <td>100785</td>\n",
              "      <td>102586</td>\n",
              "      <td>82799</td>\n",
              "      <td>82964</td>\n",
              "      <td>68304</td>\n",
              "      <td>78225</td>\n",
              "    </tr>\n",
              "  </tbody>\n",
              "</table>\n",
              "</div>\n",
              "      <button class=\"colab-df-convert\" onclick=\"convertToInteractive('df-e5b99355-740f-4757-8ecf-f42b927b67df')\"\n",
              "              title=\"Convert this dataframe to an interactive table.\"\n",
              "              style=\"display:none;\">\n",
              "        \n",
              "  <svg xmlns=\"http://www.w3.org/2000/svg\" height=\"24px\"viewBox=\"0 0 24 24\"\n",
              "       width=\"24px\">\n",
              "    <path d=\"M0 0h24v24H0V0z\" fill=\"none\"/>\n",
              "    <path d=\"M18.56 5.44l.94 2.06.94-2.06 2.06-.94-2.06-.94-.94-2.06-.94 2.06-2.06.94zm-11 1L8.5 8.5l.94-2.06 2.06-.94-2.06-.94L8.5 2.5l-.94 2.06-2.06.94zm10 10l.94 2.06.94-2.06 2.06-.94-2.06-.94-.94-2.06-.94 2.06-2.06.94z\"/><path d=\"M17.41 7.96l-1.37-1.37c-.4-.4-.92-.59-1.43-.59-.52 0-1.04.2-1.43.59L10.3 9.45l-7.72 7.72c-.78.78-.78 2.05 0 2.83L4 21.41c.39.39.9.59 1.41.59.51 0 1.02-.2 1.41-.59l7.78-7.78 2.81-2.81c.8-.78.8-2.07 0-2.86zM5.41 20L4 18.59l7.72-7.72 1.47 1.35L5.41 20z\"/>\n",
              "  </svg>\n",
              "      </button>\n",
              "      \n",
              "  <style>\n",
              "    .colab-df-container {\n",
              "      display:flex;\n",
              "      flex-wrap:wrap;\n",
              "      gap: 12px;\n",
              "    }\n",
              "\n",
              "    .colab-df-convert {\n",
              "      background-color: #E8F0FE;\n",
              "      border: none;\n",
              "      border-radius: 50%;\n",
              "      cursor: pointer;\n",
              "      display: none;\n",
              "      fill: #1967D2;\n",
              "      height: 32px;\n",
              "      padding: 0 0 0 0;\n",
              "      width: 32px;\n",
              "    }\n",
              "\n",
              "    .colab-df-convert:hover {\n",
              "      background-color: #E2EBFA;\n",
              "      box-shadow: 0px 1px 2px rgba(60, 64, 67, 0.3), 0px 1px 3px 1px rgba(60, 64, 67, 0.15);\n",
              "      fill: #174EA6;\n",
              "    }\n",
              "\n",
              "    [theme=dark] .colab-df-convert {\n",
              "      background-color: #3B4455;\n",
              "      fill: #D2E3FC;\n",
              "    }\n",
              "\n",
              "    [theme=dark] .colab-df-convert:hover {\n",
              "      background-color: #434B5C;\n",
              "      box-shadow: 0px 1px 3px 1px rgba(0, 0, 0, 0.15);\n",
              "      filter: drop-shadow(0px 1px 2px rgba(0, 0, 0, 0.3));\n",
              "      fill: #FFFFFF;\n",
              "    }\n",
              "  </style>\n",
              "\n",
              "      <script>\n",
              "        const buttonEl =\n",
              "          document.querySelector('#df-e5b99355-740f-4757-8ecf-f42b927b67df button.colab-df-convert');\n",
              "        buttonEl.style.display =\n",
              "          google.colab.kernel.accessAllowed ? 'block' : 'none';\n",
              "\n",
              "        async function convertToInteractive(key) {\n",
              "          const element = document.querySelector('#df-e5b99355-740f-4757-8ecf-f42b927b67df');\n",
              "          const dataTable =\n",
              "            await google.colab.kernel.invokeFunction('convertToInteractive',\n",
              "                                                     [key], {});\n",
              "          if (!dataTable) return;\n",
              "\n",
              "          const docLinkHtml = 'Like what you see? Visit the ' +\n",
              "            '<a target=\"_blank\" href=https://colab.research.google.com/notebooks/data_table.ipynb>data table notebook</a>'\n",
              "            + ' to learn more about interactive tables.';\n",
              "          element.innerHTML = '';\n",
              "          dataTable['output_type'] = 'display_data';\n",
              "          await google.colab.output.renderOutput(dataTable, element);\n",
              "          const docLink = document.createElement('div');\n",
              "          docLink.innerHTML = docLinkHtml;\n",
              "          element.appendChild(docLink);\n",
              "        }\n",
              "      </script>\n",
              "    </div>\n",
              "  </div>\n",
              "  "
            ]
          },
          "metadata": {},
          "execution_count": 16
        }
      ],
      "source": [
        "pd.crosstab(flights_df.Month, flights_df.DayOfWeek)"
      ]
    },
    {
      "cell_type": "markdown",
      "metadata": {
        "id": "LltuqpO23WQf"
      },
      "source": [
        "**It can also be handy to color such tables in order to easily notice outliers:**"
      ]
    },
    {
      "cell_type": "code",
      "execution_count": 17,
      "metadata": {
        "scrolled": true,
        "id": "XR_gSd0r3WQf",
        "outputId": "576a9eb8-51c2-49a2-ae16-7fa61f56da38",
        "colab": {
          "base_uri": "https://localhost:8080/",
          "height": 243
        }
      },
      "outputs": [
        {
          "output_type": "display_data",
          "data": {
            "text/plain": [
              "<Figure size 432x288 with 1 Axes>"
            ],
            "image/png": "[encoded data removed]"
          },
          "metadata": {
            "needs_background": "light"
          }
        }
      ],
      "source": [
        "plt.imshow(pd.crosstab(flights_df.Month, flights_df.DayOfWeek),\n",
        "           cmap='seismic', interpolation='none');"
      ]
    },
    {
      "cell_type": "markdown",
      "metadata": {
        "id": "-sXio7Bf3WQf"
      },
      "source": [
        "**Flight distance histogram:**"
      ]
    },
    {
      "cell_type": "code",
      "execution_count": 18,
      "metadata": {
        "scrolled": false,
        "id": "NkPNy2wl3WQf",
        "outputId": "f1fe014c-2538-4d6a-8794-4c1cb9b8499e",
        "colab": {
          "base_uri": "https://localhost:8080/",
          "height": 281
        }
      },
      "outputs": [
        {
          "output_type": "display_data",
          "data": {
            "text/plain": [
              "<Figure size 432x288 with 1 Axes>"
            ],
            "image/png": "[encoded data removed]"
          },
          "metadata": {
            "needs_background": "light"
          }
        }
      ],
      "source": [
        "flights_df.hist('Distance', bins=20);"
      ]
    },
    {
      "cell_type": "markdown",
      "metadata": {
        "id": "ceUdMoE83WQf"
      },
      "source": [
        "**Making a histogram of flight frequency by date.**"
      ]
    },
    {
      "cell_type": "code",
      "execution_count": 19,
      "metadata": {
        "id": "TT3WfEoU3WQf"
      },
      "outputs": [],
      "source": [
        "flights_df['Date'] = pd.to_datetime(flights_df.rename(\n",
        "    columns={'DayofMonth': 'Day'})[['Year', 'Month', 'Day']])"
      ]
    },
    {
      "cell_type": "code",
      "execution_count": 20,
      "metadata": {
        "id": "emSfQUXy3WQf"
      },
      "outputs": [],
      "source": [
        "num_flights_by_date = flights_df.groupby('Date').size()"
      ]
    },
    {
      "cell_type": "code",
      "execution_count": 21,
      "metadata": {
        "scrolled": true,
        "id": "T6OE-0_a3WQf",
        "outputId": "dfe28ace-b358-4936-c26f-b86fe24e0501",
        "colab": {
          "base_uri": "https://localhost:8080/",
          "height": 309
        }
      },
      "outputs": [
        {
          "output_type": "execute_result",
          "data": {
            "text/plain": [
              "<Axes: xlabel='Date'>"
            ]
          },
          "metadata": {},
          "execution_count": 21
        },
        {
          "output_type": "display_data",
          "data": {
            "text/plain": [
              "<Figure size 432x288 with 1 Axes>"
            ],
            "image/png": "[encoded data removed]"
          },
          "metadata": {
            "needs_background": "light"
          }
        }
      ],
      "source": [
        "num_flights_by_date.plot()"
      ]
    },
    {
      "cell_type": "markdown",
      "metadata": {
        "id": "s7oo3FYW3WQf"
      },
      "source": [
        "**Do you see a weekly pattern above? And below?**"
      ]
    },
    {
      "cell_type": "markdown",
      "metadata": {
        "id": "Ak_T_MO23WQg"
      },
      "source": [
        "### Now it's your turn. Answer the questions below.\n",
        "\n",
        "##### The next 20 questions is going to be very tasking so get ready, but don't worry it's easy"
      ]
    },
    {
      "cell_type": "code",
      "source": [
        "#Count of Completed and Cancelled. \n",
        "flights_df['Cancelled'].value_counts()\n",
        "#The difference between both is 2260333"
      ],
      "metadata": {
        "id": "08Ki-VHk_Ml0",
        "outputId": "9d35388d-a06e-44cc-d707-25d322d18072",
        "colab": {
          "base_uri": "https://localhost:8080/"
        }
      },
      "execution_count": 23,
      "outputs": [
        {
          "output_type": "execute_result",
          "data": {
            "text/plain": [
              "0    2324775\n",
              "1      64442\n",
              "Name: Cancelled, dtype: int64"
            ]
          },
          "metadata": {},
          "execution_count": 23
        }
      ]
    },
    {
      "cell_type": "code",
      "source": [
        "flights_df.loc[flights_df['DepDelay'].idxmax()]"
      ],
      "metadata": {
        "id": "PNSlNRhe_cFY",
        "outputId": "299d44f0-aa6e-41db-e6fb-fc904936da81",
        "colab": {
          "base_uri": "https://localhost:8080/"
        }
      },
      "execution_count": 22,
      "outputs": [
        {
          "output_type": "execute_result",
          "data": {
            "text/plain": [
              "Year                                2008\n",
              "Month                                  4\n",
              "DayofMonth                            10\n",
              "DayOfWeek                              4\n",
              "DepTime                            724.0\n",
              "UniqueCarrier                         NW\n",
              "FlightNum                           1699\n",
              "ArrDelay                          2452.0\n",
              "DepDelay                          2468.0\n",
              "Origin                               CLT\n",
              "Dest                                 MSP\n",
              "Distance                             930\n",
              "Cancelled                              0\n",
              "CancellationCode                     NaN\n",
              "CarrierDelay                      2436.0\n",
              "WeatherDelay                         0.0\n",
              "NASDelay                             0.0\n",
              "SecurityDelay                        0.0\n",
              "LateAircraftDelay                   17.0\n",
              "Date                 2008-04-10 00:00:00\n",
              "Name: 2235384, dtype: object"
            ]
          },
          "metadata": {},
          "execution_count": 22
        }
      ]
    },
    {
      "cell_type": "code",
      "source": [
        "flights_df.loc[flights_df['ArrDelay'].idxmax()]"
      ],
      "metadata": {
        "id": "MgSoAdIEDYOZ",
        "outputId": "f169f5a3-5263-49e3-c6dc-620c528fb5de",
        "colab": {
          "base_uri": "https://localhost:8080/"
        }
      },
      "execution_count": 23,
      "outputs": [
        {
          "output_type": "execute_result",
          "data": {
            "text/plain": [
              "Year                                2008\n",
              "Month                                  2\n",
              "DayofMonth                             3\n",
              "DayOfWeek                              7\n",
              "DepTime                           1117.0\n",
              "UniqueCarrier                         NW\n",
              "FlightNum                            808\n",
              "ArrDelay                          2460.0\n",
              "DepDelay                          2456.0\n",
              "Origin                               HNL\n",
              "Dest                                 MSP\n",
              "Distance                            3972\n",
              "Cancelled                              0\n",
              "CancellationCode                     NaN\n",
              "CarrierDelay                      1455.0\n",
              "WeatherDelay                         0.0\n",
              "NASDelay                             4.0\n",
              "SecurityDelay                        0.0\n",
              "LateAircraftDelay                 1002.0\n",
              "Date                 2008-02-03 00:00:00\n",
              "Name: 1018504, dtype: object"
            ]
          },
          "metadata": {},
          "execution_count": 23
        }
      ]
    },
    {
      "cell_type": "markdown",
      "source": [
        "The destination airport with the longest arrival and departure delay is the MSP airport with 2460 and 2468 minutes."
      ],
      "metadata": {
        "id": "dNkuB4Qh-GYi"
      }
    },
    {
      "cell_type": "code",
      "source": [
        "groups = flights_df.groupby(['Cancelled','UniqueCarrier']).size()\n",
        "print(groups)"
      ],
      "metadata": {
        "id": "XStd6kKhFWro",
        "outputId": "1c65f99e-45e6-4b0a-d38d-c222b043db6d",
        "colab": {
          "base_uri": "https://localhost:8080/"
        }
      },
      "execution_count": 26,
      "outputs": [
        {
          "output_type": "stream",
          "name": "stdout",
          "text": [
            "Cancelled  UniqueCarrier\n",
            "0          9E                84262\n",
            "           AA               193735\n",
            "           AQ                 7758\n",
            "           AS                49081\n",
            "           B6                66576\n",
            "           CO               101618\n",
            "           DL               148358\n",
            "           EV                90037\n",
            "           F9                30582\n",
            "           FL                85953\n",
            "           HA                18273\n",
            "           MQ               158900\n",
            "           NW               121392\n",
            "           OH                69316\n",
            "           OO               188411\n",
            "           UA               149420\n",
            "           US               151149\n",
            "           WN               394586\n",
            "           XE               134832\n",
            "           YV                80536\n",
            "1          9E                 4097\n",
            "           AA                10784\n",
            "           AQ                   42\n",
            "           AS                  804\n",
            "           B6                  902\n",
            "           CO                 1084\n",
            "           DL                 3051\n",
            "           EV                 2346\n",
            "           F9                   98\n",
            "           FL                  903\n",
            "           HA                  112\n",
            "           MQ                 8960\n",
            "           NW                 1407\n",
            "           OH                 2618\n",
            "           OO                 6773\n",
            "           UA                 4616\n",
            "           US                 2390\n",
            "           WN                 4380\n",
            "           XE                 3925\n",
            "           YV                 5150\n",
            "dtype: int64\n"
          ]
        }
      ]
    },
    {
      "cell_type": "markdown",
      "source": [
        "The carrier with the highest cancellation is AA with 10784"
      ],
      "metadata": {
        "id": "AZK3zwvO_TsQ"
      }
    },
    {
      "cell_type": "code",
      "source": [
        "flights_df[\"DepTime\"].isnull().values.any()"
      ],
      "metadata": {
        "id": "LxNZ1Dbz0Hqm",
        "outputId": "9786ee91-eb16-4065-c480-f6e446bbbf6e",
        "colab": {
          "base_uri": "https://localhost:8080/"
        }
      },
      "execution_count": 27,
      "outputs": [
        {
          "output_type": "execute_result",
          "data": {
            "text/plain": [
              "True"
            ]
          },
          "metadata": {},
          "execution_count": 27
        }
      ]
    },
    {
      "cell_type": "code",
      "source": [
        "flights_df['DepTime'] = flights_df['DepTime'].astype(str).str.zfill(4)\n",
        "flights_df['DepTime'].head(10)"
      ],
      "metadata": {
        "id": "2sNBID1s50Xj",
        "outputId": "3199edc5-82b9-4475-873f-2c657d887272",
        "colab": {
          "base_uri": "https://localhost:8080/"
        }
      },
      "execution_count": 28,
      "outputs": [
        {
          "output_type": "execute_result",
          "data": {
            "text/plain": [
              "0    1343.0\n",
              "1    1125.0\n",
              "2    2009.0\n",
              "3     903.0\n",
              "4    1423.0\n",
              "5    2024.0\n",
              "6    1753.0\n",
              "7     622.0\n",
              "8    1944.0\n",
              "9    1453.0\n",
              "Name: DepTime, dtype: object"
            ]
          },
          "metadata": {},
          "execution_count": 28
        }
      ]
    },
    {
      "cell_type": "code",
      "source": [
        "flights_df['DepTime'] = flights_df['DepTime'].apply(lambda x: x.zfill(4))\n",
        "flights_df['DepTime'].head(10)"
      ],
      "metadata": {
        "id": "x6nBIrxj6WUL",
        "outputId": "a154ca23-0a70-42c9-ca1b-4c040c91278a",
        "colab": {
          "base_uri": "https://localhost:8080/"
        }
      },
      "execution_count": 29,
      "outputs": [
        {
          "output_type": "execute_result",
          "data": {
            "text/plain": [
              "0    1343.0\n",
              "1    1125.0\n",
              "2    2009.0\n",
              "3     903.0\n",
              "4    1423.0\n",
              "5    2024.0\n",
              "6    1753.0\n",
              "7     622.0\n",
              "8    1944.0\n",
              "9    1453.0\n",
              "Name: DepTime, dtype: object"
            ]
          },
          "metadata": {},
          "execution_count": 29
        }
      ]
    },
    {
      "cell_type": "code",
      "source": [
        "flights_df['New_Deptime'] = flights_df['DepTime'].str[0:2]\n",
        "flights_df['New_Deptime'].head()"
      ],
      "metadata": {
        "id": "HUkvaHtZ-aMK",
        "outputId": "c639f13f-ce1f-4dc8-d3bf-6c8dc0afcf6e",
        "colab": {
          "base_uri": "https://localhost:8080/"
        }
      },
      "execution_count": 30,
      "outputs": [
        {
          "output_type": "execute_result",
          "data": {
            "text/plain": [
              "0    13\n",
              "1    11\n",
              "2    20\n",
              "3    90\n",
              "4    14\n",
              "Name: New_Deptime, dtype: object"
            ]
          },
          "metadata": {},
          "execution_count": 30
        }
      ]
    },
    {
      "cell_type": "code",
      "source": [
        "results = flights_df.groupby(['Cancelled', 'New_Deptime']).size().sort_values(ascending=False)\n",
        "results"
      ],
      "metadata": {
        "id": "i0Axk-4W_7Kj",
        "outputId": "4d50a019-42b5-4d29-ef6b-56864d155d47",
        "colab": {
          "base_uri": "https://localhost:8080/"
        }
      },
      "execution_count": 31,
      "outputs": [
        {
          "output_type": "execute_result",
          "data": {
            "text/plain": [
              "Cancelled  New_Deptime\n",
              "0          11             150214\n",
              "           16             147800\n",
              "           17             147614\n",
              "           13             147255\n",
              "           10             144795\n",
              "                           ...  \n",
              "           47                 99\n",
              "           57                 88\n",
              "           58                 80\n",
              "           56                 75\n",
              "           59                 61\n",
              "Length: 84, dtype: int64"
            ]
          },
          "metadata": {},
          "execution_count": 31
        }
      ]
    },
    {
      "cell_type": "markdown",
      "source": [
        "The time with the highest number of departing flights is 11am"
      ],
      "metadata": {
        "id": "Hno2d4ca_uAq"
      }
    },
    {
      "cell_type": "code",
      "source": [
        "results = flights_df.groupby(['Cancelled', 'Month']).size().sort_values(ascending=True)\n",
        "results"
      ],
      "metadata": {
        "id": "5H4rGzgaEWC-",
        "outputId": "89af52b8-0272-4ac9-f9b9-642318c2bb07",
        "colab": {
          "base_uri": "https://localhost:8080/"
        }
      },
      "execution_count": 32,
      "outputs": [
        {
          "output_type": "execute_result",
          "data": {
            "text/plain": [
              "Cancelled  Month\n",
              "1          4         10355\n",
              "           3         16183\n",
              "           1         17308\n",
              "           2         20596\n",
              "0          2        548640\n",
              "           4        587771\n",
              "           1        588457\n",
              "           3        599907\n",
              "dtype: int64"
            ]
          },
          "metadata": {},
          "execution_count": 32
        }
      ]
    },
    {
      "cell_type": "markdown",
      "source": [
        "The month with the highest number of cancelled flights is month 4"
      ],
      "metadata": {
        "id": "Nn9NhAVvBAwD"
      }
    },
    {
      "cell_type": "markdown",
      "source": [
        "The months are only from Numbers 1-4. As such all the options in the questions do not apply."
      ],
      "metadata": {
        "id": "wmEtkRnYBWyX"
      }
    },
    {
      "cell_type": "code",
      "source": [
        "completed_trips = flights_df[flights_df['Cancelled'] == 0]\n"
      ],
      "metadata": {
        "id": "CnteLLKoCnn4"
      },
      "execution_count": null,
      "outputs": []
    },
    {
      "cell_type": "code",
      "source": [
        "flights_df['New_Deptime'].value_counts()"
      ],
      "metadata": {
        "id": "GsOKWVcSE1Qh",
        "outputId": "c0a1c021-c20f-4b81-a034-9e93f10c6c03",
        "colab": {
          "base_uri": "https://localhost:8080/"
        }
      },
      "execution_count": 54,
      "outputs": [
        {
          "output_type": "execute_result",
          "data": {
            "text/plain": [
              "11    150113\n",
              "16    147702\n",
              "17    147496\n",
              "13    147152\n",
              "10    144648\n",
              "       ...  \n",
              "42        40\n",
              "40        38\n",
              "41        34\n",
              "33        29\n",
              "34        14\n",
              "Name: New_Deptime, Length: 64, dtype: int64"
            ]
          },
          "metadata": {},
          "execution_count": 54
        }
      ]
    },
    {
      "cell_type": "code",
      "source": [
        "flights_delay = flights_df[flights_df['DepDelay'] < 0]\n",
        "flights_delay.head()"
      ],
      "metadata": {
        "id": "mVW-TbBhJGaN",
        "outputId": "f64ef46c-f93b-4922-f3e2-c4c77d451ef8",
        "colab": {
          "base_uri": "https://localhost:8080/",
          "height": 386
        }
      },
      "execution_count": 56,
      "outputs": [
        {
          "output_type": "execute_result",
          "data": {
            "text/plain": [
              "    Year  Month  DayofMonth  DayOfWeek DepTime UniqueCarrier  FlightNum  \\\n",
              "2   2008      1           3          4  2009.0            WN       3841   \n",
              "8   2008      1           3          4  1944.0            WN        389   \n",
              "15  2008      1           3          4  1758.0            WN         41   \n",
              "21  2008      1           3          4   824.0            WN        880   \n",
              "27  2008      1           3          4   929.0            WN       2011   \n",
              "\n",
              "    ArrDelay  DepDelay Origin  ... Distance  Cancelled  CancellationCode  \\\n",
              "2       -4.0      -6.0    HOU  ...      441          0               NaN   \n",
              "8       -5.0      -1.0    HOU  ...      937          0               NaN   \n",
              "15      -6.0      -2.0    HOU  ...      303          0               NaN   \n",
              "21      -3.0      -1.0    HOU  ...      303          0               NaN   \n",
              "27      -7.0      -1.0    HOU  ...     1642          0               NaN   \n",
              "\n",
              "   CarrierDelay  WeatherDelay  NASDelay  SecurityDelay  LateAircraftDelay  \\\n",
              "2           NaN           NaN       NaN            NaN                NaN   \n",
              "8           NaN           NaN       NaN            NaN                NaN   \n",
              "15          NaN           NaN       NaN            NaN                NaN   \n",
              "21          NaN           NaN       NaN            NaN                NaN   \n",
              "27          NaN           NaN       NaN            NaN                NaN   \n",
              "\n",
              "         Date New_Deptime  \n",
              "2  2008-01-03          20  \n",
              "8  2008-01-03          19  \n",
              "15 2008-01-03          17  \n",
              "21 2008-01-03          82  \n",
              "27 2008-01-03          92  \n",
              "\n",
              "[5 rows x 21 columns]"
            ],
            "text/html": [
              "\n",
              "  <div id=\"df-a77cba8d-448f-4da2-8237-1a3ad54e0720\">\n",
              "    <div class=\"colab-df-container\">\n",
              "      <div>\n",
              "<style scoped>\n",
              "    .dataframe tbody tr th:only-of-type {\n",
              "        vertical-align: middle;\n",
              "    }\n",
              "\n",
              "    .dataframe tbody tr th {\n",
              "        vertical-align: top;\n",
              "    }\n",
              "\n",
              "    .dataframe thead th {\n",
              "        text-align: right;\n",
              "    }\n",
              "</style>\n",
              "<table border=\"1\" class=\"dataframe\">\n",
              "  <thead>\n",
              "    <tr style=\"text-align: right;\">\n",
              "      <th></th>\n",
              "      <th>Year</th>\n",
              "      <th>Month</th>\n",
              "      <th>DayofMonth</th>\n",
              "      <th>DayOfWeek</th>\n",
              "      <th>DepTime</th>\n",
              "      <th>UniqueCarrier</th>\n",
              "      <th>FlightNum</th>\n",
              "      <th>ArrDelay</th>\n",
              "      <th>DepDelay</th>\n",
              "      <th>Origin</th>\n",
              "      <th>...</th>\n",
              "      <th>Distance</th>\n",
              "      <th>Cancelled</th>\n",
              "      <th>CancellationCode</th>\n",
              "      <th>CarrierDelay</th>\n",
              "      <th>WeatherDelay</th>\n",
              "      <th>NASDelay</th>\n",
              "      <th>SecurityDelay</th>\n",
              "      <th>LateAircraftDelay</th>\n",
              "      <th>Date</th>\n",
              "      <th>New_Deptime</th>\n",
              "    </tr>\n",
              "  </thead>\n",
              "  <tbody>\n",
              "    <tr>\n",
              "      <th>2</th>\n",
              "      <td>2008</td>\n",
              "      <td>1</td>\n",
              "      <td>3</td>\n",
              "      <td>4</td>\n",
              "      <td>2009.0</td>\n",
              "      <td>WN</td>\n",
              "      <td>3841</td>\n",
              "      <td>-4.0</td>\n",
              "      <td>-6.0</td>\n",
              "      <td>HOU</td>\n",
              "      <td>...</td>\n",
              "      <td>441</td>\n",
              "      <td>0</td>\n",
              "      <td>NaN</td>\n",
              "      <td>NaN</td>\n",
              "      <td>NaN</td>\n",
              "      <td>NaN</td>\n",
              "      <td>NaN</td>\n",
              "      <td>NaN</td>\n",
              "      <td>2008-01-03</td>\n",
              "      <td>20</td>\n",
              "    </tr>\n",
              "    <tr>\n",
              "      <th>8</th>\n",
              "      <td>2008</td>\n",
              "      <td>1</td>\n",
              "      <td>3</td>\n",
              "      <td>4</td>\n",
              "      <td>1944.0</td>\n",
              "      <td>WN</td>\n",
              "      <td>389</td>\n",
              "      <td>-5.0</td>\n",
              "      <td>-1.0</td>\n",
              "      <td>HOU</td>\n",
              "      <td>...</td>\n",
              "      <td>937</td>\n",
              "      <td>0</td>\n",
              "      <td>NaN</td>\n",
              "      <td>NaN</td>\n",
              "      <td>NaN</td>\n",
              "      <td>NaN</td>\n",
              "      <td>NaN</td>\n",
              "      <td>NaN</td>\n",
              "      <td>2008-01-03</td>\n",
              "      <td>19</td>\n",
              "    </tr>\n",
              "    <tr>\n",
              "      <th>15</th>\n",
              "      <td>2008</td>\n",
              "      <td>1</td>\n",
              "      <td>3</td>\n",
              "      <td>4</td>\n",
              "      <td>1758.0</td>\n",
              "      <td>WN</td>\n",
              "      <td>41</td>\n",
              "      <td>-6.0</td>\n",
              "      <td>-2.0</td>\n",
              "      <td>HOU</td>\n",
              "      <td>...</td>\n",
              "      <td>303</td>\n",
              "      <td>0</td>\n",
              "      <td>NaN</td>\n",
              "      <td>NaN</td>\n",
              "      <td>NaN</td>\n",
              "      <td>NaN</td>\n",
              "      <td>NaN</td>\n",
              "      <td>NaN</td>\n",
              "      <td>2008-01-03</td>\n",
              "      <td>17</td>\n",
              "    </tr>\n",
              "    <tr>\n",
              "      <th>21</th>\n",
              "      <td>2008</td>\n",
              "      <td>1</td>\n",
              "      <td>3</td>\n",
              "      <td>4</td>\n",
              "      <td>824.0</td>\n",
              "      <td>WN</td>\n",
              "      <td>880</td>\n",
              "      <td>-3.0</td>\n",
              "      <td>-1.0</td>\n",
              "      <td>HOU</td>\n",
              "      <td>...</td>\n",
              "      <td>303</td>\n",
              "      <td>0</td>\n",
              "      <td>NaN</td>\n",
              "      <td>NaN</td>\n",
              "      <td>NaN</td>\n",
              "      <td>NaN</td>\n",
              "      <td>NaN</td>\n",
              "      <td>NaN</td>\n",
              "      <td>2008-01-03</td>\n",
              "      <td>82</td>\n",
              "    </tr>\n",
              "    <tr>\n",
              "      <th>27</th>\n",
              "      <td>2008</td>\n",
              "      <td>1</td>\n",
              "      <td>3</td>\n",
              "      <td>4</td>\n",
              "      <td>929.0</td>\n",
              "      <td>WN</td>\n",
              "      <td>2011</td>\n",
              "      <td>-7.0</td>\n",
              "      <td>-1.0</td>\n",
              "      <td>HOU</td>\n",
              "      <td>...</td>\n",
              "      <td>1642</td>\n",
              "      <td>0</td>\n",
              "      <td>NaN</td>\n",
              "      <td>NaN</td>\n",
              "      <td>NaN</td>\n",
              "      <td>NaN</td>\n",
              "      <td>NaN</td>\n",
              "      <td>NaN</td>\n",
              "      <td>2008-01-03</td>\n",
              "      <td>92</td>\n",
              "    </tr>\n",
              "  </tbody>\n",
              "</table>\n",
              "<p>5 rows × 21 columns</p>\n",
              "</div>\n",
              "      <button class=\"colab-df-convert\" onclick=\"convertToInteractive('df-a77cba8d-448f-4da2-8237-1a3ad54e0720')\"\n",
              "              title=\"Convert this dataframe to an interactive table.\"\n",
              "              style=\"display:none;\">\n",
              "        \n",
              "  <svg xmlns=\"http://www.w3.org/2000/svg\" height=\"24px\"viewBox=\"0 0 24 24\"\n",
              "       width=\"24px\">\n",
              "    <path d=\"M0 0h24v24H0V0z\" fill=\"none\"/>\n",
              "    <path d=\"M18.56 5.44l.94 2.06.94-2.06 2.06-.94-2.06-.94-.94-2.06-.94 2.06-2.06.94zm-11 1L8.5 8.5l.94-2.06 2.06-.94-2.06-.94L8.5 2.5l-.94 2.06-2.06.94zm10 10l.94 2.06.94-2.06 2.06-.94-2.06-.94-.94-2.06-.94 2.06-2.06.94z\"/><path d=\"M17.41 7.96l-1.37-1.37c-.4-.4-.92-.59-1.43-.59-.52 0-1.04.2-1.43.59L10.3 9.45l-7.72 7.72c-.78.78-.78 2.05 0 2.83L4 21.41c.39.39.9.59 1.41.59.51 0 1.02-.2 1.41-.59l7.78-7.78 2.81-2.81c.8-.78.8-2.07 0-2.86zM5.41 20L4 18.59l7.72-7.72 1.47 1.35L5.41 20z\"/>\n",
              "  </svg>\n",
              "      </button>\n",
              "      \n",
              "  <style>\n",
              "    .colab-df-container {\n",
              "      display:flex;\n",
              "      flex-wrap:wrap;\n",
              "      gap: 12px;\n",
              "    }\n",
              "\n",
              "    .colab-df-convert {\n",
              "      background-color: #E8F0FE;\n",
              "      border: none;\n",
              "      border-radius: 50%;\n",
              "      cursor: pointer;\n",
              "      display: none;\n",
              "      fill: #1967D2;\n",
              "      height: 32px;\n",
              "      padding: 0 0 0 0;\n",
              "      width: 32px;\n",
              "    }\n",
              "\n",
              "    .colab-df-convert:hover {\n",
              "      background-color: #E2EBFA;\n",
              "      box-shadow: 0px 1px 2px rgba(60, 64, 67, 0.3), 0px 1px 3px 1px rgba(60, 64, 67, 0.15);\n",
              "      fill: #174EA6;\n",
              "    }\n",
              "\n",
              "    [theme=dark] .colab-df-convert {\n",
              "      background-color: #3B4455;\n",
              "      fill: #D2E3FC;\n",
              "    }\n",
              "\n",
              "    [theme=dark] .colab-df-convert:hover {\n",
              "      background-color: #434B5C;\n",
              "      box-shadow: 0px 1px 3px 1px rgba(0, 0, 0, 0.15);\n",
              "      filter: drop-shadow(0px 1px 2px rgba(0, 0, 0, 0.3));\n",
              "      fill: #FFFFFF;\n",
              "    }\n",
              "  </style>\n",
              "\n",
              "      <script>\n",
              "        const buttonEl =\n",
              "          document.querySelector('#df-a77cba8d-448f-4da2-8237-1a3ad54e0720 button.colab-df-convert');\n",
              "        buttonEl.style.display =\n",
              "          google.colab.kernel.accessAllowed ? 'block' : 'none';\n",
              "\n",
              "        async function convertToInteractive(key) {\n",
              "          const element = document.querySelector('#df-a77cba8d-448f-4da2-8237-1a3ad54e0720');\n",
              "          const dataTable =\n",
              "            await google.colab.kernel.invokeFunction('convertToInteractive',\n",
              "                                                     [key], {});\n",
              "          if (!dataTable) return;\n",
              "\n",
              "          const docLinkHtml = 'Like what you see? Visit the ' +\n",
              "            '<a target=\"_blank\" href=https://colab.research.google.com/notebooks/data_table.ipynb>data table notebook</a>'\n",
              "            + ' to learn more about interactive tables.';\n",
              "          element.innerHTML = '';\n",
              "          dataTable['output_type'] = 'display_data';\n",
              "          await google.colab.output.renderOutput(dataTable, element);\n",
              "          const docLink = document.createElement('div');\n",
              "          docLink.innerHTML = docLinkHtml;\n",
              "          element.appendChild(docLink);\n",
              "        }\n",
              "      </script>\n",
              "    </div>\n",
              "  </div>\n",
              "  "
            ]
          },
          "metadata": {},
          "execution_count": 56
        }
      ]
    },
    {
      "cell_type": "code",
      "source": [
        "flights_delay.groupby('New_Deptime')['DepDelay'].sum().sort_values(ascending=False)"
      ],
      "metadata": {
        "id": "g5QpaRrXMdhf",
        "outputId": "c9de5a53-705c-4cd5-fea8-0f0851892cee",
        "colab": {
          "base_uri": "https://localhost:8080/"
        }
      },
      "execution_count": 57,
      "outputs": [
        {
          "output_type": "execute_result",
          "data": {
            "text/plain": [
              "New_Deptime\n",
              "34   -12.0\n",
              "41   -35.0\n",
              "33   -37.0\n",
              "24   -56.0\n",
              "30   -70.0\n",
              "      ... \n",
              "10    -inf\n",
              "20    -inf\n",
              "60    -inf\n",
              "62    -inf\n",
              "95    -inf\n",
              "Name: DepDelay, Length: 64, dtype: float16"
            ]
          },
          "metadata": {},
          "execution_count": 57
        }
      ]
    },
    {
      "cell_type": "code",
      "source": [
        "#flights_df[\"DepTime\"].fillna(0, inplace = True)\n",
        "flights_df['DepTime'] = flights_df['DepTime'].astype(str)\n",
        "flights_df['DepTime'] = flights_df['DepTime'].apply(lambda x: x.zfill(4))\n",
        "\n",
        "flights_df['DepTime'] = flights_df['DepTime'].str.strip()\n",
        "#flights_df.head()\n",
        "\n",
        "def dep_time(df):\n",
        "  try:\n",
        "    dt = pd.to_datetime(df, format= '%H%M')\n",
        "    return dt.time\n",
        "  except ValueError:\n",
        "    return str(0)\n",
        "\n",
        "flights_df['New_Deptime'] = dep_time(flights_df['DepTime'])\n",
        "flights_df['New_Deptime']\n",
        "#flights_df['New_Deptime'] = dep_time(flights_df[\"DepTime\"])\n",
        "#flights_df.head()\n",
        "#flights_df['DepTime'] = flights_df['DepTime'].apply(lambda x: x.zfill(4))\n",
        "#flights_df['DepTime'] = flights_df['DepTime'].astype('timedelta64[h]')\n",
        "#flights_df.head()"
      ],
      "metadata": {
        "id": "jhGqgHkPY3FJ",
        "outputId": "d7a94cb3-3c74-4ae7-ebb5-b4d1c045cfda",
        "colab": {
          "base_uri": "https://localhost:8080/"
        }
      },
      "execution_count": 35,
      "outputs": [
        {
          "output_type": "execute_result",
          "data": {
            "text/plain": [
              "0          0\n",
              "1          0\n",
              "2          0\n",
              "3          0\n",
              "4          0\n",
              "          ..\n",
              "2389212    0\n",
              "2389213    0\n",
              "2389214    0\n",
              "2389215    0\n",
              "2389216    0\n",
              "Name: New_Deptime, Length: 2389217, dtype: object"
            ]
          },
          "metadata": {},
          "execution_count": 35
        }
      ]
    },
    {
      "cell_type": "code",
      "source": [
        "flights_df.groupby(['Cancelled', 'Month']).size()#.plot(kind='bar');"
      ],
      "metadata": {
        "id": "7ojIHScbK_np",
        "outputId": "cc585caa-97b7-4ce1-ab71-4d6b99ffc13a",
        "colab": {
          "base_uri": "https://localhost:8080/"
        }
      },
      "execution_count": 29,
      "outputs": [
        {
          "output_type": "execute_result",
          "data": {
            "text/plain": [
              "Cancelled  Month\n",
              "0          1        588457\n",
              "           2        548640\n",
              "           3        599907\n",
              "           4        587771\n",
              "1          1         17308\n",
              "           2         20596\n",
              "           3         16183\n",
              "           4         10355\n",
              "dtype: int64"
            ]
          },
          "metadata": {},
          "execution_count": 29
        }
      ]
    },
    {
      "cell_type": "code",
      "source": [
        "flights_df['Month'].value_counts()"
      ],
      "metadata": {
        "id": "3UKHm1Q2ti4J",
        "outputId": "a6a60929-e473-468b-f6b0-1882523f30cf",
        "colab": {
          "base_uri": "https://localhost:8080/"
        }
      },
      "execution_count": 30,
      "outputs": [
        {
          "output_type": "execute_result",
          "data": {
            "text/plain": [
              "3    616090\n",
              "1    605765\n",
              "4    598126\n",
              "2    569236\n",
              "Name: Month, dtype: int64"
            ]
          },
          "metadata": {},
          "execution_count": 30
        }
      ]
    },
    {
      "cell_type": "code",
      "source": [
        "flights_df.head()"
      ],
      "metadata": {
        "id": "ThyWrb_Z4AKx",
        "outputId": "ff4cb74a-7755-4038-c4e6-c7cae8787f61",
        "colab": {
          "base_uri": "https://localhost:8080/",
          "height": 386
        }
      },
      "execution_count": 36,
      "outputs": [
        {
          "output_type": "execute_result",
          "data": {
            "text/plain": [
              "   Year  Month  DayofMonth  DayOfWeek DepTime UniqueCarrier  FlightNum  \\\n",
              "0  2008      1           3          4  1343.0            WN        588   \n",
              "1  2008      1           3          4  1125.0            WN       1343   \n",
              "2  2008      1           3          4  2009.0            WN       3841   \n",
              "3  2008      1           3          4   903.0            WN          3   \n",
              "4  2008      1           3          4  1423.0            WN         25   \n",
              "\n",
              "   ArrDelay  DepDelay Origin  ... Distance  Cancelled  CancellationCode  \\\n",
              "0      16.0      18.0    HOU  ...      393          0               NaN   \n",
              "1       2.0       5.0    HOU  ...      441          0               NaN   \n",
              "2      -4.0      -6.0    HOU  ...      441          0               NaN   \n",
              "3      -2.0       8.0    HOU  ...      848          0               NaN   \n",
              "4      16.0      23.0    HOU  ...      848          0               NaN   \n",
              "\n",
              "  CarrierDelay  WeatherDelay  NASDelay  SecurityDelay  LateAircraftDelay  \\\n",
              "0         16.0           0.0       0.0            0.0                0.0   \n",
              "1          NaN           NaN       NaN            NaN                NaN   \n",
              "2          NaN           NaN       NaN            NaN                NaN   \n",
              "3          NaN           NaN       NaN            NaN                NaN   \n",
              "4         16.0           0.0       0.0            0.0                0.0   \n",
              "\n",
              "        Date New_Deptime  \n",
              "0 2008-01-03           0  \n",
              "1 2008-01-03           0  \n",
              "2 2008-01-03           0  \n",
              "3 2008-01-03           0  \n",
              "4 2008-01-03           0  \n",
              "\n",
              "[5 rows x 21 columns]"
            ],
            "text/html": [
              "\n",
              "  <div id=\"df-2fb9741b-4f4c-425f-9f7c-9d3e1cb18a60\">\n",
              "    <div class=\"colab-df-container\">\n",
              "      <div>\n",
              "<style scoped>\n",
              "    .dataframe tbody tr th:only-of-type {\n",
              "        vertical-align: middle;\n",
              "    }\n",
              "\n",
              "    .dataframe tbody tr th {\n",
              "        vertical-align: top;\n",
              "    }\n",
              "\n",
              "    .dataframe thead th {\n",
              "        text-align: right;\n",
              "    }\n",
              "</style>\n",
              "<table border=\"1\" class=\"dataframe\">\n",
              "  <thead>\n",
              "    <tr style=\"text-align: right;\">\n",
              "      <th></th>\n",
              "      <th>Year</th>\n",
              "      <th>Month</th>\n",
              "      <th>DayofMonth</th>\n",
              "      <th>DayOfWeek</th>\n",
              "      <th>DepTime</th>\n",
              "      <th>UniqueCarrier</th>\n",
              "      <th>FlightNum</th>\n",
              "      <th>ArrDelay</th>\n",
              "      <th>DepDelay</th>\n",
              "      <th>Origin</th>\n",
              "      <th>...</th>\n",
              "      <th>Distance</th>\n",
              "      <th>Cancelled</th>\n",
              "      <th>CancellationCode</th>\n",
              "      <th>CarrierDelay</th>\n",
              "      <th>WeatherDelay</th>\n",
              "      <th>NASDelay</th>\n",
              "      <th>SecurityDelay</th>\n",
              "      <th>LateAircraftDelay</th>\n",
              "      <th>Date</th>\n",
              "      <th>New_Deptime</th>\n",
              "    </tr>\n",
              "  </thead>\n",
              "  <tbody>\n",
              "    <tr>\n",
              "      <th>0</th>\n",
              "      <td>2008</td>\n",
              "      <td>1</td>\n",
              "      <td>3</td>\n",
              "      <td>4</td>\n",
              "      <td>1343.0</td>\n",
              "      <td>WN</td>\n",
              "      <td>588</td>\n",
              "      <td>16.0</td>\n",
              "      <td>18.0</td>\n",
              "      <td>HOU</td>\n",
              "      <td>...</td>\n",
              "      <td>393</td>\n",
              "      <td>0</td>\n",
              "      <td>NaN</td>\n",
              "      <td>16.0</td>\n",
              "      <td>0.0</td>\n",
              "      <td>0.0</td>\n",
              "      <td>0.0</td>\n",
              "      <td>0.0</td>\n",
              "      <td>2008-01-03</td>\n",
              "      <td>0</td>\n",
              "    </tr>\n",
              "    <tr>\n",
              "      <th>1</th>\n",
              "      <td>2008</td>\n",
              "      <td>1</td>\n",
              "      <td>3</td>\n",
              "      <td>4</td>\n",
              "      <td>1125.0</td>\n",
              "      <td>WN</td>\n",
              "      <td>1343</td>\n",
              "      <td>2.0</td>\n",
              "      <td>5.0</td>\n",
              "      <td>HOU</td>\n",
              "      <td>...</td>\n",
              "      <td>441</td>\n",
              "      <td>0</td>\n",
              "      <td>NaN</td>\n",
              "      <td>NaN</td>\n",
              "      <td>NaN</td>\n",
              "      <td>NaN</td>\n",
              "      <td>NaN</td>\n",
              "      <td>NaN</td>\n",
              "      <td>2008-01-03</td>\n",
              "      <td>0</td>\n",
              "    </tr>\n",
              "    <tr>\n",
              "      <th>2</th>\n",
              "      <td>2008</td>\n",
              "      <td>1</td>\n",
              "      <td>3</td>\n",
              "      <td>4</td>\n",
              "      <td>2009.0</td>\n",
              "      <td>WN</td>\n",
              "      <td>3841</td>\n",
              "      <td>-4.0</td>\n",
              "      <td>-6.0</td>\n",
              "      <td>HOU</td>\n",
              "      <td>...</td>\n",
              "      <td>441</td>\n",
              "      <td>0</td>\n",
              "      <td>NaN</td>\n",
              "      <td>NaN</td>\n",
              "      <td>NaN</td>\n",
              "      <td>NaN</td>\n",
              "      <td>NaN</td>\n",
              "      <td>NaN</td>\n",
              "      <td>2008-01-03</td>\n",
              "      <td>0</td>\n",
              "    </tr>\n",
              "    <tr>\n",
              "      <th>3</th>\n",
              "      <td>2008</td>\n",
              "      <td>1</td>\n",
              "      <td>3</td>\n",
              "      <td>4</td>\n",
              "      <td>903.0</td>\n",
              "      <td>WN</td>\n",
              "      <td>3</td>\n",
              "      <td>-2.0</td>\n",
              "      <td>8.0</td>\n",
              "      <td>HOU</td>\n",
              "      <td>...</td>\n",
              "      <td>848</td>\n",
              "      <td>0</td>\n",
              "      <td>NaN</td>\n",
              "      <td>NaN</td>\n",
              "      <td>NaN</td>\n",
              "      <td>NaN</td>\n",
              "      <td>NaN</td>\n",
              "      <td>NaN</td>\n",
              "      <td>2008-01-03</td>\n",
              "      <td>0</td>\n",
              "    </tr>\n",
              "    <tr>\n",
              "      <th>4</th>\n",
              "      <td>2008</td>\n",
              "      <td>1</td>\n",
              "      <td>3</td>\n",
              "      <td>4</td>\n",
              "      <td>1423.0</td>\n",
              "      <td>WN</td>\n",
              "      <td>25</td>\n",
              "      <td>16.0</td>\n",
              "      <td>23.0</td>\n",
              "      <td>HOU</td>\n",
              "      <td>...</td>\n",
              "      <td>848</td>\n",
              "      <td>0</td>\n",
              "      <td>NaN</td>\n",
              "      <td>16.0</td>\n",
              "      <td>0.0</td>\n",
              "      <td>0.0</td>\n",
              "      <td>0.0</td>\n",
              "      <td>0.0</td>\n",
              "      <td>2008-01-03</td>\n",
              "      <td>0</td>\n",
              "    </tr>\n",
              "  </tbody>\n",
              "</table>\n",
              "<p>5 rows × 21 columns</p>\n",
              "</div>\n",
              "      <button class=\"colab-df-convert\" onclick=\"convertToInteractive('df-2fb9741b-4f4c-425f-9f7c-9d3e1cb18a60')\"\n",
              "              title=\"Convert this dataframe to an interactive table.\"\n",
              "              style=\"display:none;\">\n",
              "        \n",
              "  <svg xmlns=\"http://www.w3.org/2000/svg\" height=\"24px\"viewBox=\"0 0 24 24\"\n",
              "       width=\"24px\">\n",
              "    <path d=\"M0 0h24v24H0V0z\" fill=\"none\"/>\n",
              "    <path d=\"M18.56 5.44l.94 2.06.94-2.06 2.06-.94-2.06-.94-.94-2.06-.94 2.06-2.06.94zm-11 1L8.5 8.5l.94-2.06 2.06-.94-2.06-.94L8.5 2.5l-.94 2.06-2.06.94zm10 10l.94 2.06.94-2.06 2.06-.94-2.06-.94-.94-2.06-.94 2.06-2.06.94z\"/><path d=\"M17.41 7.96l-1.37-1.37c-.4-.4-.92-.59-1.43-.59-.52 0-1.04.2-1.43.59L10.3 9.45l-7.72 7.72c-.78.78-.78 2.05 0 2.83L4 21.41c.39.39.9.59 1.41.59.51 0 1.02-.2 1.41-.59l7.78-7.78 2.81-2.81c.8-.78.8-2.07 0-2.86zM5.41 20L4 18.59l7.72-7.72 1.47 1.35L5.41 20z\"/>\n",
              "  </svg>\n",
              "      </button>\n",
              "      \n",
              "  <style>\n",
              "    .colab-df-container {\n",
              "      display:flex;\n",
              "      flex-wrap:wrap;\n",
              "      gap: 12px;\n",
              "    }\n",
              "\n",
              "    .colab-df-convert {\n",
              "      background-color: #E8F0FE;\n",
              "      border: none;\n",
              "      border-radius: 50%;\n",
              "      cursor: pointer;\n",
              "      display: none;\n",
              "      fill: #1967D2;\n",
              "      height: 32px;\n",
              "      padding: 0 0 0 0;\n",
              "      width: 32px;\n",
              "    }\n",
              "\n",
              "    .colab-df-convert:hover {\n",
              "      background-color: #E2EBFA;\n",
              "      box-shadow: 0px 1px 2px rgba(60, 64, 67, 0.3), 0px 1px 3px 1px rgba(60, 64, 67, 0.15);\n",
              "      fill: #174EA6;\n",
              "    }\n",
              "\n",
              "    [theme=dark] .colab-df-convert {\n",
              "      background-color: #3B4455;\n",
              "      fill: #D2E3FC;\n",
              "    }\n",
              "\n",
              "    [theme=dark] .colab-df-convert:hover {\n",
              "      background-color: #434B5C;\n",
              "      box-shadow: 0px 1px 3px 1px rgba(0, 0, 0, 0.15);\n",
              "      filter: drop-shadow(0px 1px 2px rgba(0, 0, 0, 0.3));\n",
              "      fill: #FFFFFF;\n",
              "    }\n",
              "  </style>\n",
              "\n",
              "      <script>\n",
              "        const buttonEl =\n",
              "          document.querySelector('#df-2fb9741b-4f4c-425f-9f7c-9d3e1cb18a60 button.colab-df-convert');\n",
              "        buttonEl.style.display =\n",
              "          google.colab.kernel.accessAllowed ? 'block' : 'none';\n",
              "\n",
              "        async function convertToInteractive(key) {\n",
              "          const element = document.querySelector('#df-2fb9741b-4f4c-425f-9f7c-9d3e1cb18a60');\n",
              "          const dataTable =\n",
              "            await google.colab.kernel.invokeFunction('convertToInteractive',\n",
              "                                                     [key], {});\n",
              "          if (!dataTable) return;\n",
              "\n",
              "          const docLinkHtml = 'Like what you see? Visit the ' +\n",
              "            '<a target=\"_blank\" href=https://colab.research.google.com/notebooks/data_table.ipynb>data table notebook</a>'\n",
              "            + ' to learn more about interactive tables.';\n",
              "          element.innerHTML = '';\n",
              "          dataTable['output_type'] = 'display_data';\n",
              "          await google.colab.output.renderOutput(dataTable, element);\n",
              "          const docLink = document.createElement('div');\n",
              "          docLink.innerHTML = docLinkHtml;\n",
              "          element.appendChild(docLink);\n",
              "        }\n",
              "      </script>\n",
              "    </div>\n",
              "  </div>\n",
              "  "
            ]
          },
          "metadata": {},
          "execution_count": 36
        }
      ]
    },
    {
      "cell_type": "markdown",
      "metadata": {
        "id": "qC26W21g3WQj"
      },
      "source": [
        "That's it! Now go and do 30 push-ups! :). You are now a guru in Data Manipulation and Analysis with Python"
      ]
    },
    {
      "cell_type": "code",
      "execution_count": null,
      "metadata": {
        "id": "qF0ev09F3WQj"
      },
      "outputs": [],
      "source": []
    }
  ],
  "metadata": {
    "anaconda-cloud": {},
    "kernelspec": {
      "display_name": "Python 3",
      "language": "python",
      "name": "python3"
    },
    "language_info": {
      "codemirror_mode": {
        "name": "ipython",
        "version": 3
      },
      "file_extension": ".py",
      "mimetype": "text/x-python",
      "name": "python",
      "nbconvert_exporter": "python",
      "pygments_lexer": "ipython3",
      "version": "3.8.8"
    },
    "colab": {
      "provenance": [],
      "include_colab_link": true
    }
  },
  "nbformat": 4,
  "nbformat_minor": 0
}